{
 "cells": [
  {
   "cell_type": "code",
   "execution_count": 1,
   "metadata": {},
   "outputs": [
    {
     "name": "stdout",
     "output_type": "stream",
     "text": [
      "Mon Nov 27 13:58:42 2023       \n",
      "+---------------------------------------------------------------------------------------+\n",
      "| NVIDIA-SMI 530.30.02              Driver Version: 530.30.02    CUDA Version: 12.1     |\n",
      "|-----------------------------------------+----------------------+----------------------+\n",
      "| GPU  Name                  Persistence-M| Bus-Id        Disp.A | Volatile Uncorr. ECC |\n",
      "| Fan  Temp  Perf            Pwr:Usage/Cap|         Memory-Usage | GPU-Util  Compute M. |\n",
      "|                                         |                      |               MIG M. |\n",
      "|=========================================+======================+======================|\n",
      "|   0  NVIDIA GeForce RTX 3090 Ti      On | 00000000:01:00.0 Off |                  Off |\n",
      "|  0%   29C    P8               19W / 480W|    733MiB / 24564MiB |      0%      Default |\n",
      "|                                         |                      |                  N/A |\n",
      "+-----------------------------------------+----------------------+----------------------+\n",
      "                                                                                         \n",
      "+---------------------------------------------------------------------------------------+\n",
      "| Processes:                                                                            |\n",
      "|  GPU   GI   CI        PID   Type   Process name                            GPU Memory |\n",
      "|        ID   ID                                                             Usage      |\n",
      "|=======================================================================================|\n",
      "+---------------------------------------------------------------------------------------+\n"
     ]
    }
   ],
   "source": [
    "!nvidia-smi\n"
   ]
  },
  {
   "cell_type": "code",
   "execution_count": 2,
   "metadata": {},
   "outputs": [
    {
     "name": "stdout",
     "output_type": "stream",
     "text": [
      "Warning: Your Kaggle API key is readable by other users on this system! To fix this, you can run 'chmod 600 /root/.kaggle/kaggle.json'\n",
      "INFO: Pandarallel will run on 12 workers.\n",
      "INFO: Pandarallel will use Memory file system to transfer data between the main process and workers.\n",
      "env: TOKENIZERS_PARALLELISM=true\n"
     ]
    }
   ],
   "source": [
    "import sys\n",
    "sys.path.append('../')\n",
    "\n",
    "import os\n",
    "import re\n",
    "import gc\n",
    "import pdb\n",
    "import json\n",
    "import time\n",
    "import yaml\n",
    "import pickle\n",
    "import shutil\n",
    "import joblib\n",
    "import random\n",
    "import datetime\n",
    "import requests\n",
    "import warnings\n",
    "warnings.filterwarnings('ignore')\n",
    "from ast import literal_eval\n",
    "from tqdm.auto import tqdm\n",
    "from pathlib import Path\n",
    "from glob import glob\n",
    "\n",
    "import numpy as np\n",
    "import pandas as pd\n",
    "import polars as pl\n",
    "import scipy\n",
    "import itertools\n",
    "import matplotlib.pyplot as plt\n",
    "import seaborn as sns\n",
    "import plotly.express as px\n",
    "from sklearn.model_selection import (\n",
    "    StratifiedKFold,\n",
    "    KFold,\n",
    "    GroupKFold,\n",
    "    StratifiedGroupKFold\n",
    ")\n",
    "from sklearn.metrics import mean_squared_error\n",
    "from sklearn.preprocessing import StandardScaler, RobustScaler\n",
    "\n",
    "\n",
    "import torch\n",
    "import torch.nn as nn\n",
    "from torch.utils.data import Dataset, DataLoader, Subset\n",
    "from torch.utils.checkpoint import checkpoint\n",
    "from torch.cuda.amp import autocast, GradScaler\n",
    "import torch.nn.functional as F\n",
    "from torch import Tensor\n",
    "\n",
    "import transformers\n",
    "from transformers import AutoConfig, AutoModel, AutoTokenizer\n",
    "from transformers import AdamW, get_linear_schedule_with_warmup, get_cosine_schedule_with_warmup\n",
    "import tokenizers\n",
    "import sentencepiece\n",
    "from transformers import logging\n",
    "\n",
    "from pandarallel import pandarallel\n",
    "\n",
    "from kaggle.api.kaggle_api_extended import KaggleApi\n",
    "\n",
    "from kagglib.nn import EarlyStopping, AverageMeter, MCRMSELoss, MeanPooling, AttentionPooling, GeMPooling, LSTMPooling\n",
    "from kagglib.utils import get_logger, setup, seed_everything, dataset_create_new\n",
    "from kagglib.utils.exp_manage import set_wandb\n",
    "from kagglib.nlp import freeze, get_scheduler, get_optimizer_grouped_parameters, collate\n",
    "from kagglib.nlp import collate\n",
    "from kagglib.nn import get_n_params\n",
    "\n",
    "from src.metrics import event_detection_ap\n",
    "from src.utils import get_event, get_score\n",
    "from src.feature_engineering import find_similar_steps\n",
    "from src.models import (\n",
    "    DoubleConv,\n",
    "    Up,\n",
    "    Down,\n",
    "    MultiResidualBiGRU,\n",
    "    WaveNetBlock,\n",
    "    )\n",
    "\n",
    "\n",
    "\n",
    "sns.set()\n",
    "plt.style.use('ggplot')\n",
    "plt.rcParams['figure.figsize'] = (20, 5)\n",
    "pandarallel.initialize(progress_bar=True)\n",
    "logging.set_verbosity_warning()\n",
    "logging.set_verbosity_error()\n",
    "%env TOKENIZERS_PARALLELISM=true\n",
    "%load_ext autoreload\n",
    "%autoreload 2\n"
   ]
  },
  {
   "cell_type": "code",
   "execution_count": 3,
   "metadata": {},
   "outputs": [],
   "source": [
    "class Config:\n",
    "    AUTHOR = \"shu421\"\n",
    "\n",
    "    EXP = \"exp105\"\n",
    "    BASE_PATH = \"/home/working/\"\n",
    "    API_PATH = \"/root/.kaggle/kaggle.json\"\n",
    "    COMPETITION = \"child-mind-institute-detect-sleep-states\"\n",
    "\n",
    "    seed = 42\n",
    "    apex = False\n",
    "    wandb = False\n",
    "    upload = False\n",
    "\n",
    "    # training\n",
    "    n_splits = 5\n",
    "    batch_size = 32\n",
    "    n_epochs = 30\n",
    "    es_patience = 10\n",
    "    num_workers = 4\n",
    "    target_cols = [\"asleep\", \"onset\", \"wakeup\"]\n",
    "    n_targets = len(target_cols)\n",
    "    eval_steps = np.inf\n",
    "\n",
    "    train_max_length = 17280\n",
    "    train_stride = 17280\n",
    "    valid_max_length = 17280\n",
    "    valid_stride = 17280\n",
    "\n",
    "    # heatmap label\n",
    "    sigma = 12\n",
    "    pos_weight = 100\n",
    "\n",
    "    # optimizer\n",
    "    weight_decay = 0.01\n",
    "    betas = (0.9, 0.999)\n",
    "    lr = 8e-4\n",
    "    lr_weight_decay = 0.95\n",
    "    min_lr = 1e-6\n",
    "    eps = 1e-6\n",
    "    clip_grad_norm = 1000\n",
    "    gradient_accumulation_steps = 1\n",
    "\n",
    "    # scheduler\n",
    "    scheduler = \"cosine\"\n",
    "    num_cycles = 0.5\n",
    "    num_warmup_steps_rate = 0\n",
    "\n",
    "    # metrics\n",
    "    thr = 0.1\n",
    "    size = 12 * 10  # 10 min\n",
    "\n",
    "\n",
    "cfg = setup(Config)\n",
    "\n",
    "\n",
    "# set log functions\n",
    "LOGGER = get_logger(Path(cfg.log_path) / f\"{cfg.EXP}.log\")\n",
    "\n",
    "if cfg.wandb:\n",
    "    run = set_wandb(\n",
    "        cfg, name=cfg.EXP, group=cfg.model_name, config_path=\"/root/.kaggle/wandb.json\"\n",
    "    )\n"
   ]
  },
  {
   "cell_type": "markdown",
   "metadata": {},
   "source": [
    "# Data Load"
   ]
  },
  {
   "cell_type": "code",
   "execution_count": 4,
   "metadata": {},
   "outputs": [],
   "source": [
    "train_series_df = pl.read_parquet(cfg.INPUT_PATH / \"train_series.parquet\")\n",
    "train_events_df = pl.read_csv(cfg.INPUT_PATH / \"train_events.csv\")\n",
    "sample_submission = pd.read_csv(cfg.INPUT_PATH / \"sample_submission.csv\")\n"
   ]
  },
  {
   "cell_type": "code",
   "execution_count": 5,
   "metadata": {},
   "outputs": [
    {
     "data": {
      "text/html": [
       "<div><style>\n",
       ".dataframe > thead > tr > th,\n",
       ".dataframe > tbody > tr > td {\n",
       "  text-align: right;\n",
       "  white-space: pre-wrap;\n",
       "}\n",
       "</style>\n",
       "<small>shape: (127_946_340, 5)</small><table border=\"1\" class=\"dataframe\"><thead><tr><th>series_id</th><th>step</th><th>timestamp</th><th>anglez</th><th>enmo</th></tr><tr><td>str</td><td>u32</td><td>str</td><td>f32</td><td>f32</td></tr></thead><tbody><tr><td>&quot;038441c925bb&quot;</td><td>0</td><td>&quot;2018-08-14T15:…</td><td>2.6367</td><td>0.0217</td></tr><tr><td>&quot;038441c925bb&quot;</td><td>1</td><td>&quot;2018-08-14T15:…</td><td>2.6368</td><td>0.0215</td></tr><tr><td>&quot;038441c925bb&quot;</td><td>2</td><td>&quot;2018-08-14T15:…</td><td>2.637</td><td>0.0216</td></tr><tr><td>&quot;038441c925bb&quot;</td><td>3</td><td>&quot;2018-08-14T15:…</td><td>2.6368</td><td>0.0213</td></tr><tr><td>&quot;038441c925bb&quot;</td><td>4</td><td>&quot;2018-08-14T15:…</td><td>2.6368</td><td>0.0215</td></tr><tr><td>&quot;038441c925bb&quot;</td><td>5</td><td>&quot;2018-08-14T15:…</td><td>2.6367</td><td>0.0217</td></tr><tr><td>&quot;038441c925bb&quot;</td><td>6</td><td>&quot;2018-08-14T15:…</td><td>2.6367</td><td>0.0217</td></tr><tr><td>&quot;038441c925bb&quot;</td><td>7</td><td>&quot;2018-08-14T15:…</td><td>2.6367</td><td>0.0218</td></tr><tr><td>&quot;038441c925bb&quot;</td><td>8</td><td>&quot;2018-08-14T15:…</td><td>2.798</td><td>0.0223</td></tr><tr><td>&quot;038441c925bb&quot;</td><td>9</td><td>&quot;2018-08-14T15:…</td><td>3.0847</td><td>0.0217</td></tr><tr><td>&quot;038441c925bb&quot;</td><td>10</td><td>&quot;2018-08-14T15:…</td><td>2.7802</td><td>0.0229</td></tr><tr><td>&quot;038441c925bb&quot;</td><td>11</td><td>&quot;2018-08-14T15:…</td><td>2.5205</td><td>0.0216</td></tr><tr><td>&hellip;</td><td>&hellip;</td><td>&hellip;</td><td>&hellip;</td><td>&hellip;</td></tr><tr><td>&quot;fe90110788d2&quot;</td><td>592368</td><td>&quot;2017-09-08T00:…</td><td>-27.9879</td><td>0.0196</td></tr><tr><td>&quot;fe90110788d2&quot;</td><td>592369</td><td>&quot;2017-09-08T00:…</td><td>-27.900101</td><td>0.0197</td></tr><tr><td>&quot;fe90110788d2&quot;</td><td>592370</td><td>&quot;2017-09-08T00:…</td><td>-27.919701</td><td>0.0205</td></tr><tr><td>&quot;fe90110788d2&quot;</td><td>592371</td><td>&quot;2017-09-08T00:…</td><td>-27.922701</td><td>0.0204</td></tr><tr><td>&quot;fe90110788d2&quot;</td><td>592372</td><td>&quot;2017-09-08T00:…</td><td>-27.647301</td><td>0.0207</td></tr><tr><td>&quot;fe90110788d2&quot;</td><td>592373</td><td>&quot;2017-09-08T00:…</td><td>-27.649099</td><td>0.0202</td></tr><tr><td>&quot;fe90110788d2&quot;</td><td>592374</td><td>&quot;2017-09-08T00:…</td><td>-27.450001</td><td>0.0203</td></tr><tr><td>&quot;fe90110788d2&quot;</td><td>592375</td><td>&quot;2017-09-08T00:…</td><td>-27.2775</td><td>0.0204</td></tr><tr><td>&quot;fe90110788d2&quot;</td><td>592376</td><td>&quot;2017-09-08T00:…</td><td>-27.032499</td><td>0.0233</td></tr><tr><td>&quot;fe90110788d2&quot;</td><td>592377</td><td>&quot;2017-09-08T00:…</td><td>-26.8412</td><td>0.0202</td></tr><tr><td>&quot;fe90110788d2&quot;</td><td>592378</td><td>&quot;2017-09-08T00:…</td><td>-26.7239</td><td>0.0199</td></tr><tr><td>&quot;fe90110788d2&quot;</td><td>592379</td><td>&quot;2017-09-08T00:…</td><td>-31.521601</td><td>0.0205</td></tr></tbody></table></div>"
      ],
      "text/plain": [
       "shape: (127_946_340, 5)\n",
       "┌──────────────┬────────┬──────────────────────────┬────────────┬────────┐\n",
       "│ series_id    ┆ step   ┆ timestamp                ┆ anglez     ┆ enmo   │\n",
       "│ ---          ┆ ---    ┆ ---                      ┆ ---        ┆ ---    │\n",
       "│ str          ┆ u32    ┆ str                      ┆ f32        ┆ f32    │\n",
       "╞══════════════╪════════╪══════════════════════════╪════════════╪════════╡\n",
       "│ 038441c925bb ┆ 0      ┆ 2018-08-14T15:30:00-0400 ┆ 2.6367     ┆ 0.0217 │\n",
       "│ 038441c925bb ┆ 1      ┆ 2018-08-14T15:30:05-0400 ┆ 2.6368     ┆ 0.0215 │\n",
       "│ 038441c925bb ┆ 2      ┆ 2018-08-14T15:30:10-0400 ┆ 2.637      ┆ 0.0216 │\n",
       "│ 038441c925bb ┆ 3      ┆ 2018-08-14T15:30:15-0400 ┆ 2.6368     ┆ 0.0213 │\n",
       "│ …            ┆ …      ┆ …                        ┆ …          ┆ …      │\n",
       "│ fe90110788d2 ┆ 592376 ┆ 2017-09-08T00:14:40-0400 ┆ -27.032499 ┆ 0.0233 │\n",
       "│ fe90110788d2 ┆ 592377 ┆ 2017-09-08T00:14:45-0400 ┆ -26.8412   ┆ 0.0202 │\n",
       "│ fe90110788d2 ┆ 592378 ┆ 2017-09-08T00:14:50-0400 ┆ -26.7239   ┆ 0.0199 │\n",
       "│ fe90110788d2 ┆ 592379 ┆ 2017-09-08T00:14:55-0400 ┆ -31.521601 ┆ 0.0205 │\n",
       "└──────────────┴────────┴──────────────────────────┴────────────┴────────┘"
      ]
     },
     "execution_count": 5,
     "metadata": {},
     "output_type": "execute_result"
    }
   ],
   "source": [
    "train_series_df\n"
   ]
  },
  {
   "cell_type": "code",
   "execution_count": 6,
   "metadata": {},
   "outputs": [],
   "source": [
    "train_series_df = train_series_df.join(\n",
    "    train_events_df.select([\"series_id\", \"timestamp\", \"night\"]),\n",
    "    on=[\"series_id\", \"timestamp\"],\n",
    "    how=\"left\",\n",
    ")\n"
   ]
  },
  {
   "cell_type": "code",
   "execution_count": 7,
   "metadata": {},
   "outputs": [
    {
     "data": {
      "text/html": [
       "<div><style>\n",
       ".dataframe > thead > tr > th,\n",
       ".dataframe > tbody > tr > td {\n",
       "  text-align: right;\n",
       "  white-space: pre-wrap;\n",
       "}\n",
       "</style>\n",
       "<small>shape: (127_946_340, 6)</small><table border=\"1\" class=\"dataframe\"><thead><tr><th>series_id</th><th>step</th><th>timestamp</th><th>anglez</th><th>enmo</th><th>night</th></tr><tr><td>str</td><td>u32</td><td>str</td><td>f32</td><td>f32</td><td>i64</td></tr></thead><tbody><tr><td>&quot;038441c925bb&quot;</td><td>0</td><td>&quot;2018-08-14T15:…</td><td>2.6367</td><td>0.0217</td><td>null</td></tr><tr><td>&quot;038441c925bb&quot;</td><td>1</td><td>&quot;2018-08-14T15:…</td><td>2.6368</td><td>0.0215</td><td>null</td></tr><tr><td>&quot;038441c925bb&quot;</td><td>2</td><td>&quot;2018-08-14T15:…</td><td>2.637</td><td>0.0216</td><td>null</td></tr><tr><td>&quot;038441c925bb&quot;</td><td>3</td><td>&quot;2018-08-14T15:…</td><td>2.6368</td><td>0.0213</td><td>null</td></tr><tr><td>&quot;038441c925bb&quot;</td><td>4</td><td>&quot;2018-08-14T15:…</td><td>2.6368</td><td>0.0215</td><td>null</td></tr><tr><td>&quot;038441c925bb&quot;</td><td>5</td><td>&quot;2018-08-14T15:…</td><td>2.6367</td><td>0.0217</td><td>null</td></tr><tr><td>&quot;038441c925bb&quot;</td><td>6</td><td>&quot;2018-08-14T15:…</td><td>2.6367</td><td>0.0217</td><td>null</td></tr><tr><td>&quot;038441c925bb&quot;</td><td>7</td><td>&quot;2018-08-14T15:…</td><td>2.6367</td><td>0.0218</td><td>null</td></tr><tr><td>&quot;038441c925bb&quot;</td><td>8</td><td>&quot;2018-08-14T15:…</td><td>2.798</td><td>0.0223</td><td>null</td></tr><tr><td>&quot;038441c925bb&quot;</td><td>9</td><td>&quot;2018-08-14T15:…</td><td>3.0847</td><td>0.0217</td><td>null</td></tr><tr><td>&quot;038441c925bb&quot;</td><td>10</td><td>&quot;2018-08-14T15:…</td><td>2.7802</td><td>0.0229</td><td>null</td></tr><tr><td>&quot;038441c925bb&quot;</td><td>11</td><td>&quot;2018-08-14T15:…</td><td>2.5205</td><td>0.0216</td><td>null</td></tr><tr><td>&hellip;</td><td>&hellip;</td><td>&hellip;</td><td>&hellip;</td><td>&hellip;</td><td>&hellip;</td></tr><tr><td>&quot;fe90110788d2&quot;</td><td>592368</td><td>&quot;2017-09-08T00:…</td><td>-27.9879</td><td>0.0196</td><td>null</td></tr><tr><td>&quot;fe90110788d2&quot;</td><td>592369</td><td>&quot;2017-09-08T00:…</td><td>-27.900101</td><td>0.0197</td><td>null</td></tr><tr><td>&quot;fe90110788d2&quot;</td><td>592370</td><td>&quot;2017-09-08T00:…</td><td>-27.919701</td><td>0.0205</td><td>null</td></tr><tr><td>&quot;fe90110788d2&quot;</td><td>592371</td><td>&quot;2017-09-08T00:…</td><td>-27.922701</td><td>0.0204</td><td>null</td></tr><tr><td>&quot;fe90110788d2&quot;</td><td>592372</td><td>&quot;2017-09-08T00:…</td><td>-27.647301</td><td>0.0207</td><td>null</td></tr><tr><td>&quot;fe90110788d2&quot;</td><td>592373</td><td>&quot;2017-09-08T00:…</td><td>-27.649099</td><td>0.0202</td><td>null</td></tr><tr><td>&quot;fe90110788d2&quot;</td><td>592374</td><td>&quot;2017-09-08T00:…</td><td>-27.450001</td><td>0.0203</td><td>null</td></tr><tr><td>&quot;fe90110788d2&quot;</td><td>592375</td><td>&quot;2017-09-08T00:…</td><td>-27.2775</td><td>0.0204</td><td>null</td></tr><tr><td>&quot;fe90110788d2&quot;</td><td>592376</td><td>&quot;2017-09-08T00:…</td><td>-27.032499</td><td>0.0233</td><td>null</td></tr><tr><td>&quot;fe90110788d2&quot;</td><td>592377</td><td>&quot;2017-09-08T00:…</td><td>-26.8412</td><td>0.0202</td><td>null</td></tr><tr><td>&quot;fe90110788d2&quot;</td><td>592378</td><td>&quot;2017-09-08T00:…</td><td>-26.7239</td><td>0.0199</td><td>null</td></tr><tr><td>&quot;fe90110788d2&quot;</td><td>592379</td><td>&quot;2017-09-08T00:…</td><td>-31.521601</td><td>0.0205</td><td>null</td></tr></tbody></table></div>"
      ],
      "text/plain": [
       "shape: (127_946_340, 6)\n",
       "┌──────────────┬────────┬──────────────────────────┬────────────┬────────┬───────┐\n",
       "│ series_id    ┆ step   ┆ timestamp                ┆ anglez     ┆ enmo   ┆ night │\n",
       "│ ---          ┆ ---    ┆ ---                      ┆ ---        ┆ ---    ┆ ---   │\n",
       "│ str          ┆ u32    ┆ str                      ┆ f32        ┆ f32    ┆ i64   │\n",
       "╞══════════════╪════════╪══════════════════════════╪════════════╪════════╪═══════╡\n",
       "│ 038441c925bb ┆ 0      ┆ 2018-08-14T15:30:00-0400 ┆ 2.6367     ┆ 0.0217 ┆ null  │\n",
       "│ 038441c925bb ┆ 1      ┆ 2018-08-14T15:30:05-0400 ┆ 2.6368     ┆ 0.0215 ┆ null  │\n",
       "│ 038441c925bb ┆ 2      ┆ 2018-08-14T15:30:10-0400 ┆ 2.637      ┆ 0.0216 ┆ null  │\n",
       "│ 038441c925bb ┆ 3      ┆ 2018-08-14T15:30:15-0400 ┆ 2.6368     ┆ 0.0213 ┆ null  │\n",
       "│ …            ┆ …      ┆ …                        ┆ …          ┆ …      ┆ …     │\n",
       "│ fe90110788d2 ┆ 592376 ┆ 2017-09-08T00:14:40-0400 ┆ -27.032499 ┆ 0.0233 ┆ null  │\n",
       "│ fe90110788d2 ┆ 592377 ┆ 2017-09-08T00:14:45-0400 ┆ -26.8412   ┆ 0.0202 ┆ null  │\n",
       "│ fe90110788d2 ┆ 592378 ┆ 2017-09-08T00:14:50-0400 ┆ -26.7239   ┆ 0.0199 ┆ null  │\n",
       "│ fe90110788d2 ┆ 592379 ┆ 2017-09-08T00:14:55-0400 ┆ -31.521601 ┆ 0.0205 ┆ null  │\n",
       "└──────────────┴────────┴──────────────────────────┴────────────┴────────┴───────┘"
      ]
     },
     "execution_count": 7,
     "metadata": {},
     "output_type": "execute_result"
    }
   ],
   "source": [
    "train_series_df\n"
   ]
  },
  {
   "cell_type": "code",
   "execution_count": 8,
   "metadata": {},
   "outputs": [
    {
     "data": {
      "text/html": [
       "<div><style>\n",
       ".dataframe > thead > tr > th,\n",
       ".dataframe > tbody > tr > td {\n",
       "  text-align: right;\n",
       "  white-space: pre-wrap;\n",
       "}\n",
       "</style>\n",
       "<small>shape: (14_508, 5)</small><table border=\"1\" class=\"dataframe\"><thead><tr><th>series_id</th><th>night</th><th>event</th><th>step</th><th>timestamp</th></tr><tr><td>str</td><td>i64</td><td>str</td><td>i64</td><td>str</td></tr></thead><tbody><tr><td>&quot;038441c925bb&quot;</td><td>1</td><td>&quot;onset&quot;</td><td>4992</td><td>&quot;2018-08-14T22:…</td></tr><tr><td>&quot;038441c925bb&quot;</td><td>1</td><td>&quot;wakeup&quot;</td><td>10932</td><td>&quot;2018-08-15T06:…</td></tr><tr><td>&quot;038441c925bb&quot;</td><td>2</td><td>&quot;onset&quot;</td><td>20244</td><td>&quot;2018-08-15T19:…</td></tr><tr><td>&quot;038441c925bb&quot;</td><td>2</td><td>&quot;wakeup&quot;</td><td>27492</td><td>&quot;2018-08-16T05:…</td></tr><tr><td>&quot;038441c925bb&quot;</td><td>3</td><td>&quot;onset&quot;</td><td>39996</td><td>&quot;2018-08-16T23:…</td></tr><tr><td>&quot;038441c925bb&quot;</td><td>3</td><td>&quot;wakeup&quot;</td><td>44400</td><td>&quot;2018-08-17T05:…</td></tr><tr><td>&quot;038441c925bb&quot;</td><td>4</td><td>&quot;onset&quot;</td><td>57240</td><td>&quot;2018-08-17T23:…</td></tr><tr><td>&quot;038441c925bb&quot;</td><td>4</td><td>&quot;wakeup&quot;</td><td>62856</td><td>&quot;2018-08-18T06:…</td></tr><tr><td>&quot;038441c925bb&quot;</td><td>5</td><td>&quot;onset&quot;</td><td>null</td><td>null</td></tr><tr><td>&quot;038441c925bb&quot;</td><td>5</td><td>&quot;wakeup&quot;</td><td>null</td><td>null</td></tr><tr><td>&quot;038441c925bb&quot;</td><td>6</td><td>&quot;onset&quot;</td><td>91296</td><td>&quot;2018-08-19T22:…</td></tr><tr><td>&quot;038441c925bb&quot;</td><td>6</td><td>&quot;wakeup&quot;</td><td>97860</td><td>&quot;2018-08-20T07:…</td></tr><tr><td>&hellip;</td><td>&hellip;</td><td>&hellip;</td><td>&hellip;</td><td>&hellip;</td></tr><tr><td>&quot;fe90110788d2&quot;</td><td>30</td><td>&quot;onset&quot;</td><td>505116</td><td>&quot;2017-09-02T23:…</td></tr><tr><td>&quot;fe90110788d2&quot;</td><td>30</td><td>&quot;wakeup&quot;</td><td>511284</td><td>&quot;2017-09-03T07:…</td></tr><tr><td>&quot;fe90110788d2&quot;</td><td>31</td><td>&quot;onset&quot;</td><td>522852</td><td>&quot;2017-09-03T23:…</td></tr><tr><td>&quot;fe90110788d2&quot;</td><td>31</td><td>&quot;wakeup&quot;</td><td>529104</td><td>&quot;2017-09-04T08:…</td></tr><tr><td>&quot;fe90110788d2&quot;</td><td>32</td><td>&quot;onset&quot;</td><td>538956</td><td>&quot;2017-09-04T22:…</td></tr><tr><td>&quot;fe90110788d2&quot;</td><td>32</td><td>&quot;wakeup&quot;</td><td>547152</td><td>&quot;2017-09-05T09:…</td></tr><tr><td>&quot;fe90110788d2&quot;</td><td>33</td><td>&quot;onset&quot;</td><td>556560</td><td>&quot;2017-09-05T22:…</td></tr><tr><td>&quot;fe90110788d2&quot;</td><td>33</td><td>&quot;wakeup&quot;</td><td>560604</td><td>&quot;2017-09-06T04:…</td></tr><tr><td>&quot;fe90110788d2&quot;</td><td>34</td><td>&quot;onset&quot;</td><td>574620</td><td>&quot;2017-09-06T23:…</td></tr><tr><td>&quot;fe90110788d2&quot;</td><td>34</td><td>&quot;wakeup&quot;</td><td>581604</td><td>&quot;2017-09-07T09:…</td></tr><tr><td>&quot;fe90110788d2&quot;</td><td>35</td><td>&quot;onset&quot;</td><td>null</td><td>null</td></tr><tr><td>&quot;fe90110788d2&quot;</td><td>35</td><td>&quot;wakeup&quot;</td><td>null</td><td>null</td></tr></tbody></table></div>"
      ],
      "text/plain": [
       "shape: (14_508, 5)\n",
       "┌──────────────┬───────┬────────┬────────┬──────────────────────────┐\n",
       "│ series_id    ┆ night ┆ event  ┆ step   ┆ timestamp                │\n",
       "│ ---          ┆ ---   ┆ ---    ┆ ---    ┆ ---                      │\n",
       "│ str          ┆ i64   ┆ str    ┆ i64    ┆ str                      │\n",
       "╞══════════════╪═══════╪════════╪════════╪══════════════════════════╡\n",
       "│ 038441c925bb ┆ 1     ┆ onset  ┆ 4992   ┆ 2018-08-14T22:26:00-0400 │\n",
       "│ 038441c925bb ┆ 1     ┆ wakeup ┆ 10932  ┆ 2018-08-15T06:41:00-0400 │\n",
       "│ 038441c925bb ┆ 2     ┆ onset  ┆ 20244  ┆ 2018-08-15T19:37:00-0400 │\n",
       "│ 038441c925bb ┆ 2     ┆ wakeup ┆ 27492  ┆ 2018-08-16T05:41:00-0400 │\n",
       "│ …            ┆ …     ┆ …      ┆ …      ┆ …                        │\n",
       "│ fe90110788d2 ┆ 34    ┆ onset  ┆ 574620 ┆ 2017-09-06T23:35:00-0400 │\n",
       "│ fe90110788d2 ┆ 34    ┆ wakeup ┆ 581604 ┆ 2017-09-07T09:17:00-0400 │\n",
       "│ fe90110788d2 ┆ 35    ┆ onset  ┆ null   ┆ null                     │\n",
       "│ fe90110788d2 ┆ 35    ┆ wakeup ┆ null   ┆ null                     │\n",
       "└──────────────┴───────┴────────┴────────┴──────────────────────────┘"
      ]
     },
     "execution_count": 8,
     "metadata": {},
     "output_type": "execute_result"
    }
   ],
   "source": [
    "train_events_df\n"
   ]
  },
  {
   "cell_type": "code",
   "execution_count": 9,
   "metadata": {},
   "outputs": [
    {
     "data": {
      "text/html": [
       "<div><style>\n",
       ".dataframe > thead > tr > th,\n",
       ".dataframe > tbody > tr > td {\n",
       "  text-align: right;\n",
       "  white-space: pre-wrap;\n",
       "}\n",
       "</style>\n",
       "<small>shape: (5, 3)</small><table border=\"1\" class=\"dataframe\"><thead><tr><th>series_id</th><th>night</th><th>count</th></tr><tr><td>str</td><td>i64</td><td>u32</td></tr></thead><tbody><tr><td>&quot;0ce74d6d2106&quot;</td><td>20</td><td>1</td></tr><tr><td>&quot;154fe824ed87&quot;</td><td>30</td><td>1</td></tr><tr><td>&quot;44a41bba1ee7&quot;</td><td>10</td><td>1</td></tr><tr><td>&quot;efbfc4526d58&quot;</td><td>7</td><td>1</td></tr><tr><td>&quot;f8a8da8bdd00&quot;</td><td>17</td><td>1</td></tr></tbody></table></div>"
      ],
      "text/plain": [
       "shape: (5, 3)\n",
       "┌──────────────┬───────┬───────┐\n",
       "│ series_id    ┆ night ┆ count │\n",
       "│ ---          ┆ ---   ┆ ---   │\n",
       "│ str          ┆ i64   ┆ u32   │\n",
       "╞══════════════╪═══════╪═══════╡\n",
       "│ 0ce74d6d2106 ┆ 20    ┆ 1     │\n",
       "│ 154fe824ed87 ┆ 30    ┆ 1     │\n",
       "│ 44a41bba1ee7 ┆ 10    ┆ 1     │\n",
       "│ efbfc4526d58 ┆ 7     ┆ 1     │\n",
       "│ f8a8da8bdd00 ┆ 17    ┆ 1     │\n",
       "└──────────────┴───────┴───────┘"
      ]
     },
     "execution_count": 9,
     "metadata": {},
     "output_type": "execute_result"
    }
   ],
   "source": [
    "train_events_df = train_events_df.drop_nulls()\n",
    "bad_nights = (\n",
    "    train_events_df[[\"series_id\", \"night\", \"event\"]]\n",
    "    .group_by([\"series_id\", \"night\"], maintain_order=True)\n",
    "    .count()\n",
    ")\n",
    "bad_nights.filter(pl.col(\"count\") != 2)\n"
   ]
  },
  {
   "cell_type": "code",
   "execution_count": 10,
   "metadata": {},
   "outputs": [],
   "source": [
    "train_events_df = train_events_df.filter(\n",
    "    ~(\n",
    "        (\n",
    "            (train_events_df[\"series_id\"] == \"0ce74d6d2106\")\n",
    "            & (train_events_df[\"night\"] == 20)\n",
    "        )\n",
    "        | (\n",
    "            (train_events_df[\"series_id\"] == \"154fe824ed87\")\n",
    "            & (train_events_df[\"night\"] == 30)\n",
    "        )\n",
    "        | (\n",
    "            (train_events_df[\"series_id\"] == \"44a41bba1ee7\")\n",
    "            & (train_events_df[\"night\"] == 10)\n",
    "        )\n",
    "        | (\n",
    "            (train_events_df[\"series_id\"] == \"efbfc4526d58\")\n",
    "            & (train_events_df[\"night\"] == 7)\n",
    "        )\n",
    "        | (\n",
    "            (train_events_df[\"series_id\"] == \"f8a8da8bdd00\")\n",
    "            & (train_events_df[\"night\"] == 17)\n",
    "        )\n",
    "    )\n",
    ")\n"
   ]
  },
  {
   "cell_type": "code",
   "execution_count": 11,
   "metadata": {},
   "outputs": [
    {
     "data": {
      "text/html": [
       "<div><style>\n",
       ".dataframe > thead > tr > th,\n",
       ".dataframe > tbody > tr > td {\n",
       "  text-align: right;\n",
       "  white-space: pre-wrap;\n",
       "}\n",
       "</style>\n",
       "<small>shape: (127_946_340, 6)</small><table border=\"1\" class=\"dataframe\"><thead><tr><th>series_id</th><th>step</th><th>timestamp</th><th>anglez</th><th>enmo</th><th>night</th></tr><tr><td>str</td><td>u32</td><td>str</td><td>f32</td><td>f32</td><td>i64</td></tr></thead><tbody><tr><td>&quot;038441c925bb&quot;</td><td>0</td><td>&quot;2018-08-14T15:…</td><td>2.6367</td><td>0.0217</td><td>null</td></tr><tr><td>&quot;038441c925bb&quot;</td><td>1</td><td>&quot;2018-08-14T15:…</td><td>2.6368</td><td>0.0215</td><td>null</td></tr><tr><td>&quot;038441c925bb&quot;</td><td>2</td><td>&quot;2018-08-14T15:…</td><td>2.637</td><td>0.0216</td><td>null</td></tr><tr><td>&quot;038441c925bb&quot;</td><td>3</td><td>&quot;2018-08-14T15:…</td><td>2.6368</td><td>0.0213</td><td>null</td></tr><tr><td>&quot;038441c925bb&quot;</td><td>4</td><td>&quot;2018-08-14T15:…</td><td>2.6368</td><td>0.0215</td><td>null</td></tr><tr><td>&quot;038441c925bb&quot;</td><td>5</td><td>&quot;2018-08-14T15:…</td><td>2.6367</td><td>0.0217</td><td>null</td></tr><tr><td>&quot;038441c925bb&quot;</td><td>6</td><td>&quot;2018-08-14T15:…</td><td>2.6367</td><td>0.0217</td><td>null</td></tr><tr><td>&quot;038441c925bb&quot;</td><td>7</td><td>&quot;2018-08-14T15:…</td><td>2.6367</td><td>0.0218</td><td>null</td></tr><tr><td>&quot;038441c925bb&quot;</td><td>8</td><td>&quot;2018-08-14T15:…</td><td>2.798</td><td>0.0223</td><td>null</td></tr><tr><td>&quot;038441c925bb&quot;</td><td>9</td><td>&quot;2018-08-14T15:…</td><td>3.0847</td><td>0.0217</td><td>null</td></tr><tr><td>&quot;038441c925bb&quot;</td><td>10</td><td>&quot;2018-08-14T15:…</td><td>2.7802</td><td>0.0229</td><td>null</td></tr><tr><td>&quot;038441c925bb&quot;</td><td>11</td><td>&quot;2018-08-14T15:…</td><td>2.5205</td><td>0.0216</td><td>null</td></tr><tr><td>&hellip;</td><td>&hellip;</td><td>&hellip;</td><td>&hellip;</td><td>&hellip;</td><td>&hellip;</td></tr><tr><td>&quot;fe90110788d2&quot;</td><td>592368</td><td>&quot;2017-09-08T00:…</td><td>-27.9879</td><td>0.0196</td><td>null</td></tr><tr><td>&quot;fe90110788d2&quot;</td><td>592369</td><td>&quot;2017-09-08T00:…</td><td>-27.900101</td><td>0.0197</td><td>null</td></tr><tr><td>&quot;fe90110788d2&quot;</td><td>592370</td><td>&quot;2017-09-08T00:…</td><td>-27.919701</td><td>0.0205</td><td>null</td></tr><tr><td>&quot;fe90110788d2&quot;</td><td>592371</td><td>&quot;2017-09-08T00:…</td><td>-27.922701</td><td>0.0204</td><td>null</td></tr><tr><td>&quot;fe90110788d2&quot;</td><td>592372</td><td>&quot;2017-09-08T00:…</td><td>-27.647301</td><td>0.0207</td><td>null</td></tr><tr><td>&quot;fe90110788d2&quot;</td><td>592373</td><td>&quot;2017-09-08T00:…</td><td>-27.649099</td><td>0.0202</td><td>null</td></tr><tr><td>&quot;fe90110788d2&quot;</td><td>592374</td><td>&quot;2017-09-08T00:…</td><td>-27.450001</td><td>0.0203</td><td>null</td></tr><tr><td>&quot;fe90110788d2&quot;</td><td>592375</td><td>&quot;2017-09-08T00:…</td><td>-27.2775</td><td>0.0204</td><td>null</td></tr><tr><td>&quot;fe90110788d2&quot;</td><td>592376</td><td>&quot;2017-09-08T00:…</td><td>-27.032499</td><td>0.0233</td><td>null</td></tr><tr><td>&quot;fe90110788d2&quot;</td><td>592377</td><td>&quot;2017-09-08T00:…</td><td>-26.8412</td><td>0.0202</td><td>null</td></tr><tr><td>&quot;fe90110788d2&quot;</td><td>592378</td><td>&quot;2017-09-08T00:…</td><td>-26.7239</td><td>0.0199</td><td>null</td></tr><tr><td>&quot;fe90110788d2&quot;</td><td>592379</td><td>&quot;2017-09-08T00:…</td><td>-31.521601</td><td>0.0205</td><td>null</td></tr></tbody></table></div>"
      ],
      "text/plain": [
       "shape: (127_946_340, 6)\n",
       "┌──────────────┬────────┬──────────────────────────┬────────────┬────────┬───────┐\n",
       "│ series_id    ┆ step   ┆ timestamp                ┆ anglez     ┆ enmo   ┆ night │\n",
       "│ ---          ┆ ---    ┆ ---                      ┆ ---        ┆ ---    ┆ ---   │\n",
       "│ str          ┆ u32    ┆ str                      ┆ f32        ┆ f32    ┆ i64   │\n",
       "╞══════════════╪════════╪══════════════════════════╪════════════╪════════╪═══════╡\n",
       "│ 038441c925bb ┆ 0      ┆ 2018-08-14T15:30:00-0400 ┆ 2.6367     ┆ 0.0217 ┆ null  │\n",
       "│ 038441c925bb ┆ 1      ┆ 2018-08-14T15:30:05-0400 ┆ 2.6368     ┆ 0.0215 ┆ null  │\n",
       "│ 038441c925bb ┆ 2      ┆ 2018-08-14T15:30:10-0400 ┆ 2.637      ┆ 0.0216 ┆ null  │\n",
       "│ 038441c925bb ┆ 3      ┆ 2018-08-14T15:30:15-0400 ┆ 2.6368     ┆ 0.0213 ┆ null  │\n",
       "│ …            ┆ …      ┆ …                        ┆ …          ┆ …      ┆ …     │\n",
       "│ fe90110788d2 ┆ 592376 ┆ 2017-09-08T00:14:40-0400 ┆ -27.032499 ┆ 0.0233 ┆ null  │\n",
       "│ fe90110788d2 ┆ 592377 ┆ 2017-09-08T00:14:45-0400 ┆ -26.8412   ┆ 0.0202 ┆ null  │\n",
       "│ fe90110788d2 ┆ 592378 ┆ 2017-09-08T00:14:50-0400 ┆ -26.7239   ┆ 0.0199 ┆ null  │\n",
       "│ fe90110788d2 ┆ 592379 ┆ 2017-09-08T00:14:55-0400 ┆ -31.521601 ┆ 0.0205 ┆ null  │\n",
       "└──────────────┴────────┴──────────────────────────┴────────────┴────────┴───────┘"
      ]
     },
     "execution_count": 11,
     "metadata": {},
     "output_type": "execute_result"
    }
   ],
   "source": [
    "train_series_df\n"
   ]
  },
  {
   "cell_type": "code",
   "execution_count": 12,
   "metadata": {},
   "outputs": [],
   "source": [
    "# create asleep column\n",
    "train_events_df = train_events_df.with_columns(\n",
    "    pl.when(pl.col(\"event\") == \"onset\").then(0).otherwise(1).alias(\"asleep\"),\n",
    "    pl.when(pl.col(\"event\") == \"onset\").then(1).otherwise(0).alias(\"onset\"),\n",
    "    pl.when(pl.col(\"event\") == \"wakeup\").then(1).otherwise(0).alias(\"wakeup\"),\n",
    ")\n",
    "train_series_df = train_series_df.join(\n",
    "    train_events_df.select([\"series_id\", \"timestamp\"] + cfg.target_cols),\n",
    "    on=[\"series_id\", \"timestamp\"],\n",
    "    how=\"left\",\n",
    ")\n",
    "\n",
    "train_series_df = train_series_df.with_columns(\n",
    "    (pl.col(\"asleep\").backward_fill().fill_null(0)),\n",
    "    (pl.col(\"onset\").fill_null(0)),\n",
    "    (pl.col(\"wakeup\").fill_null(0)),\n",
    ")\n"
   ]
  },
  {
   "cell_type": "code",
   "execution_count": 13,
   "metadata": {},
   "outputs": [
    {
     "data": {
      "text/html": [
       "<div><style>\n",
       ".dataframe > thead > tr > th,\n",
       ".dataframe > tbody > tr > td {\n",
       "  text-align: right;\n",
       "  white-space: pre-wrap;\n",
       "}\n",
       "</style>\n",
       "<small>shape: (127_946_340, 9)</small><table border=\"1\" class=\"dataframe\"><thead><tr><th>series_id</th><th>step</th><th>timestamp</th><th>anglez</th><th>enmo</th><th>night</th><th>asleep</th><th>onset</th><th>wakeup</th></tr><tr><td>str</td><td>u32</td><td>str</td><td>f32</td><td>f32</td><td>i64</td><td>i32</td><td>i32</td><td>i32</td></tr></thead><tbody><tr><td>&quot;038441c925bb&quot;</td><td>0</td><td>&quot;2018-08-14T15:…</td><td>2.6367</td><td>0.0217</td><td>null</td><td>0</td><td>0</td><td>0</td></tr><tr><td>&quot;038441c925bb&quot;</td><td>1</td><td>&quot;2018-08-14T15:…</td><td>2.6368</td><td>0.0215</td><td>null</td><td>0</td><td>0</td><td>0</td></tr><tr><td>&quot;038441c925bb&quot;</td><td>2</td><td>&quot;2018-08-14T15:…</td><td>2.637</td><td>0.0216</td><td>null</td><td>0</td><td>0</td><td>0</td></tr><tr><td>&quot;038441c925bb&quot;</td><td>3</td><td>&quot;2018-08-14T15:…</td><td>2.6368</td><td>0.0213</td><td>null</td><td>0</td><td>0</td><td>0</td></tr><tr><td>&quot;038441c925bb&quot;</td><td>4</td><td>&quot;2018-08-14T15:…</td><td>2.6368</td><td>0.0215</td><td>null</td><td>0</td><td>0</td><td>0</td></tr><tr><td>&quot;038441c925bb&quot;</td><td>5</td><td>&quot;2018-08-14T15:…</td><td>2.6367</td><td>0.0217</td><td>null</td><td>0</td><td>0</td><td>0</td></tr><tr><td>&quot;038441c925bb&quot;</td><td>6</td><td>&quot;2018-08-14T15:…</td><td>2.6367</td><td>0.0217</td><td>null</td><td>0</td><td>0</td><td>0</td></tr><tr><td>&quot;038441c925bb&quot;</td><td>7</td><td>&quot;2018-08-14T15:…</td><td>2.6367</td><td>0.0218</td><td>null</td><td>0</td><td>0</td><td>0</td></tr><tr><td>&quot;038441c925bb&quot;</td><td>8</td><td>&quot;2018-08-14T15:…</td><td>2.798</td><td>0.0223</td><td>null</td><td>0</td><td>0</td><td>0</td></tr><tr><td>&quot;038441c925bb&quot;</td><td>9</td><td>&quot;2018-08-14T15:…</td><td>3.0847</td><td>0.0217</td><td>null</td><td>0</td><td>0</td><td>0</td></tr><tr><td>&quot;038441c925bb&quot;</td><td>10</td><td>&quot;2018-08-14T15:…</td><td>2.7802</td><td>0.0229</td><td>null</td><td>0</td><td>0</td><td>0</td></tr><tr><td>&quot;038441c925bb&quot;</td><td>11</td><td>&quot;2018-08-14T15:…</td><td>2.5205</td><td>0.0216</td><td>null</td><td>0</td><td>0</td><td>0</td></tr><tr><td>&hellip;</td><td>&hellip;</td><td>&hellip;</td><td>&hellip;</td><td>&hellip;</td><td>&hellip;</td><td>&hellip;</td><td>&hellip;</td><td>&hellip;</td></tr><tr><td>&quot;fe90110788d2&quot;</td><td>592368</td><td>&quot;2017-09-08T00:…</td><td>-27.9879</td><td>0.0196</td><td>null</td><td>0</td><td>0</td><td>0</td></tr><tr><td>&quot;fe90110788d2&quot;</td><td>592369</td><td>&quot;2017-09-08T00:…</td><td>-27.900101</td><td>0.0197</td><td>null</td><td>0</td><td>0</td><td>0</td></tr><tr><td>&quot;fe90110788d2&quot;</td><td>592370</td><td>&quot;2017-09-08T00:…</td><td>-27.919701</td><td>0.0205</td><td>null</td><td>0</td><td>0</td><td>0</td></tr><tr><td>&quot;fe90110788d2&quot;</td><td>592371</td><td>&quot;2017-09-08T00:…</td><td>-27.922701</td><td>0.0204</td><td>null</td><td>0</td><td>0</td><td>0</td></tr><tr><td>&quot;fe90110788d2&quot;</td><td>592372</td><td>&quot;2017-09-08T00:…</td><td>-27.647301</td><td>0.0207</td><td>null</td><td>0</td><td>0</td><td>0</td></tr><tr><td>&quot;fe90110788d2&quot;</td><td>592373</td><td>&quot;2017-09-08T00:…</td><td>-27.649099</td><td>0.0202</td><td>null</td><td>0</td><td>0</td><td>0</td></tr><tr><td>&quot;fe90110788d2&quot;</td><td>592374</td><td>&quot;2017-09-08T00:…</td><td>-27.450001</td><td>0.0203</td><td>null</td><td>0</td><td>0</td><td>0</td></tr><tr><td>&quot;fe90110788d2&quot;</td><td>592375</td><td>&quot;2017-09-08T00:…</td><td>-27.2775</td><td>0.0204</td><td>null</td><td>0</td><td>0</td><td>0</td></tr><tr><td>&quot;fe90110788d2&quot;</td><td>592376</td><td>&quot;2017-09-08T00:…</td><td>-27.032499</td><td>0.0233</td><td>null</td><td>0</td><td>0</td><td>0</td></tr><tr><td>&quot;fe90110788d2&quot;</td><td>592377</td><td>&quot;2017-09-08T00:…</td><td>-26.8412</td><td>0.0202</td><td>null</td><td>0</td><td>0</td><td>0</td></tr><tr><td>&quot;fe90110788d2&quot;</td><td>592378</td><td>&quot;2017-09-08T00:…</td><td>-26.7239</td><td>0.0199</td><td>null</td><td>0</td><td>0</td><td>0</td></tr><tr><td>&quot;fe90110788d2&quot;</td><td>592379</td><td>&quot;2017-09-08T00:…</td><td>-31.521601</td><td>0.0205</td><td>null</td><td>0</td><td>0</td><td>0</td></tr></tbody></table></div>"
      ],
      "text/plain": [
       "shape: (127_946_340, 9)\n",
       "┌──────────────┬────────┬───────────────────────┬────────────┬───┬───────┬────────┬───────┬────────┐\n",
       "│ series_id    ┆ step   ┆ timestamp             ┆ anglez     ┆ … ┆ night ┆ asleep ┆ onset ┆ wakeup │\n",
       "│ ---          ┆ ---    ┆ ---                   ┆ ---        ┆   ┆ ---   ┆ ---    ┆ ---   ┆ ---    │\n",
       "│ str          ┆ u32    ┆ str                   ┆ f32        ┆   ┆ i64   ┆ i32    ┆ i32   ┆ i32    │\n",
       "╞══════════════╪════════╪═══════════════════════╪════════════╪═══╪═══════╪════════╪═══════╪════════╡\n",
       "│ 038441c925bb ┆ 0      ┆ 2018-08-14T15:30:00-0 ┆ 2.6367     ┆ … ┆ null  ┆ 0      ┆ 0     ┆ 0      │\n",
       "│              ┆        ┆ 400                   ┆            ┆   ┆       ┆        ┆       ┆        │\n",
       "│ 038441c925bb ┆ 1      ┆ 2018-08-14T15:30:05-0 ┆ 2.6368     ┆ … ┆ null  ┆ 0      ┆ 0     ┆ 0      │\n",
       "│              ┆        ┆ 400                   ┆            ┆   ┆       ┆        ┆       ┆        │\n",
       "│ 038441c925bb ┆ 2      ┆ 2018-08-14T15:30:10-0 ┆ 2.637      ┆ … ┆ null  ┆ 0      ┆ 0     ┆ 0      │\n",
       "│              ┆        ┆ 400                   ┆            ┆   ┆       ┆        ┆       ┆        │\n",
       "│ 038441c925bb ┆ 3      ┆ 2018-08-14T15:30:15-0 ┆ 2.6368     ┆ … ┆ null  ┆ 0      ┆ 0     ┆ 0      │\n",
       "│              ┆        ┆ 400                   ┆            ┆   ┆       ┆        ┆       ┆        │\n",
       "│ …            ┆ …      ┆ …                     ┆ …          ┆ … ┆ …     ┆ …      ┆ …     ┆ …      │\n",
       "│ fe90110788d2 ┆ 592376 ┆ 2017-09-08T00:14:40-0 ┆ -27.032499 ┆ … ┆ null  ┆ 0      ┆ 0     ┆ 0      │\n",
       "│              ┆        ┆ 400                   ┆            ┆   ┆       ┆        ┆       ┆        │\n",
       "│ fe90110788d2 ┆ 592377 ┆ 2017-09-08T00:14:45-0 ┆ -26.8412   ┆ … ┆ null  ┆ 0      ┆ 0     ┆ 0      │\n",
       "│              ┆        ┆ 400                   ┆            ┆   ┆       ┆        ┆       ┆        │\n",
       "│ fe90110788d2 ┆ 592378 ┆ 2017-09-08T00:14:50-0 ┆ -26.7239   ┆ … ┆ null  ┆ 0      ┆ 0     ┆ 0      │\n",
       "│              ┆        ┆ 400                   ┆            ┆   ┆       ┆        ┆       ┆        │\n",
       "│ fe90110788d2 ┆ 592379 ┆ 2017-09-08T00:14:55-0 ┆ -31.521601 ┆ … ┆ null  ┆ 0      ┆ 0     ┆ 0      │\n",
       "│              ┆        ┆ 400                   ┆            ┆   ┆       ┆        ┆       ┆        │\n",
       "└──────────────┴────────┴───────────────────────┴────────────┴───┴───────┴────────┴───────┴────────┘"
      ]
     },
     "execution_count": 13,
     "metadata": {},
     "output_type": "execute_result"
    }
   ],
   "source": [
    "train_series_df\n"
   ]
  },
  {
   "cell_type": "code",
   "execution_count": 14,
   "metadata": {},
   "outputs": [],
   "source": [
    "def encode_hour(hour):\n",
    "    hour_sin = np.sin(2 * np.pi * hour / 24.0)\n",
    "    hour_cos = np.cos(2 * np.pi * hour / 24.0)\n",
    "    return hour_sin, hour_cos\n",
    "\n",
    "\n",
    "train_series_df = train_series_df.with_columns(\n",
    "    (pl.col(\"timestamp\").str.slice(11, 2).alias(\"hour\").cast(pl.Int64)),\n",
    ")\n",
    "hour_df = pl.DataFrame(\n",
    "    {\n",
    "        \"hour\": np.arange(24),\n",
    "    }\n",
    ")\n",
    "encoded_hour = hour_df[\"hour\"].apply(encode_hour)\n",
    "encoded_hour = np.array(encoded_hour.to_list())\n",
    "hour_df = hour_df.with_columns(\n",
    "    (pl.lit(encoded_hour[:, 0]).alias(\"hour_sin\")),\n",
    "    (pl.lit(encoded_hour[:, 1]).alias(\"hour_cos\")),\n",
    ")\n",
    "\n",
    "train_series_df = train_series_df.join(\n",
    "    hour_df,\n",
    "    on=[\"hour\"],\n",
    "    how=\"left\",\n",
    ")\n"
   ]
  },
  {
   "cell_type": "code",
   "execution_count": 15,
   "metadata": {},
   "outputs": [
    {
     "data": {
      "text/plain": [
       "348"
      ]
     },
     "execution_count": 15,
     "metadata": {},
     "output_type": "execute_result"
    }
   ],
   "source": [
    "def get_similar_wave(_df):\n",
    "    # forward\n",
    "    similar_steps_forward = find_similar_steps(\n",
    "        _df[\"anglez\"], window_size=17280, threshold=1.0\n",
    "    )\n",
    "    similar_wave_forward = np.zeros(len(_df))\n",
    "    if len(similar_steps_forward) > 0:\n",
    "        for start_step in similar_steps_forward:\n",
    "            end_step = start_step + 17280\n",
    "\n",
    "            similar_wave_forward[start_step:end_step] = 1\n",
    "\n",
    "    # backward\n",
    "    similar_steps_backward = find_similar_steps(\n",
    "        _df[\"anglez\"][::-1], window_size=17280, threshold=1.0\n",
    "    )\n",
    "    similar_wave_backward = np.zeros(len(_df))\n",
    "    if len(similar_steps_backward) > 0:\n",
    "        for start_step in similar_steps_backward:\n",
    "            end_step = start_step + 17280\n",
    "\n",
    "            similar_wave_backward[start_step:end_step] = 1\n",
    "\n",
    "    # add\n",
    "    similar_wave = similar_wave_forward + similar_wave_backward[::-1]\n",
    "    similar_wave = np.clip(similar_wave, 0, 1)\n",
    "\n",
    "    return pl.DataFrame(similar_wave.astype(np.int8))\n",
    "\n",
    "\n",
    "# similar_wave = train_series_df.group_by(\"series_id\", maintain_order=True).apply(\n",
    "#     get_similar_wave\n",
    "# )\n",
    "# similar_wave.write_parquet(cfg.input_path / \"similar_wave.parquet\")\n",
    "\n",
    "similar_wave = pl.read_parquet(cfg.INPUT_PATH / \"similar_wave.parquet\")\n",
    "train_series_df = train_series_df.with_columns(\n",
    "    similar_wave.to_series().alias(\"similar_wave\")\n",
    ")\n",
    "\n",
    "del similar_wave\n",
    "gc.collect()\n"
   ]
  },
  {
   "cell_type": "code",
   "execution_count": 16,
   "metadata": {},
   "outputs": [],
   "source": [
    "feat_cols = [\n",
    "    \"anglez\",\n",
    "    \"enmo\",\n",
    "    \"anglez_diff_pos\",\n",
    "    \"enmo_diff_pos\",\n",
    "    \"hour_sin\",\n",
    "    \"hour_cos\",\n",
    "    \"similar_wave\",\n",
    "]\n",
    "\n",
    "scale_cols = [\n",
    "    \"anglez\",\n",
    "    \"enmo\",\n",
    "    \"anglez_diff_pos\",\n",
    "    \"enmo_diff_pos\",\n",
    "]\n",
    "\n",
    "\n",
    "util_cols_expr = [pl.col(\"step\"), pl.col(\"asleep\"), pl.col(\"onset\"), pl.col(\"wakeup\")]\n",
    "feat_cols_expr = [\n",
    "    pl.col(\"anglez\"),\n",
    "    pl.col(\"enmo\"),\n",
    "    (pl.col(\"anglez\").diff().fill_null(0)).alias(\"anglez_diff_pos\"),\n",
    "    (pl.col(\"enmo\").diff().fill_null(0)).alias(\"enmo_diff_pos\"),\n",
    "    pl.col(\"hour_sin\"),\n",
    "    pl.col(\"hour_cos\"),\n",
    "    pl.col(\"similar_wave\"),\n",
    "]\n",
    "\n",
    "use_cols_expr = util_cols_expr + feat_cols_expr\n",
    "\n",
    "use_col_names = [f.meta.output_name() for f in use_cols_expr]\n",
    "\n",
    "train_series_df = (\n",
    "    train_series_df.group_by(\"series_id\", maintain_order=True)\n",
    "    .agg(use_cols_expr)\n",
    "    .explode(use_col_names)\n",
    ")\n"
   ]
  },
  {
   "cell_type": "code",
   "execution_count": 17,
   "metadata": {},
   "outputs": [],
   "source": [
    "class CMIDataset(Dataset):\n",
    "    def __init__(self, df: pl.DataFrame, max_length: int, stride: int):\n",
    "        self.max_length = max_length\n",
    "        self.stride = stride\n",
    "\n",
    "        self.df = self._convert_df_to_segments(df)\n",
    "        self.label = self.df[cfg.target_cols].to_numpy()\n",
    "\n",
    "    def __len__(self):\n",
    "        return len(self.df)\n",
    "\n",
    "    # ガウス分布の関数\n",
    "    def _gaussian(self, x, mu, sigma):\n",
    "        gauss = np.exp(-0.5 * ((x - mu) / sigma) ** 2)\n",
    "        # outside_3sigma = np.abs(x - mu) > 3 * sigma\n",
    "        # gauss[outside_3sigma] = 0\n",
    "        return gauss\n",
    "\n",
    "    # ヒートマップの生成\n",
    "    def _create_heatmap(self, series, sigma=1.0):\n",
    "        indices = np.where(series == 1)[0]\n",
    "        heatmap = np.zeros_like(series, dtype=float)\n",
    "\n",
    "        for index in indices:\n",
    "            x = np.arange(len(series))\n",
    "            heatmap += self._gaussian(x, index, sigma)\n",
    "\n",
    "        return np.clip(heatmap, 0, 1)  # 0と1の間にクリップ\n",
    "\n",
    "    def __getitem__(self, idx):\n",
    "        feat = np.array([self.df[idx][col].to_numpy()[0] for col in feat_cols])\n",
    "        labels = self.label[idx]\n",
    "        labels[1] = self._create_heatmap(labels[1], sigma=cfg.sigma)  # onset\n",
    "        labels[2] = self._create_heatmap(labels[2], sigma=cfg.sigma)  # wakeup\n",
    "        labels = np.stack(labels)\n",
    "\n",
    "        original_length = feat.shape[1]\n",
    "        attention_mask = np.ones(original_length, dtype=np.int8)\n",
    "\n",
    "        # Padding or truncating\n",
    "        diff_length = self.max_length - original_length\n",
    "        # padding\n",
    "        if diff_length > 0:\n",
    "            feat = np.append(feat, np.zeros((feat.shape[0], diff_length)), axis=1)\n",
    "            attention_mask = np.concatenate(\n",
    "                [attention_mask, np.zeros(diff_length, dtype=np.int8)]\n",
    "            )\n",
    "            labels = np.append(\n",
    "                labels, np.zeros((len(cfg.target_cols), diff_length)), axis=1\n",
    "            )\n",
    "        # truncating\n",
    "        else:\n",
    "            feat = feat[:, : self.max_length]\n",
    "            attention_mask = attention_mask[: self.max_length]\n",
    "            labels = labels[: self.max_length]\n",
    "\n",
    "        inputs = {\n",
    "            \"attention_mask\": torch.tensor(attention_mask, dtype=torch.float32),\n",
    "        }\n",
    "        for k, v in zip(feat_cols, feat):\n",
    "            inputs[k] = torch.tensor(v.astype(np.float32), dtype=torch.float32)\n",
    "\n",
    "        labels = torch.tensor(labels.T, dtype=torch.float32)  # (max_length, n_targets)\n",
    "        return inputs, labels\n",
    "\n",
    "    def _convert_df_to_segments(self, df: pl.DataFrame):\n",
    "        segments = []\n",
    "        # series_idごとにデータを取得\n",
    "\n",
    "        group_id = 0\n",
    "        for series, group in tqdm(df.group_by(\"series_id\", maintain_order=True)):\n",
    "            start = 0\n",
    "            while start < len(group):\n",
    "                end = start + self.max_length\n",
    "                _df = group[start:end]\n",
    "                _df = _df.with_columns(pl.lit(group_id).alias(\"group\"))\n",
    "                segments.append(_df)\n",
    "                start = start + self.stride\n",
    "                group_id += 1\n",
    "\n",
    "        segment_df = pl.concat(segments)\n",
    "        del segments, group, _df\n",
    "        gc.collect()\n",
    "\n",
    "        segment_df = segment_df.group_by(\n",
    "            [\"series_id\", \"group\"], maintain_order=True\n",
    "        ).agg(pl.col([\"step\", \"group\"] + cfg.target_cols + feat_cols).explode())\n",
    "\n",
    "        return segment_df\n"
   ]
  },
  {
   "cell_type": "code",
   "execution_count": 18,
   "metadata": {},
   "outputs": [],
   "source": [
    "class FeatureExtractorBlock(nn.Module):\n",
    "    def __init__(self, feat_cols, hidden_size=32):\n",
    "        super(FeatureExtractorBlock, self).__init__()\n",
    "\n",
    "        self.feat_cols = feat_cols\n",
    "        self.inc = DoubleConv(\n",
    "            len(feat_cols),\n",
    "            hidden_size,\n",
    "            kernel_size=1,\n",
    "            padding=\"same\",\n",
    "        )\n",
    "        self.wave_block1 = WaveNetBlock(\n",
    "            hidden_size=hidden_size,\n",
    "            kernel_size=2,\n",
    "            dilations=6,\n",
    "        )\n",
    "        self.wave_block2 = WaveNetBlock(\n",
    "            hidden_size=hidden_size,\n",
    "            kernel_size=2,\n",
    "            dilations=6,\n",
    "        )\n",
    "        self.wave_block3 = WaveNetBlock(\n",
    "            hidden_size=hidden_size,\n",
    "            kernel_size=2,\n",
    "            dilations=6,\n",
    "        )\n",
    "        self.fc = nn.Linear(hidden_size * 3, hidden_size)\n",
    "\n",
    "    def forward(self, x):\n",
    "        x = self.inc(x)\n",
    "        x1 = self.wave_block1(x)\n",
    "        x2 = self.wave_block2(x)\n",
    "        x3 = self.wave_block3(x)\n",
    "\n",
    "        x = torch.cat([x1, x2, x3], dim=1)\n",
    "        x = x.permute(0, 2, 1)\n",
    "        x = self.fc(x)\n",
    "        x = x.permute(0, 2, 1)\n",
    "\n",
    "        return x\n",
    "\n",
    "\n",
    "class EncoderBlock(nn.Module):\n",
    "    def __init__(self, in_channels, out_channels, stride=12):\n",
    "        super(EncoderBlock, self).__init__()\n",
    "\n",
    "        self.down = Down(\n",
    "            in_channels=in_channels, out_channels=out_channels, stride=stride\n",
    "        )\n",
    "\n",
    "        self.gru = MultiResidualBiGRU(\n",
    "            out_channels,\n",
    "            out_channels,\n",
    "            out_channels,\n",
    "            n_layers=4,\n",
    "            bidir=True,\n",
    "        )\n",
    "\n",
    "    def forward(self, x):\n",
    "        x = self.down(x)\n",
    "\n",
    "        x = x.permute(0, 2, 1)\n",
    "        x, _ = self.gru(x)\n",
    "        x = x.permute(0, 2, 1)\n",
    "\n",
    "        return x\n",
    "\n",
    "\n",
    "class DecoderBlock(nn.Module):\n",
    "    def __init__(self, hidden_size):\n",
    "        super(DecoderBlock, self).__init__()\n",
    "\n",
    "        self.up1 = Up(in_channels=hidden_size * 2, out_channels=hidden_size, stride=6)\n",
    "        self.up2 = Up(in_channels=hidden_size * 4, out_channels=hidden_size, stride=12)\n",
    "\n",
    "        self.mlp = nn.Sequential(\n",
    "            nn.Linear(hidden_size * 3, hidden_size * 2),\n",
    "            nn.ReLU(),\n",
    "            nn.Dropout(0.2),\n",
    "            nn.Linear(hidden_size * 2, hidden_size),\n",
    "            nn.ReLU(),\n",
    "        )\n",
    "\n",
    "        self.outc = nn.Conv1d(hidden_size, 3, kernel_size=1, padding=\"same\")\n",
    "\n",
    "    def forward(self, x_original, x1, x2):\n",
    "        x1 = self.up1(x1)\n",
    "        x2 = self.up2(x2)\n",
    "\n",
    "        x = torch.cat([x_original, x1, x2], dim=1)\n",
    "\n",
    "        x = x.permute(0, 2, 1)\n",
    "        x = self.mlp(x)\n",
    "        x = x.permute(0, 2, 1)\n",
    "\n",
    "        x = self.outc(x)\n",
    "\n",
    "        return x\n",
    "\n",
    "\n",
    "class CMIModel(nn.Module):\n",
    "    def __init__(self, feat_cols, hidden_size=32):\n",
    "        super(CMIModel, self).__init__()\n",
    "\n",
    "        self.feat_cols = feat_cols\n",
    "\n",
    "        self.feature_extractor = FeatureExtractorBlock(\n",
    "            feat_cols, hidden_size=hidden_size\n",
    "        )\n",
    "\n",
    "        self.encoder1 = EncoderBlock(hidden_size, hidden_size * 2, stride=6)\n",
    "        self.encoder2 = EncoderBlock(hidden_size * 2, hidden_size * 4, stride=2)\n",
    "\n",
    "        self.decoder = DecoderBlock(hidden_size)\n",
    "\n",
    "        self._reinitialize()\n",
    "\n",
    "    def _reinitialize(self):\n",
    "        \"\"\"\n",
    "        Tensorflow/Keras-like initialization\n",
    "        \"\"\"\n",
    "        for name, p in self.named_parameters():\n",
    "            if \"gru\" in name:\n",
    "                if \"weight_ih\" in name:\n",
    "                    nn.init.xavier_uniform_(p.data)\n",
    "                elif \"weight_hh\" in name:\n",
    "                    nn.init.orthogonal_(p.data)\n",
    "                elif \"bias_ih\" in name:\n",
    "                    p.data.fill_(0)\n",
    "                    # Set forget-gate bias to 1\n",
    "                    n = p.size(0)\n",
    "                    p.data[(n // 4) : (n // 2)].fill_(1)\n",
    "                elif \"bias_hh\" in name:\n",
    "                    p.data.fill_(0)\n",
    "            elif \"fc\" in name:\n",
    "                if \"weight\" in name:\n",
    "                    nn.init.xavier_uniform_(p.data)\n",
    "                elif \"bias\" in name:\n",
    "                    p.data.fill_(0)\n",
    "\n",
    "    def forward(self, inputs):\n",
    "        x = torch.stack([inputs[col] for col in self.feat_cols], dim=1)\n",
    "\n",
    "        x_original = self.feature_extractor(x)\n",
    "\n",
    "        x1 = self.encoder1(x_original)\n",
    "        x2 = self.encoder2(x1)\n",
    "\n",
    "        x = self.decoder(x_original, x1, x2)\n",
    "\n",
    "        x = x.squeeze(1).permute(0, 2, 1)  # (batch_size, seq_len, n_targets)\n",
    "\n",
    "        return x\n"
   ]
  },
  {
   "cell_type": "code",
   "execution_count": 19,
   "metadata": {},
   "outputs": [],
   "source": [
    "def train_fn(\n",
    "    model,\n",
    "    train_data_loader,\n",
    "    criterion1,\n",
    "    optimizer,\n",
    "    scheduler=None,\n",
    "    scaler=None,\n",
    "):\n",
    "    model.train()\n",
    "    loss_meter = AverageMeter()\n",
    "    pbar = tqdm(enumerate(train_data_loader), total=len(train_data_loader))\n",
    "    for step, (inputs, labels) in pbar:\n",
    "        inputs, labels = collate(inputs, labels)\n",
    "        inputs = {k: v.to(cfg.device) for k, v in inputs.items()}\n",
    "        labels = labels.to(cfg.device)\n",
    "        with autocast(enabled=cfg.apex):\n",
    "            output = model(inputs)\n",
    "\n",
    "        # segmentations\n",
    "        output1 = output[:, :, 0]\n",
    "        labels1 = labels[:, :, 0]\n",
    "        mask = inputs[\"attention_mask\"].bool()\n",
    "        output1 = output1[mask].view(-1)\n",
    "        labels1 = labels1[mask].view(-1)\n",
    "        loss1 = criterion1(output1, labels1)\n",
    "\n",
    "        # heatmap\n",
    "        mask = inputs[\"attention_mask\"].unsqueeze(-1).expand(-1, -1, 2).bool()\n",
    "        output2 = output[:, :, 1:]\n",
    "        labels2 = labels[:, :, 1:]\n",
    "        output2 = output2[mask].view(-1)\n",
    "        labels2 = labels2[mask].view(-1)\n",
    "\n",
    "        pos_weight = torch.tensor([cfg.pos_weight for _ in range(labels2.size(0))]).to(\n",
    "            cfg.device\n",
    "        )\n",
    "        criterion2 = nn.BCEWithLogitsLoss(pos_weight=pos_weight)\n",
    "\n",
    "        loss2 = criterion2(output2, labels2)\n",
    "\n",
    "        loss = loss1 + loss2\n",
    "\n",
    "        scaler.scale(loss).backward()\n",
    "        scaler.step(optimizer)\n",
    "        scaler.update()\n",
    "        optimizer.zero_grad()\n",
    "        scheduler.step()\n",
    "        loss_meter.update(loss.item(), output.size(0))\n",
    "    return loss_meter.avg\n",
    "\n",
    "\n",
    "def valid_fn(\n",
    "    model,\n",
    "    valid_true_df,\n",
    "    valid_pred_df,\n",
    "    valid_data_loader,\n",
    "    criterion1,\n",
    "    epoch=None,\n",
    "):\n",
    "    model.eval()\n",
    "    loss_meter = AverageMeter()\n",
    "    y_pred = []\n",
    "    for step, (inputs, labels) in enumerate(valid_data_loader):\n",
    "        inputs, labels = collate(inputs, labels)\n",
    "        inputs = {k: v.to(cfg.device) for k, v in inputs.items()}\n",
    "        labels = labels.to(cfg.device)\n",
    "        with torch.no_grad():\n",
    "            output = model(inputs)\n",
    "\n",
    "        # segmentations\n",
    "        output1 = output[:, :, 0]\n",
    "        labels1 = labels[:, :, 0]\n",
    "        mask = inputs[\"attention_mask\"].bool()\n",
    "        output1 = output1[mask].view(-1)\n",
    "        labels1 = labels1[mask].view(-1)\n",
    "        loss1 = criterion1(output1, labels1)\n",
    "\n",
    "        # heatmap\n",
    "        mask = inputs[\"attention_mask\"].unsqueeze(-1).expand(-1, -1, 2).bool()\n",
    "        output2 = output[:, :, 1:]\n",
    "        labels2 = labels[:, :, 1:]\n",
    "        output2 = output2[mask].view(-1)\n",
    "        labels2 = labels2[mask].view(-1)\n",
    "\n",
    "        pos_weight = torch.tensor([cfg.pos_weight for _ in range(labels2.size(0))]).to(\n",
    "            cfg.device\n",
    "        )\n",
    "        criterion2 = nn.BCEWithLogitsLoss(pos_weight=pos_weight)\n",
    "\n",
    "        loss2 = criterion2(output2, labels2)\n",
    "\n",
    "        loss = loss1 + loss2\n",
    "\n",
    "        loss_meter.update(loss.item(), output.size(0))\n",
    "        output = output2.detach().cpu().sigmoid().numpy()\n",
    "        y_pred.append(output)\n",
    "    y_pred = np.concatenate(y_pred)\n",
    "\n",
    "    score = get_score(valid_true_df, valid_pred_df, y_pred, thr=cfg.thr, size=cfg.size)\n",
    "    return loss_meter.avg, score, y_pred\n"
   ]
  },
  {
   "cell_type": "code",
   "execution_count": 20,
   "metadata": {},
   "outputs": [],
   "source": [
    "def scaling(input_df, scale_cols, i_fold, is_train=True):\n",
    "    output_df = input_df.clone()\n",
    "\n",
    "    if is_train:\n",
    "        scaler = RobustScaler()\n",
    "        result = scaler.fit_transform(output_df.select(scale_cols))\n",
    "        pickle.dump(\n",
    "            scaler, open(f\"{cfg.OUTPUT_EXP_MODEL_PATH}/scaler_fold_{i_fold}.pkl\", \"wb\")\n",
    "        )\n",
    "    else:\n",
    "        scaler = pickle.load(\n",
    "            open(f\"{cfg.OUTPUT_EXP_MODEL_PATH}/scaler_fold_{i_fold}.pkl\", \"rb\")\n",
    "        )\n",
    "        result = scaler.transform(output_df.select(scale_cols))\n",
    "\n",
    "    result_dict = {k: v for k, v in zip(scale_cols, result.T)}\n",
    "    output_df = output_df.with_columns(pl.DataFrame(result_dict))\n",
    "\n",
    "    return output_df\n"
   ]
  },
  {
   "cell_type": "code",
   "execution_count": 21,
   "metadata": {},
   "outputs": [
    {
     "data": {
      "text/plain": [
       "fold\n",
       "0    6176856\n",
       "1    6340608\n",
       "2    5494764\n",
       "3    6294204\n",
       "4    5531772\n",
       "Name: asleep, dtype: int32"
      ]
     },
     "execution_count": 21,
     "metadata": {},
     "output_type": "execute_result"
    }
   ],
   "source": [
    "fold_df = (\n",
    "    train_series_df.group_by(\"series_id\")\n",
    "    .agg(pl.sum(\"asleep\"))\n",
    "    .sort(\"series_id\")\n",
    "    .to_pandas()\n",
    ")\n",
    "fold_df[\"fold\"] = -1\n",
    "\n",
    "for i in range(5):\n",
    "    _fold_dict = yaml.safe_load(open(cfg.INPUT_PATH / \"tomo\" / f\"fold_{i}.yaml\", \"r\"))\n",
    "    fold_df.loc[fold_df[\"series_id\"].isin(_fold_dict[\"valid_series_ids\"]), \"fold\"] = i\n",
    "\n",
    "\n",
    "fold_df.groupby(\"fold\")[\"asleep\"].sum()\n",
    "\n",
    "# 0    6194040\n",
    "# 1    6340608\n",
    "# 2    5494764\n",
    "# 3    6294204\n",
    "# 4    5531772\n"
   ]
  },
  {
   "cell_type": "code",
   "execution_count": 22,
   "metadata": {},
   "outputs": [
    {
     "data": {
      "application/vnd.jupyter.widget-view+json": {
       "model_id": "c6b04099040a4486a085302f34c372cd",
       "version_major": 2,
       "version_minor": 0
      },
      "text/plain": [
       "0it [00:00, ?it/s]"
      ]
     },
     "metadata": {},
     "output_type": "display_data"
    },
    {
     "name": "stderr",
     "output_type": "stream",
     "text": [
      "================================================== Fold 0 ==================================================\n"
     ]
    },
    {
     "data": {
      "text/html": [
       "<div><style>\n",
       ".dataframe > thead > tr > th,\n",
       ".dataframe > tbody > tr > td {\n",
       "  text-align: right;\n",
       "  white-space: pre-wrap;\n",
       "}\n",
       "</style>\n",
       "<small>shape: (5, 12)</small><table border=\"1\" class=\"dataframe\"><thead><tr><th>series_id</th><th>step</th><th>asleep</th><th>onset</th><th>wakeup</th><th>anglez</th><th>enmo</th><th>anglez_diff_pos</th><th>enmo_diff_pos</th><th>hour_sin</th><th>hour_cos</th><th>similar_wave</th></tr><tr><td>str</td><td>u32</td><td>i32</td><td>i32</td><td>i32</td><td>f64</td><td>f64</td><td>f64</td><td>f64</td><td>f64</td><td>f64</td><td>i8</td></tr></thead><tbody><tr><td>&quot;03d92c9f6f8a&quot;</td><td>0</td><td>0</td><td>0</td><td>0</td><td>1.12417</td><td>1.482436</td><td>0.0</td><td>0.0</td><td>1.2246e-16</td><td>-1.0</td><td>0</td></tr><tr><td>&quot;03d92c9f6f8a&quot;</td><td>1</td><td>0</td><td>0</td><td>0</td><td>0.902991</td><td>1.362998</td><td>-4.360479</td><td>-1.085107</td><td>1.2246e-16</td><td>-1.0</td><td>0</td></tr><tr><td>&quot;03d92c9f6f8a&quot;</td><td>2</td><td>0</td><td>0</td><td>0</td><td>1.085416</td><td>3.796253</td><td>3.596451</td><td>22.106383</td><td>1.2246e-16</td><td>-1.0</td><td>0</td></tr><tr><td>&quot;03d92c9f6f8a&quot;</td><td>3</td><td>0</td><td>0</td><td>0</td><td>1.31109</td><td>1.761124</td><td>4.449076</td><td>-18.489361</td><td>1.2246e-16</td><td>-1.0</td><td>0</td></tr><tr><td>&quot;03d92c9f6f8a&quot;</td><td>4</td><td>0</td><td>0</td><td>0</td><td>1.625941</td><td>0.40281</td><td>6.207194</td><td>-12.340425</td><td>1.2246e-16</td><td>-1.0</td><td>0</td></tr></tbody></table></div>"
      ],
      "text/plain": [
       "shape: (5, 12)\n",
       "┌──────────────┬──────┬────────┬───────┬───┬───────────────┬────────────┬──────────┬──────────────┐\n",
       "│ series_id    ┆ step ┆ asleep ┆ onset ┆ … ┆ enmo_diff_pos ┆ hour_sin   ┆ hour_cos ┆ similar_wave │\n",
       "│ ---          ┆ ---  ┆ ---    ┆ ---   ┆   ┆ ---           ┆ ---        ┆ ---      ┆ ---          │\n",
       "│ str          ┆ u32  ┆ i32    ┆ i32   ┆   ┆ f64           ┆ f64        ┆ f64      ┆ i8           │\n",
       "╞══════════════╪══════╪════════╪═══════╪═══╪═══════════════╪════════════╪══════════╪══════════════╡\n",
       "│ 03d92c9f6f8a ┆ 0    ┆ 0      ┆ 0     ┆ … ┆ 0.0           ┆ 1.2246e-16 ┆ -1.0     ┆ 0            │\n",
       "│ 03d92c9f6f8a ┆ 1    ┆ 0      ┆ 0     ┆ … ┆ -1.085107     ┆ 1.2246e-16 ┆ -1.0     ┆ 0            │\n",
       "│ 03d92c9f6f8a ┆ 2    ┆ 0      ┆ 0     ┆ … ┆ 22.106383     ┆ 1.2246e-16 ┆ -1.0     ┆ 0            │\n",
       "│ 03d92c9f6f8a ┆ 3    ┆ 0      ┆ 0     ┆ … ┆ -18.489361    ┆ 1.2246e-16 ┆ -1.0     ┆ 0            │\n",
       "│ 03d92c9f6f8a ┆ 4    ┆ 0      ┆ 0     ┆ … ┆ -12.340425    ┆ 1.2246e-16 ┆ -1.0     ┆ 0            │\n",
       "└──────────────┴──────┴────────┴───────┴───┴───────────────┴────────────┴──────────┴──────────────┘"
      ]
     },
     "metadata": {},
     "output_type": "display_data"
    },
    {
     "data": {
      "application/vnd.jupyter.widget-view+json": {
       "model_id": "eb0dc417ca0942a885f90994935377ad",
       "version_major": 2,
       "version_minor": 0
      },
      "text/plain": [
       "0it [00:00, ?it/s]"
      ]
     },
     "metadata": {},
     "output_type": "display_data"
    },
    {
     "data": {
      "application/vnd.jupyter.widget-view+json": {
       "model_id": "be1d57d9dce14b51aca1361589d5a0c5",
       "version_major": 2,
       "version_minor": 0
      },
      "text/plain": [
       "0it [00:00, ?it/s]"
      ]
     },
     "metadata": {},
     "output_type": "display_data"
    },
    {
     "name": "stderr",
     "output_type": "stream",
     "text": [
      "n_params: 2297219\n"
     ]
    },
    {
     "data": {
      "application/vnd.jupyter.widget-view+json": {
       "model_id": "7ed1e4d7c49640ba8aba826a84210978",
       "version_major": 2,
       "version_minor": 0
      },
      "text/plain": [
       "  0%|          | 0/30 [00:00<?, ?it/s]"
      ]
     },
     "metadata": {},
     "output_type": "display_data"
    },
    {
     "data": {
      "application/vnd.jupyter.widget-view+json": {
       "model_id": "9610807660c94805b5d143fb0b23780e",
       "version_major": 2,
       "version_minor": 0
      },
      "text/plain": [
       "  0%|          | 0/188 [00:00<?, ?it/s]"
      ]
     },
     "metadata": {},
     "output_type": "display_data"
    },
    {
     "name": "stderr",
     "output_type": "stream",
     "text": [
      "epoch:0/30 | train_loss: 0.38563 valid_loss: 0.21834 valid_score: 0.58488\n"
     ]
    },
    {
     "data": {
      "application/vnd.jupyter.widget-view+json": {
       "model_id": "4463481b4cae4317b29a1d078443dbad",
       "version_major": 2,
       "version_minor": 0
      },
      "text/plain": [
       "  0%|          | 0/188 [00:00<?, ?it/s]"
      ]
     },
     "metadata": {},
     "output_type": "display_data"
    },
    {
     "name": "stderr",
     "output_type": "stream",
     "text": [
      "epoch:1/30 | train_loss: 0.16292 valid_loss: 0.12323 valid_score: 0.74577\n"
     ]
    },
    {
     "data": {
      "application/vnd.jupyter.widget-view+json": {
       "model_id": "3912323e94b44e9eb1d6de81412e98ab",
       "version_major": 2,
       "version_minor": 0
      },
      "text/plain": [
       "  0%|          | 0/188 [00:00<?, ?it/s]"
      ]
     },
     "metadata": {},
     "output_type": "display_data"
    },
    {
     "name": "stderr",
     "output_type": "stream",
     "text": [
      "epoch:2/30 | train_loss: 0.14376 valid_loss: 0.11737 valid_score: 0.77070\n"
     ]
    },
    {
     "data": {
      "application/vnd.jupyter.widget-view+json": {
       "model_id": "9e6f2b2b82d24dff999cb80251c4b5b5",
       "version_major": 2,
       "version_minor": 0
      },
      "text/plain": [
       "  0%|          | 0/188 [00:00<?, ?it/s]"
      ]
     },
     "metadata": {},
     "output_type": "display_data"
    },
    {
     "name": "stderr",
     "output_type": "stream",
     "text": [
      "epoch:3/30 | train_loss: 0.13063 valid_loss: 0.13499 valid_score: 0.79861\n"
     ]
    },
    {
     "data": {
      "application/vnd.jupyter.widget-view+json": {
       "model_id": "0a271cb52f5c46a1a21cbf7e135b926c",
       "version_major": 2,
       "version_minor": 0
      },
      "text/plain": [
       "  0%|          | 0/188 [00:00<?, ?it/s]"
      ]
     },
     "metadata": {},
     "output_type": "display_data"
    },
    {
     "name": "stderr",
     "output_type": "stream",
     "text": [
      "epoch:4/30 | train_loss: 0.12437 valid_loss: 0.10800 valid_score: 0.78734\n"
     ]
    },
    {
     "data": {
      "application/vnd.jupyter.widget-view+json": {
       "model_id": "8f31b9589b0945fe876e37a9803efbe5",
       "version_major": 2,
       "version_minor": 0
      },
      "text/plain": [
       "  0%|          | 0/188 [00:00<?, ?it/s]"
      ]
     },
     "metadata": {},
     "output_type": "display_data"
    },
    {
     "name": "stderr",
     "output_type": "stream",
     "text": [
      "epoch:5/30 | train_loss: 0.12136 valid_loss: 0.11843 valid_score: 0.80547\n"
     ]
    },
    {
     "data": {
      "application/vnd.jupyter.widget-view+json": {
       "model_id": "5c937704a9e041f59dc18428a63b1884",
       "version_major": 2,
       "version_minor": 0
      },
      "text/plain": [
       "  0%|          | 0/188 [00:00<?, ?it/s]"
      ]
     },
     "metadata": {},
     "output_type": "display_data"
    },
    {
     "name": "stderr",
     "output_type": "stream",
     "text": [
      "epoch:6/30 | train_loss: 0.12033 valid_loss: 0.12233 valid_score: 0.80264\n"
     ]
    },
    {
     "data": {
      "application/vnd.jupyter.widget-view+json": {
       "model_id": "8b02fd1e32df4aa3a50b8cd76ee63403",
       "version_major": 2,
       "version_minor": 0
      },
      "text/plain": [
       "  0%|          | 0/188 [00:00<?, ?it/s]"
      ]
     },
     "metadata": {},
     "output_type": "display_data"
    },
    {
     "name": "stderr",
     "output_type": "stream",
     "text": [
      "epoch:7/30 | train_loss: 0.11608 valid_loss: 0.12222 valid_score: 0.79958\n"
     ]
    },
    {
     "data": {
      "application/vnd.jupyter.widget-view+json": {
       "model_id": "437323e1fbf64d3b94f094dbff06e473",
       "version_major": 2,
       "version_minor": 0
      },
      "text/plain": [
       "  0%|          | 0/188 [00:00<?, ?it/s]"
      ]
     },
     "metadata": {},
     "output_type": "display_data"
    },
    {
     "name": "stderr",
     "output_type": "stream",
     "text": [
      "epoch:8/30 | train_loss: 0.11304 valid_loss: 0.11055 valid_score: 0.80695\n"
     ]
    },
    {
     "data": {
      "application/vnd.jupyter.widget-view+json": {
       "model_id": "4811d0feedfb42e798bc851da65efef7",
       "version_major": 2,
       "version_minor": 0
      },
      "text/plain": [
       "  0%|          | 0/188 [00:00<?, ?it/s]"
      ]
     },
     "metadata": {},
     "output_type": "display_data"
    },
    {
     "name": "stderr",
     "output_type": "stream",
     "text": [
      "epoch:9/30 | train_loss: 0.11075 valid_loss: 0.11043 valid_score: 0.80500\n"
     ]
    },
    {
     "data": {
      "application/vnd.jupyter.widget-view+json": {
       "model_id": "630935187271456fa79656a0304c9f1b",
       "version_major": 2,
       "version_minor": 0
      },
      "text/plain": [
       "  0%|          | 0/188 [00:00<?, ?it/s]"
      ]
     },
     "metadata": {},
     "output_type": "display_data"
    },
    {
     "name": "stderr",
     "output_type": "stream",
     "text": [
      "epoch:10/30 | train_loss: 0.10659 valid_loss: 0.10470 valid_score: 0.80292\n"
     ]
    },
    {
     "data": {
      "application/vnd.jupyter.widget-view+json": {
       "model_id": "4991cf2970ab4edf9b3f846adda7d300",
       "version_major": 2,
       "version_minor": 0
      },
      "text/plain": [
       "  0%|          | 0/188 [00:00<?, ?it/s]"
      ]
     },
     "metadata": {},
     "output_type": "display_data"
    },
    {
     "name": "stderr",
     "output_type": "stream",
     "text": [
      "epoch:11/30 | train_loss: 0.10464 valid_loss: 0.11109 valid_score: 0.78693\n"
     ]
    },
    {
     "data": {
      "application/vnd.jupyter.widget-view+json": {
       "model_id": "bff8df6525de434ebd626b7b6224f238",
       "version_major": 2,
       "version_minor": 0
      },
      "text/plain": [
       "  0%|          | 0/188 [00:00<?, ?it/s]"
      ]
     },
     "metadata": {},
     "output_type": "display_data"
    },
    {
     "name": "stderr",
     "output_type": "stream",
     "text": [
      "epoch:12/30 | train_loss: 0.10540 valid_loss: 0.10579 valid_score: 0.80742\n"
     ]
    },
    {
     "data": {
      "application/vnd.jupyter.widget-view+json": {
       "model_id": "b9fbcd55e42347769102c1a713187f6c",
       "version_major": 2,
       "version_minor": 0
      },
      "text/plain": [
       "  0%|          | 0/188 [00:00<?, ?it/s]"
      ]
     },
     "metadata": {},
     "output_type": "display_data"
    },
    {
     "name": "stderr",
     "output_type": "stream",
     "text": [
      "epoch:13/30 | train_loss: 0.10154 valid_loss: 0.10790 valid_score: 0.80616\n"
     ]
    },
    {
     "data": {
      "application/vnd.jupyter.widget-view+json": {
       "model_id": "c4a20b7864624daa86b5871268a1e743",
       "version_major": 2,
       "version_minor": 0
      },
      "text/plain": [
       "  0%|          | 0/188 [00:00<?, ?it/s]"
      ]
     },
     "metadata": {},
     "output_type": "display_data"
    },
    {
     "name": "stderr",
     "output_type": "stream",
     "text": [
      "epoch:14/30 | train_loss: 0.10057 valid_loss: 0.10353 valid_score: 0.80999\n"
     ]
    },
    {
     "data": {
      "application/vnd.jupyter.widget-view+json": {
       "model_id": "bec57bf24c744965bc2a08f5158f5e7d",
       "version_major": 2,
       "version_minor": 0
      },
      "text/plain": [
       "  0%|          | 0/188 [00:00<?, ?it/s]"
      ]
     },
     "metadata": {},
     "output_type": "display_data"
    },
    {
     "name": "stderr",
     "output_type": "stream",
     "text": [
      "epoch:15/30 | train_loss: 0.09513 valid_loss: 0.11389 valid_score: 0.80871\n"
     ]
    },
    {
     "data": {
      "application/vnd.jupyter.widget-view+json": {
       "model_id": "e2d116d7b8bf4768b2bf28a8a2c623bd",
       "version_major": 2,
       "version_minor": 0
      },
      "text/plain": [
       "  0%|          | 0/188 [00:00<?, ?it/s]"
      ]
     },
     "metadata": {},
     "output_type": "display_data"
    },
    {
     "name": "stderr",
     "output_type": "stream",
     "text": [
      "epoch:16/30 | train_loss: 0.09473 valid_loss: 0.10767 valid_score: 0.80905\n"
     ]
    },
    {
     "data": {
      "application/vnd.jupyter.widget-view+json": {
       "model_id": "fb53a0e7ef2d41c0a3151042389be992",
       "version_major": 2,
       "version_minor": 0
      },
      "text/plain": [
       "  0%|          | 0/188 [00:00<?, ?it/s]"
      ]
     },
     "metadata": {},
     "output_type": "display_data"
    },
    {
     "name": "stderr",
     "output_type": "stream",
     "text": [
      "epoch:17/30 | train_loss: 0.09052 valid_loss: 0.10457 valid_score: 0.80459\n"
     ]
    },
    {
     "data": {
      "application/vnd.jupyter.widget-view+json": {
       "model_id": "99ee2ffa68604364aebccf3bc1bc6649",
       "version_major": 2,
       "version_minor": 0
      },
      "text/plain": [
       "  0%|          | 0/188 [00:00<?, ?it/s]"
      ]
     },
     "metadata": {},
     "output_type": "display_data"
    },
    {
     "name": "stderr",
     "output_type": "stream",
     "text": [
      "epoch:18/30 | train_loss: 0.08631 valid_loss: 0.10947 valid_score: 0.81262\n"
     ]
    },
    {
     "data": {
      "application/vnd.jupyter.widget-view+json": {
       "model_id": "f608a7be15bb4ea3857ccbb53743b8b1",
       "version_major": 2,
       "version_minor": 0
      },
      "text/plain": [
       "  0%|          | 0/188 [00:00<?, ?it/s]"
      ]
     },
     "metadata": {},
     "output_type": "display_data"
    }
   ],
   "source": [
    "seed_everything(cfg.seed)\n",
    "\n",
    "s = time.time()\n",
    "cv = StratifiedGroupKFold(n_splits=cfg.n_splits, shuffle=True, random_state=cfg.seed)\n",
    "\n",
    "dataset_tmp = CMIDataset(\n",
    "    train_series_df,\n",
    "    max_length=cfg.valid_max_length,\n",
    "    stride=cfg.valid_stride,\n",
    ")\n",
    "oof_df = dataset_tmp.df.select([\"series_id\", \"step\"] + cfg.target_cols).explode(\n",
    "    [\"step\"] + cfg.target_cols\n",
    ")\n",
    "oof = pl.DataFrame(\n",
    "    {\n",
    "        \"series_id\": oof_df[\"series_id\"],\n",
    "        \"step\": oof_df[\"step\"],\n",
    "        \"onset\": 0.0,\n",
    "        \"wakeup\": 0.0,\n",
    "    }\n",
    ").to_pandas()\n",
    "\n",
    "best_scores = []\n",
    "best_epochs = []\n",
    "\n",
    "for i_fold in range(cfg.n_splits):\n",
    "    LOGGER.info(f\"{'='*50} Fold {i_fold} {'='*50}\")\n",
    "\n",
    "    train_id = fold_df[fold_df[\"fold\"] != i_fold][\"series_id\"].to_list()\n",
    "    valid_id = fold_df[fold_df[\"fold\"] == i_fold][\"series_id\"].to_list()\n",
    "\n",
    "    X_train = train_series_df.filter(pl.col(\"series_id\").is_in(train_id))\n",
    "    X_valid = train_series_df.filter(pl.col(\"series_id\").is_in(valid_id))\n",
    "\n",
    "    valid_true_df = train_events_df.filter(pl.col(\"series_id\").is_in(valid_id))\n",
    "\n",
    "    X_train = scaling(X_train, scale_cols, i_fold, is_train=True)\n",
    "    X_valid = scaling(X_valid, scale_cols, i_fold, is_train=False)\n",
    "\n",
    "    display(X_train.head())\n",
    "\n",
    "    train_dataset = CMIDataset(\n",
    "        X_train, max_length=cfg.train_max_length, stride=cfg.train_stride\n",
    "    )\n",
    "    valid_dataset = CMIDataset(\n",
    "        X_valid,\n",
    "        max_length=cfg.valid_max_length,\n",
    "        stride=cfg.valid_stride,\n",
    "    )\n",
    "    valid_pred_df = valid_dataset.df.select(\n",
    "        [\"series_id\", \"step\"] + cfg.target_cols\n",
    "    ).explode([\"step\"] + cfg.target_cols)\n",
    "\n",
    "    train_loader = DataLoader(\n",
    "        train_dataset,\n",
    "        batch_size=cfg.batch_size,\n",
    "        num_workers=cfg.num_workers,\n",
    "        shuffle=True,\n",
    "        drop_last=True,\n",
    "        pin_memory=True,\n",
    "    )\n",
    "    valid_loader = DataLoader(\n",
    "        valid_dataset,\n",
    "        batch_size=cfg.batch_size,\n",
    "        num_workers=cfg.num_workers,\n",
    "        shuffle=False,\n",
    "        drop_last=False,\n",
    "        pin_memory=True,\n",
    "    )\n",
    "\n",
    "    model = CMIModel(feat_cols, hidden_size=32)\n",
    "    model.to(cfg.device)\n",
    "\n",
    "    n_params = get_n_params(model)\n",
    "    LOGGER.info(f\"n_params: {n_params}\")\n",
    "\n",
    "    criterion1 = nn.BCEWithLogitsLoss()\n",
    "\n",
    "    optimizer = torch.optim.AdamW(\n",
    "        model.parameters(),\n",
    "        lr=cfg.lr,\n",
    "        betas=cfg.betas,\n",
    "        eps=cfg.eps,\n",
    "        weight_decay=cfg.weight_decay,\n",
    "    )\n",
    "\n",
    "    num_train_steps = int(len(train_loader) * cfg.n_epochs)\n",
    "    scheduler = get_scheduler(cfg, optimizer, num_train_steps)\n",
    "\n",
    "    scaler = GradScaler(enabled=cfg.apex)\n",
    "\n",
    "    early_stopping = EarlyStopping(\n",
    "        patience=cfg.es_patience,\n",
    "        mode=\"min\",\n",
    "        model_path=f\"{cfg.OUTPUT_EXP_MODEL_PATH}/fold{i_fold}.pth\",\n",
    "        verbose=False,\n",
    "    )\n",
    "\n",
    "    pbar = tqdm(range(cfg.n_epochs))\n",
    "    for epoch in pbar:\n",
    "        train_loss = train_fn(\n",
    "            model,\n",
    "            train_loader,\n",
    "            criterion1,\n",
    "            optimizer,\n",
    "            scheduler,\n",
    "            scaler,\n",
    "        )\n",
    "        valid_loss, valid_score, valid_pred = valid_fn(\n",
    "            model,\n",
    "            valid_true_df,\n",
    "            valid_pred_df,\n",
    "            valid_loader,\n",
    "            criterion1,\n",
    "            epoch,\n",
    "        )\n",
    "\n",
    "        early_stopping(valid_loss, valid_pred, valid_loss, model, epoch)\n",
    "        if early_stopping.early_stop:\n",
    "            LOGGER.info(\"Early stopping\")\n",
    "            break\n",
    "\n",
    "        pbar.set_postfix(\n",
    "            train_loss=train_loss,\n",
    "            valid_loss=valid_loss,\n",
    "            lr=optimizer.param_groups[0][\"lr\"],\n",
    "            es=early_stopping.counter,\n",
    "        )\n",
    "\n",
    "        LOGGER.info(\n",
    "            f\"epoch:{epoch}/{cfg.n_epochs} | train_loss:{train_loss: .5f} valid_loss:{valid_loss: .5f} valid_score:{valid_score: .5f}\"\n",
    "        )\n",
    "\n",
    "    best_pred = early_stopping.best_pred\n",
    "    best_score = get_score(\n",
    "        valid_true_df, valid_pred_df, best_pred, thr=cfg.thr, size=cfg.size\n",
    "    )\n",
    "    best_loss = early_stopping.best_loss\n",
    "\n",
    "    LOGGER.info(\"=\" * 30)\n",
    "    LOGGER.info(\n",
    "        f\"fold {i_fold} | best_score:{best_score: .5f} best_loss:{best_loss: .5f}\"\n",
    "    )\n",
    "    LOGGER.info(\"=\" * 30)\n",
    "    best_scores.append(best_score)\n",
    "    best_epochs.append(early_stopping.best_epoch)\n",
    "\n",
    "    oof.loc[oof[\"series_id\"].isin(valid_id), [\"onset\", \"wakeup\"]] = best_pred.reshape(\n",
    "        -1, 2\n",
    "    )\n",
    "\n",
    "oof = pl.from_pandas(oof)\n",
    "oof = oof.group_by([\"series_id\", \"step\"], maintain_order=True).agg(\n",
    "    (pl.col(\"onset\").mean().alias(\"onset\")),\n",
    "    (pl.col(\"wakeup\").mean().alias(\"wakeup\")),\n",
    ")\n",
    "oof = oof.select([\"series_id\", \"onset\", \"wakeup\"])\n",
    "oof.write_parquet(Path(cfg.OUTPUT_EXP_PREDS_PATH) / \"oof.parquet\")\n",
    "cv_score = get_score(\n",
    "    train_events_df,\n",
    "    train_series_df,\n",
    "    oof[[\"onset\", \"wakeup\"]].to_numpy().flatten(),\n",
    "    thr=cfg.thr,\n",
    "    size=cfg.size,\n",
    ")\n",
    "\n",
    "LOGGER.info(\"=\" * 20)\n",
    "LOGGER.info(f\"cv: {cv_score: .5f} ±{np.std(best_scores): .5f}\")\n",
    "LOGGER.info(\"=\" * 20)\n",
    "\n",
    "LOGGER.info(f\"elapsed time: {time.time()-s:.2f}sec\")\n"
   ]
  },
  {
   "cell_type": "code",
   "execution_count": 23,
   "metadata": {},
   "outputs": [
    {
     "name": "stdout",
     "output_type": "stream",
     "text": [
      "Starting upload for file preds.tar\n"
     ]
    },
    {
     "name": "stderr",
     "output_type": "stream",
     "text": [
      "100%|██████████| 924M/924M [01:20<00:00, 12.0MB/s] \n"
     ]
    },
    {
     "name": "stdout",
     "output_type": "stream",
     "text": [
      "Upload successful: preds.tar (924MB)\n",
      "Starting upload for file model.tar\n"
     ]
    },
    {
     "name": "stderr",
     "output_type": "stream",
     "text": [
      "100%|██████████| 44.2M/44.2M [00:05<00:00, 8.13MB/s]\n"
     ]
    },
    {
     "name": "stdout",
     "output_type": "stream",
     "text": [
      "Upload successful: model.tar (44MB)\n"
     ]
    }
   ],
   "source": [
    "# dataset_create_new(dataset_name=f\"cmi-{cfg.EXP}\", upload_dir=cfg.OUTPUT_EXP_PATH)\n"
   ]
  },
  {
   "cell_type": "code",
   "execution_count": null,
   "metadata": {},
   "outputs": [],
   "source": []
  }
 ],
 "metadata": {
  "kernelspec": {
   "display_name": "Python 3 (ipykernel)",
   "language": "python",
   "name": "python3"
  },
  "orig_nbformat": 4
 },
 "nbformat": 4,
 "nbformat_minor": 2
}
