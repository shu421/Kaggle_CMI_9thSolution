{
 "cells": [
  {
   "cell_type": "code",
   "execution_count": 1,
   "metadata": {},
   "outputs": [
    {
     "name": "stdout",
     "output_type": "stream",
     "text": [
      "Sat Nov 25 12:07:27 2023       \n",
      "+---------------------------------------------------------------------------------------+\n",
      "| NVIDIA-SMI 530.30.02              Driver Version: 530.30.02    CUDA Version: 12.1     |\n",
      "|-----------------------------------------+----------------------+----------------------+\n",
      "| GPU  Name                  Persistence-M| Bus-Id        Disp.A | Volatile Uncorr. ECC |\n",
      "| Fan  Temp  Perf            Pwr:Usage/Cap|         Memory-Usage | GPU-Util  Compute M. |\n",
      "|                                         |                      |               MIG M. |\n",
      "|=========================================+======================+======================|\n",
      "|   0  NVIDIA GeForce RTX 3090 Ti      On | 00000000:01:00.0 Off |                  Off |\n",
      "|  0%   32C    P8               18W / 480W|    679MiB / 24564MiB |      0%      Default |\n",
      "|                                         |                      |                  N/A |\n",
      "+-----------------------------------------+----------------------+----------------------+\n",
      "                                                                                         \n",
      "+---------------------------------------------------------------------------------------+\n",
      "| Processes:                                                                            |\n",
      "|  GPU   GI   CI        PID   Type   Process name                            GPU Memory |\n",
      "|        ID   ID                                                             Usage      |\n",
      "|=======================================================================================|\n",
      "+---------------------------------------------------------------------------------------+\n"
     ]
    }
   ],
   "source": [
    "!nvidia-smi\n"
   ]
  },
  {
   "cell_type": "code",
   "execution_count": 2,
   "metadata": {},
   "outputs": [
    {
     "name": "stdout",
     "output_type": "stream",
     "text": [
      "Warning: Your Kaggle API key is readable by other users on this system! To fix this, you can run 'chmod 600 /root/.kaggle/kaggle.json'\n",
      "INFO: Pandarallel will run on 12 workers.\n",
      "INFO: Pandarallel will use Memory file system to transfer data between the main process and workers.\n",
      "env: TOKENIZERS_PARALLELISM=true\n"
     ]
    }
   ],
   "source": [
    "import sys\n",
    "sys.path.append('../')\n",
    "\n",
    "import os\n",
    "import re\n",
    "import gc\n",
    "import pdb\n",
    "import json\n",
    "import time\n",
    "import yaml\n",
    "import pickle\n",
    "import shutil\n",
    "import joblib\n",
    "import random\n",
    "import datetime\n",
    "import requests\n",
    "import warnings\n",
    "warnings.filterwarnings('ignore')\n",
    "from ast import literal_eval\n",
    "from tqdm.auto import tqdm\n",
    "from pathlib import Path\n",
    "from glob import glob\n",
    "\n",
    "import numpy as np\n",
    "import pandas as pd\n",
    "import polars as pl\n",
    "import scipy\n",
    "import itertools\n",
    "import matplotlib.pyplot as plt\n",
    "import seaborn as sns\n",
    "import plotly.express as px\n",
    "from sklearn.model_selection import (\n",
    "    StratifiedKFold,\n",
    "    KFold,\n",
    "    GroupKFold,\n",
    "    StratifiedGroupKFold\n",
    ")\n",
    "from sklearn.metrics import mean_squared_error\n",
    "from sklearn.preprocessing import StandardScaler, RobustScaler\n",
    "\n",
    "\n",
    "import torch\n",
    "import torch.nn as nn\n",
    "from torch.utils.data import Dataset, DataLoader, Subset\n",
    "from torch.utils.checkpoint import checkpoint\n",
    "from torch.cuda.amp import autocast, GradScaler\n",
    "import torch.nn.functional as F\n",
    "from torch import Tensor\n",
    "\n",
    "import transformers\n",
    "from transformers import AutoConfig, AutoModel, AutoTokenizer\n",
    "from transformers import AdamW, get_linear_schedule_with_warmup, get_cosine_schedule_with_warmup\n",
    "import tokenizers\n",
    "import sentencepiece\n",
    "from transformers import logging\n",
    "\n",
    "from pandarallel import pandarallel\n",
    "\n",
    "from kaggle.api.kaggle_api_extended import KaggleApi\n",
    "\n",
    "from kagglib.nn import EarlyStopping, AverageMeter, MCRMSELoss, MeanPooling, AttentionPooling, GeMPooling, LSTMPooling\n",
    "from kagglib.utils import get_logger, setup, seed_everything, dataset_create_new\n",
    "from kagglib.utils.exp_manage import set_wandb\n",
    "from kagglib.nlp import freeze, get_scheduler, get_optimizer_grouped_parameters, collate\n",
    "from kagglib.nlp import collate\n",
    "from kagglib.nn import get_n_params\n",
    "\n",
    "from src.metrics import event_detection_ap\n",
    "from src.utils import get_event, get_score\n",
    "from src.feature_engineering import find_similar_steps\n",
    "from src.models import (\n",
    "    DoubleConv,\n",
    "    Up,\n",
    "    Down,\n",
    "    MultiResidualBiGRU,\n",
    "    WaveNetBlock,\n",
    "    )\n",
    "\n",
    "\n",
    "\n",
    "sns.set()\n",
    "plt.style.use('ggplot')\n",
    "plt.rcParams['figure.figsize'] = (20, 5)\n",
    "pandarallel.initialize(progress_bar=True)\n",
    "logging.set_verbosity_warning()\n",
    "logging.set_verbosity_error()\n",
    "%env TOKENIZERS_PARALLELISM=true\n",
    "%load_ext autoreload\n",
    "%autoreload 2\n"
   ]
  },
  {
   "cell_type": "code",
   "execution_count": 3,
   "metadata": {},
   "outputs": [],
   "source": [
    "class Config:\n",
    "    AUTHOR = \"shu421\"\n",
    "\n",
    "    EXP = \"exp101\"\n",
    "    BASE_PATH = \"/home/working/\"\n",
    "    API_PATH = \"/root/.kaggle/kaggle.json\"\n",
    "    COMPETITION = \"child-mind-institute-detect-sleep-states\"\n",
    "\n",
    "    seed = 42\n",
    "    apex = False\n",
    "    wandb = False\n",
    "    upload = False\n",
    "\n",
    "    # training\n",
    "    n_splits = 5\n",
    "    batch_size = 32\n",
    "    n_epochs = 30\n",
    "    es_patience = 10\n",
    "    num_workers = 4\n",
    "    target_cols = [\"asleep\", \"onset\", \"wakeup\"]\n",
    "    n_targets = len(target_cols)\n",
    "    eval_steps = np.inf\n",
    "\n",
    "    train_max_length = 17280\n",
    "    train_stride = 17280\n",
    "    valid_max_length = 17280\n",
    "    valid_stride = 17280\n",
    "\n",
    "    # heatmap label\n",
    "    sigma = 12\n",
    "    pos_weight = 100\n",
    "\n",
    "    # optimizer\n",
    "    weight_decay = 0.01\n",
    "    betas = (0.9, 0.999)\n",
    "    lr = 8e-4\n",
    "    lr_weight_decay = 0.95\n",
    "    min_lr = 1e-6\n",
    "    eps = 1e-6\n",
    "    clip_grad_norm = 1000\n",
    "    gradient_accumulation_steps = 1\n",
    "\n",
    "    # scheduler\n",
    "    scheduler = \"cosine\"\n",
    "    num_cycles = 0.5\n",
    "    num_warmup_steps_rate = 0\n",
    "\n",
    "    # metrics\n",
    "    thr = 0.1\n",
    "    size = 12 * 10  # 10 min\n",
    "\n",
    "\n",
    "cfg = setup(Config)\n",
    "\n",
    "\n",
    "# set log functions\n",
    "LOGGER = get_logger(Path(cfg.log_path) / f\"{cfg.EXP}.log\")\n",
    "\n",
    "if cfg.wandb:\n",
    "    run = set_wandb(\n",
    "        cfg, name=cfg.EXP, group=cfg.model_name, config_path=\"/root/.kaggle/wandb.json\"\n",
    "    )\n"
   ]
  },
  {
   "cell_type": "markdown",
   "metadata": {},
   "source": [
    "# Data Load"
   ]
  },
  {
   "cell_type": "code",
   "execution_count": 4,
   "metadata": {},
   "outputs": [],
   "source": [
    "train_series_df = pl.read_parquet(cfg.INPUT_PATH / \"train_series.parquet\")\n",
    "train_events_df = pl.read_csv(cfg.INPUT_PATH / \"train_events.csv\")\n",
    "sample_submission = pd.read_csv(cfg.INPUT_PATH / \"sample_submission.csv\")\n"
   ]
  },
  {
   "cell_type": "code",
   "execution_count": 5,
   "metadata": {},
   "outputs": [
    {
     "data": {
      "text/html": [
       "<div><style>\n",
       ".dataframe > thead > tr > th,\n",
       ".dataframe > tbody > tr > td {\n",
       "  text-align: right;\n",
       "  white-space: pre-wrap;\n",
       "}\n",
       "</style>\n",
       "<small>shape: (127_946_340, 5)</small><table border=\"1\" class=\"dataframe\"><thead><tr><th>series_id</th><th>step</th><th>timestamp</th><th>anglez</th><th>enmo</th></tr><tr><td>str</td><td>u32</td><td>str</td><td>f32</td><td>f32</td></tr></thead><tbody><tr><td>&quot;038441c925bb&quot;</td><td>0</td><td>&quot;2018-08-14T15:…</td><td>2.6367</td><td>0.0217</td></tr><tr><td>&quot;038441c925bb&quot;</td><td>1</td><td>&quot;2018-08-14T15:…</td><td>2.6368</td><td>0.0215</td></tr><tr><td>&quot;038441c925bb&quot;</td><td>2</td><td>&quot;2018-08-14T15:…</td><td>2.637</td><td>0.0216</td></tr><tr><td>&quot;038441c925bb&quot;</td><td>3</td><td>&quot;2018-08-14T15:…</td><td>2.6368</td><td>0.0213</td></tr><tr><td>&quot;038441c925bb&quot;</td><td>4</td><td>&quot;2018-08-14T15:…</td><td>2.6368</td><td>0.0215</td></tr><tr><td>&quot;038441c925bb&quot;</td><td>5</td><td>&quot;2018-08-14T15:…</td><td>2.6367</td><td>0.0217</td></tr><tr><td>&quot;038441c925bb&quot;</td><td>6</td><td>&quot;2018-08-14T15:…</td><td>2.6367</td><td>0.0217</td></tr><tr><td>&quot;038441c925bb&quot;</td><td>7</td><td>&quot;2018-08-14T15:…</td><td>2.6367</td><td>0.0218</td></tr><tr><td>&quot;038441c925bb&quot;</td><td>8</td><td>&quot;2018-08-14T15:…</td><td>2.798</td><td>0.0223</td></tr><tr><td>&quot;038441c925bb&quot;</td><td>9</td><td>&quot;2018-08-14T15:…</td><td>3.0847</td><td>0.0217</td></tr><tr><td>&quot;038441c925bb&quot;</td><td>10</td><td>&quot;2018-08-14T15:…</td><td>2.7802</td><td>0.0229</td></tr><tr><td>&quot;038441c925bb&quot;</td><td>11</td><td>&quot;2018-08-14T15:…</td><td>2.5205</td><td>0.0216</td></tr><tr><td>&hellip;</td><td>&hellip;</td><td>&hellip;</td><td>&hellip;</td><td>&hellip;</td></tr><tr><td>&quot;fe90110788d2&quot;</td><td>592368</td><td>&quot;2017-09-08T00:…</td><td>-27.9879</td><td>0.0196</td></tr><tr><td>&quot;fe90110788d2&quot;</td><td>592369</td><td>&quot;2017-09-08T00:…</td><td>-27.900101</td><td>0.0197</td></tr><tr><td>&quot;fe90110788d2&quot;</td><td>592370</td><td>&quot;2017-09-08T00:…</td><td>-27.919701</td><td>0.0205</td></tr><tr><td>&quot;fe90110788d2&quot;</td><td>592371</td><td>&quot;2017-09-08T00:…</td><td>-27.922701</td><td>0.0204</td></tr><tr><td>&quot;fe90110788d2&quot;</td><td>592372</td><td>&quot;2017-09-08T00:…</td><td>-27.647301</td><td>0.0207</td></tr><tr><td>&quot;fe90110788d2&quot;</td><td>592373</td><td>&quot;2017-09-08T00:…</td><td>-27.649099</td><td>0.0202</td></tr><tr><td>&quot;fe90110788d2&quot;</td><td>592374</td><td>&quot;2017-09-08T00:…</td><td>-27.450001</td><td>0.0203</td></tr><tr><td>&quot;fe90110788d2&quot;</td><td>592375</td><td>&quot;2017-09-08T00:…</td><td>-27.2775</td><td>0.0204</td></tr><tr><td>&quot;fe90110788d2&quot;</td><td>592376</td><td>&quot;2017-09-08T00:…</td><td>-27.032499</td><td>0.0233</td></tr><tr><td>&quot;fe90110788d2&quot;</td><td>592377</td><td>&quot;2017-09-08T00:…</td><td>-26.8412</td><td>0.0202</td></tr><tr><td>&quot;fe90110788d2&quot;</td><td>592378</td><td>&quot;2017-09-08T00:…</td><td>-26.7239</td><td>0.0199</td></tr><tr><td>&quot;fe90110788d2&quot;</td><td>592379</td><td>&quot;2017-09-08T00:…</td><td>-31.521601</td><td>0.0205</td></tr></tbody></table></div>"
      ],
      "text/plain": [
       "shape: (127_946_340, 5)\n",
       "┌──────────────┬────────┬──────────────────────────┬────────────┬────────┐\n",
       "│ series_id    ┆ step   ┆ timestamp                ┆ anglez     ┆ enmo   │\n",
       "│ ---          ┆ ---    ┆ ---                      ┆ ---        ┆ ---    │\n",
       "│ str          ┆ u32    ┆ str                      ┆ f32        ┆ f32    │\n",
       "╞══════════════╪════════╪══════════════════════════╪════════════╪════════╡\n",
       "│ 038441c925bb ┆ 0      ┆ 2018-08-14T15:30:00-0400 ┆ 2.6367     ┆ 0.0217 │\n",
       "│ 038441c925bb ┆ 1      ┆ 2018-08-14T15:30:05-0400 ┆ 2.6368     ┆ 0.0215 │\n",
       "│ 038441c925bb ┆ 2      ┆ 2018-08-14T15:30:10-0400 ┆ 2.637      ┆ 0.0216 │\n",
       "│ 038441c925bb ┆ 3      ┆ 2018-08-14T15:30:15-0400 ┆ 2.6368     ┆ 0.0213 │\n",
       "│ …            ┆ …      ┆ …                        ┆ …          ┆ …      │\n",
       "│ fe90110788d2 ┆ 592376 ┆ 2017-09-08T00:14:40-0400 ┆ -27.032499 ┆ 0.0233 │\n",
       "│ fe90110788d2 ┆ 592377 ┆ 2017-09-08T00:14:45-0400 ┆ -26.8412   ┆ 0.0202 │\n",
       "│ fe90110788d2 ┆ 592378 ┆ 2017-09-08T00:14:50-0400 ┆ -26.7239   ┆ 0.0199 │\n",
       "│ fe90110788d2 ┆ 592379 ┆ 2017-09-08T00:14:55-0400 ┆ -31.521601 ┆ 0.0205 │\n",
       "└──────────────┴────────┴──────────────────────────┴────────────┴────────┘"
      ]
     },
     "execution_count": 5,
     "metadata": {},
     "output_type": "execute_result"
    }
   ],
   "source": [
    "train_series_df\n"
   ]
  },
  {
   "cell_type": "code",
   "execution_count": 6,
   "metadata": {},
   "outputs": [],
   "source": [
    "train_series_df = train_series_df.join(\n",
    "    train_events_df.select([\"series_id\", \"timestamp\", \"night\"]),\n",
    "    on=[\"series_id\", \"timestamp\"],\n",
    "    how=\"left\",\n",
    ")\n"
   ]
  },
  {
   "cell_type": "code",
   "execution_count": 7,
   "metadata": {},
   "outputs": [
    {
     "data": {
      "text/html": [
       "<div><style>\n",
       ".dataframe > thead > tr > th,\n",
       ".dataframe > tbody > tr > td {\n",
       "  text-align: right;\n",
       "  white-space: pre-wrap;\n",
       "}\n",
       "</style>\n",
       "<small>shape: (127_946_340, 6)</small><table border=\"1\" class=\"dataframe\"><thead><tr><th>series_id</th><th>step</th><th>timestamp</th><th>anglez</th><th>enmo</th><th>night</th></tr><tr><td>str</td><td>u32</td><td>str</td><td>f32</td><td>f32</td><td>i64</td></tr></thead><tbody><tr><td>&quot;038441c925bb&quot;</td><td>0</td><td>&quot;2018-08-14T15:…</td><td>2.6367</td><td>0.0217</td><td>null</td></tr><tr><td>&quot;038441c925bb&quot;</td><td>1</td><td>&quot;2018-08-14T15:…</td><td>2.6368</td><td>0.0215</td><td>null</td></tr><tr><td>&quot;038441c925bb&quot;</td><td>2</td><td>&quot;2018-08-14T15:…</td><td>2.637</td><td>0.0216</td><td>null</td></tr><tr><td>&quot;038441c925bb&quot;</td><td>3</td><td>&quot;2018-08-14T15:…</td><td>2.6368</td><td>0.0213</td><td>null</td></tr><tr><td>&quot;038441c925bb&quot;</td><td>4</td><td>&quot;2018-08-14T15:…</td><td>2.6368</td><td>0.0215</td><td>null</td></tr><tr><td>&quot;038441c925bb&quot;</td><td>5</td><td>&quot;2018-08-14T15:…</td><td>2.6367</td><td>0.0217</td><td>null</td></tr><tr><td>&quot;038441c925bb&quot;</td><td>6</td><td>&quot;2018-08-14T15:…</td><td>2.6367</td><td>0.0217</td><td>null</td></tr><tr><td>&quot;038441c925bb&quot;</td><td>7</td><td>&quot;2018-08-14T15:…</td><td>2.6367</td><td>0.0218</td><td>null</td></tr><tr><td>&quot;038441c925bb&quot;</td><td>8</td><td>&quot;2018-08-14T15:…</td><td>2.798</td><td>0.0223</td><td>null</td></tr><tr><td>&quot;038441c925bb&quot;</td><td>9</td><td>&quot;2018-08-14T15:…</td><td>3.0847</td><td>0.0217</td><td>null</td></tr><tr><td>&quot;038441c925bb&quot;</td><td>10</td><td>&quot;2018-08-14T15:…</td><td>2.7802</td><td>0.0229</td><td>null</td></tr><tr><td>&quot;038441c925bb&quot;</td><td>11</td><td>&quot;2018-08-14T15:…</td><td>2.5205</td><td>0.0216</td><td>null</td></tr><tr><td>&hellip;</td><td>&hellip;</td><td>&hellip;</td><td>&hellip;</td><td>&hellip;</td><td>&hellip;</td></tr><tr><td>&quot;fe90110788d2&quot;</td><td>592368</td><td>&quot;2017-09-08T00:…</td><td>-27.9879</td><td>0.0196</td><td>null</td></tr><tr><td>&quot;fe90110788d2&quot;</td><td>592369</td><td>&quot;2017-09-08T00:…</td><td>-27.900101</td><td>0.0197</td><td>null</td></tr><tr><td>&quot;fe90110788d2&quot;</td><td>592370</td><td>&quot;2017-09-08T00:…</td><td>-27.919701</td><td>0.0205</td><td>null</td></tr><tr><td>&quot;fe90110788d2&quot;</td><td>592371</td><td>&quot;2017-09-08T00:…</td><td>-27.922701</td><td>0.0204</td><td>null</td></tr><tr><td>&quot;fe90110788d2&quot;</td><td>592372</td><td>&quot;2017-09-08T00:…</td><td>-27.647301</td><td>0.0207</td><td>null</td></tr><tr><td>&quot;fe90110788d2&quot;</td><td>592373</td><td>&quot;2017-09-08T00:…</td><td>-27.649099</td><td>0.0202</td><td>null</td></tr><tr><td>&quot;fe90110788d2&quot;</td><td>592374</td><td>&quot;2017-09-08T00:…</td><td>-27.450001</td><td>0.0203</td><td>null</td></tr><tr><td>&quot;fe90110788d2&quot;</td><td>592375</td><td>&quot;2017-09-08T00:…</td><td>-27.2775</td><td>0.0204</td><td>null</td></tr><tr><td>&quot;fe90110788d2&quot;</td><td>592376</td><td>&quot;2017-09-08T00:…</td><td>-27.032499</td><td>0.0233</td><td>null</td></tr><tr><td>&quot;fe90110788d2&quot;</td><td>592377</td><td>&quot;2017-09-08T00:…</td><td>-26.8412</td><td>0.0202</td><td>null</td></tr><tr><td>&quot;fe90110788d2&quot;</td><td>592378</td><td>&quot;2017-09-08T00:…</td><td>-26.7239</td><td>0.0199</td><td>null</td></tr><tr><td>&quot;fe90110788d2&quot;</td><td>592379</td><td>&quot;2017-09-08T00:…</td><td>-31.521601</td><td>0.0205</td><td>null</td></tr></tbody></table></div>"
      ],
      "text/plain": [
       "shape: (127_946_340, 6)\n",
       "┌──────────────┬────────┬──────────────────────────┬────────────┬────────┬───────┐\n",
       "│ series_id    ┆ step   ┆ timestamp                ┆ anglez     ┆ enmo   ┆ night │\n",
       "│ ---          ┆ ---    ┆ ---                      ┆ ---        ┆ ---    ┆ ---   │\n",
       "│ str          ┆ u32    ┆ str                      ┆ f32        ┆ f32    ┆ i64   │\n",
       "╞══════════════╪════════╪══════════════════════════╪════════════╪════════╪═══════╡\n",
       "│ 038441c925bb ┆ 0      ┆ 2018-08-14T15:30:00-0400 ┆ 2.6367     ┆ 0.0217 ┆ null  │\n",
       "│ 038441c925bb ┆ 1      ┆ 2018-08-14T15:30:05-0400 ┆ 2.6368     ┆ 0.0215 ┆ null  │\n",
       "│ 038441c925bb ┆ 2      ┆ 2018-08-14T15:30:10-0400 ┆ 2.637      ┆ 0.0216 ┆ null  │\n",
       "│ 038441c925bb ┆ 3      ┆ 2018-08-14T15:30:15-0400 ┆ 2.6368     ┆ 0.0213 ┆ null  │\n",
       "│ …            ┆ …      ┆ …                        ┆ …          ┆ …      ┆ …     │\n",
       "│ fe90110788d2 ┆ 592376 ┆ 2017-09-08T00:14:40-0400 ┆ -27.032499 ┆ 0.0233 ┆ null  │\n",
       "│ fe90110788d2 ┆ 592377 ┆ 2017-09-08T00:14:45-0400 ┆ -26.8412   ┆ 0.0202 ┆ null  │\n",
       "│ fe90110788d2 ┆ 592378 ┆ 2017-09-08T00:14:50-0400 ┆ -26.7239   ┆ 0.0199 ┆ null  │\n",
       "│ fe90110788d2 ┆ 592379 ┆ 2017-09-08T00:14:55-0400 ┆ -31.521601 ┆ 0.0205 ┆ null  │\n",
       "└──────────────┴────────┴──────────────────────────┴────────────┴────────┴───────┘"
      ]
     },
     "execution_count": 7,
     "metadata": {},
     "output_type": "execute_result"
    }
   ],
   "source": [
    "train_series_df\n"
   ]
  },
  {
   "cell_type": "code",
   "execution_count": 8,
   "metadata": {},
   "outputs": [
    {
     "data": {
      "text/html": [
       "<div><style>\n",
       ".dataframe > thead > tr > th,\n",
       ".dataframe > tbody > tr > td {\n",
       "  text-align: right;\n",
       "  white-space: pre-wrap;\n",
       "}\n",
       "</style>\n",
       "<small>shape: (14_508, 5)</small><table border=\"1\" class=\"dataframe\"><thead><tr><th>series_id</th><th>night</th><th>event</th><th>step</th><th>timestamp</th></tr><tr><td>str</td><td>i64</td><td>str</td><td>i64</td><td>str</td></tr></thead><tbody><tr><td>&quot;038441c925bb&quot;</td><td>1</td><td>&quot;onset&quot;</td><td>4992</td><td>&quot;2018-08-14T22:…</td></tr><tr><td>&quot;038441c925bb&quot;</td><td>1</td><td>&quot;wakeup&quot;</td><td>10932</td><td>&quot;2018-08-15T06:…</td></tr><tr><td>&quot;038441c925bb&quot;</td><td>2</td><td>&quot;onset&quot;</td><td>20244</td><td>&quot;2018-08-15T19:…</td></tr><tr><td>&quot;038441c925bb&quot;</td><td>2</td><td>&quot;wakeup&quot;</td><td>27492</td><td>&quot;2018-08-16T05:…</td></tr><tr><td>&quot;038441c925bb&quot;</td><td>3</td><td>&quot;onset&quot;</td><td>39996</td><td>&quot;2018-08-16T23:…</td></tr><tr><td>&quot;038441c925bb&quot;</td><td>3</td><td>&quot;wakeup&quot;</td><td>44400</td><td>&quot;2018-08-17T05:…</td></tr><tr><td>&quot;038441c925bb&quot;</td><td>4</td><td>&quot;onset&quot;</td><td>57240</td><td>&quot;2018-08-17T23:…</td></tr><tr><td>&quot;038441c925bb&quot;</td><td>4</td><td>&quot;wakeup&quot;</td><td>62856</td><td>&quot;2018-08-18T06:…</td></tr><tr><td>&quot;038441c925bb&quot;</td><td>5</td><td>&quot;onset&quot;</td><td>null</td><td>null</td></tr><tr><td>&quot;038441c925bb&quot;</td><td>5</td><td>&quot;wakeup&quot;</td><td>null</td><td>null</td></tr><tr><td>&quot;038441c925bb&quot;</td><td>6</td><td>&quot;onset&quot;</td><td>91296</td><td>&quot;2018-08-19T22:…</td></tr><tr><td>&quot;038441c925bb&quot;</td><td>6</td><td>&quot;wakeup&quot;</td><td>97860</td><td>&quot;2018-08-20T07:…</td></tr><tr><td>&hellip;</td><td>&hellip;</td><td>&hellip;</td><td>&hellip;</td><td>&hellip;</td></tr><tr><td>&quot;fe90110788d2&quot;</td><td>30</td><td>&quot;onset&quot;</td><td>505116</td><td>&quot;2017-09-02T23:…</td></tr><tr><td>&quot;fe90110788d2&quot;</td><td>30</td><td>&quot;wakeup&quot;</td><td>511284</td><td>&quot;2017-09-03T07:…</td></tr><tr><td>&quot;fe90110788d2&quot;</td><td>31</td><td>&quot;onset&quot;</td><td>522852</td><td>&quot;2017-09-03T23:…</td></tr><tr><td>&quot;fe90110788d2&quot;</td><td>31</td><td>&quot;wakeup&quot;</td><td>529104</td><td>&quot;2017-09-04T08:…</td></tr><tr><td>&quot;fe90110788d2&quot;</td><td>32</td><td>&quot;onset&quot;</td><td>538956</td><td>&quot;2017-09-04T22:…</td></tr><tr><td>&quot;fe90110788d2&quot;</td><td>32</td><td>&quot;wakeup&quot;</td><td>547152</td><td>&quot;2017-09-05T09:…</td></tr><tr><td>&quot;fe90110788d2&quot;</td><td>33</td><td>&quot;onset&quot;</td><td>556560</td><td>&quot;2017-09-05T22:…</td></tr><tr><td>&quot;fe90110788d2&quot;</td><td>33</td><td>&quot;wakeup&quot;</td><td>560604</td><td>&quot;2017-09-06T04:…</td></tr><tr><td>&quot;fe90110788d2&quot;</td><td>34</td><td>&quot;onset&quot;</td><td>574620</td><td>&quot;2017-09-06T23:…</td></tr><tr><td>&quot;fe90110788d2&quot;</td><td>34</td><td>&quot;wakeup&quot;</td><td>581604</td><td>&quot;2017-09-07T09:…</td></tr><tr><td>&quot;fe90110788d2&quot;</td><td>35</td><td>&quot;onset&quot;</td><td>null</td><td>null</td></tr><tr><td>&quot;fe90110788d2&quot;</td><td>35</td><td>&quot;wakeup&quot;</td><td>null</td><td>null</td></tr></tbody></table></div>"
      ],
      "text/plain": [
       "shape: (14_508, 5)\n",
       "┌──────────────┬───────┬────────┬────────┬──────────────────────────┐\n",
       "│ series_id    ┆ night ┆ event  ┆ step   ┆ timestamp                │\n",
       "│ ---          ┆ ---   ┆ ---    ┆ ---    ┆ ---                      │\n",
       "│ str          ┆ i64   ┆ str    ┆ i64    ┆ str                      │\n",
       "╞══════════════╪═══════╪════════╪════════╪══════════════════════════╡\n",
       "│ 038441c925bb ┆ 1     ┆ onset  ┆ 4992   ┆ 2018-08-14T22:26:00-0400 │\n",
       "│ 038441c925bb ┆ 1     ┆ wakeup ┆ 10932  ┆ 2018-08-15T06:41:00-0400 │\n",
       "│ 038441c925bb ┆ 2     ┆ onset  ┆ 20244  ┆ 2018-08-15T19:37:00-0400 │\n",
       "│ 038441c925bb ┆ 2     ┆ wakeup ┆ 27492  ┆ 2018-08-16T05:41:00-0400 │\n",
       "│ …            ┆ …     ┆ …      ┆ …      ┆ …                        │\n",
       "│ fe90110788d2 ┆ 34    ┆ onset  ┆ 574620 ┆ 2017-09-06T23:35:00-0400 │\n",
       "│ fe90110788d2 ┆ 34    ┆ wakeup ┆ 581604 ┆ 2017-09-07T09:17:00-0400 │\n",
       "│ fe90110788d2 ┆ 35    ┆ onset  ┆ null   ┆ null                     │\n",
       "│ fe90110788d2 ┆ 35    ┆ wakeup ┆ null   ┆ null                     │\n",
       "└──────────────┴───────┴────────┴────────┴──────────────────────────┘"
      ]
     },
     "execution_count": 8,
     "metadata": {},
     "output_type": "execute_result"
    }
   ],
   "source": [
    "train_events_df\n"
   ]
  },
  {
   "cell_type": "code",
   "execution_count": 9,
   "metadata": {},
   "outputs": [
    {
     "data": {
      "text/html": [
       "<div><style>\n",
       ".dataframe > thead > tr > th,\n",
       ".dataframe > tbody > tr > td {\n",
       "  text-align: right;\n",
       "  white-space: pre-wrap;\n",
       "}\n",
       "</style>\n",
       "<small>shape: (5, 3)</small><table border=\"1\" class=\"dataframe\"><thead><tr><th>series_id</th><th>night</th><th>count</th></tr><tr><td>str</td><td>i64</td><td>u32</td></tr></thead><tbody><tr><td>&quot;0ce74d6d2106&quot;</td><td>20</td><td>1</td></tr><tr><td>&quot;154fe824ed87&quot;</td><td>30</td><td>1</td></tr><tr><td>&quot;44a41bba1ee7&quot;</td><td>10</td><td>1</td></tr><tr><td>&quot;efbfc4526d58&quot;</td><td>7</td><td>1</td></tr><tr><td>&quot;f8a8da8bdd00&quot;</td><td>17</td><td>1</td></tr></tbody></table></div>"
      ],
      "text/plain": [
       "shape: (5, 3)\n",
       "┌──────────────┬───────┬───────┐\n",
       "│ series_id    ┆ night ┆ count │\n",
       "│ ---          ┆ ---   ┆ ---   │\n",
       "│ str          ┆ i64   ┆ u32   │\n",
       "╞══════════════╪═══════╪═══════╡\n",
       "│ 0ce74d6d2106 ┆ 20    ┆ 1     │\n",
       "│ 154fe824ed87 ┆ 30    ┆ 1     │\n",
       "│ 44a41bba1ee7 ┆ 10    ┆ 1     │\n",
       "│ efbfc4526d58 ┆ 7     ┆ 1     │\n",
       "│ f8a8da8bdd00 ┆ 17    ┆ 1     │\n",
       "└──────────────┴───────┴───────┘"
      ]
     },
     "execution_count": 9,
     "metadata": {},
     "output_type": "execute_result"
    }
   ],
   "source": [
    "train_events_df = train_events_df.drop_nulls()\n",
    "bad_nights = (\n",
    "    train_events_df[[\"series_id\", \"night\", \"event\"]]\n",
    "    .group_by([\"series_id\", \"night\"], maintain_order=True)\n",
    "    .count()\n",
    ")\n",
    "bad_nights.filter(pl.col(\"count\") != 2)\n"
   ]
  },
  {
   "cell_type": "code",
   "execution_count": 10,
   "metadata": {},
   "outputs": [],
   "source": [
    "train_events_df = train_events_df.filter(\n",
    "    ~(\n",
    "        (\n",
    "            (train_events_df[\"series_id\"] == \"0ce74d6d2106\")\n",
    "            & (train_events_df[\"night\"] == 20)\n",
    "        )\n",
    "        | (\n",
    "            (train_events_df[\"series_id\"] == \"154fe824ed87\")\n",
    "            & (train_events_df[\"night\"] == 30)\n",
    "        )\n",
    "        | (\n",
    "            (train_events_df[\"series_id\"] == \"44a41bba1ee7\")\n",
    "            & (train_events_df[\"night\"] == 10)\n",
    "        )\n",
    "        | (\n",
    "            (train_events_df[\"series_id\"] == \"efbfc4526d58\")\n",
    "            & (train_events_df[\"night\"] == 7)\n",
    "        )\n",
    "        | (\n",
    "            (train_events_df[\"series_id\"] == \"f8a8da8bdd00\")\n",
    "            & (train_events_df[\"night\"] == 17)\n",
    "        )\n",
    "    )\n",
    ")\n"
   ]
  },
  {
   "cell_type": "code",
   "execution_count": 11,
   "metadata": {},
   "outputs": [
    {
     "data": {
      "text/html": [
       "<div><style>\n",
       ".dataframe > thead > tr > th,\n",
       ".dataframe > tbody > tr > td {\n",
       "  text-align: right;\n",
       "  white-space: pre-wrap;\n",
       "}\n",
       "</style>\n",
       "<small>shape: (127_946_340, 6)</small><table border=\"1\" class=\"dataframe\"><thead><tr><th>series_id</th><th>step</th><th>timestamp</th><th>anglez</th><th>enmo</th><th>night</th></tr><tr><td>str</td><td>u32</td><td>str</td><td>f32</td><td>f32</td><td>i64</td></tr></thead><tbody><tr><td>&quot;038441c925bb&quot;</td><td>0</td><td>&quot;2018-08-14T15:…</td><td>2.6367</td><td>0.0217</td><td>null</td></tr><tr><td>&quot;038441c925bb&quot;</td><td>1</td><td>&quot;2018-08-14T15:…</td><td>2.6368</td><td>0.0215</td><td>null</td></tr><tr><td>&quot;038441c925bb&quot;</td><td>2</td><td>&quot;2018-08-14T15:…</td><td>2.637</td><td>0.0216</td><td>null</td></tr><tr><td>&quot;038441c925bb&quot;</td><td>3</td><td>&quot;2018-08-14T15:…</td><td>2.6368</td><td>0.0213</td><td>null</td></tr><tr><td>&quot;038441c925bb&quot;</td><td>4</td><td>&quot;2018-08-14T15:…</td><td>2.6368</td><td>0.0215</td><td>null</td></tr><tr><td>&quot;038441c925bb&quot;</td><td>5</td><td>&quot;2018-08-14T15:…</td><td>2.6367</td><td>0.0217</td><td>null</td></tr><tr><td>&quot;038441c925bb&quot;</td><td>6</td><td>&quot;2018-08-14T15:…</td><td>2.6367</td><td>0.0217</td><td>null</td></tr><tr><td>&quot;038441c925bb&quot;</td><td>7</td><td>&quot;2018-08-14T15:…</td><td>2.6367</td><td>0.0218</td><td>null</td></tr><tr><td>&quot;038441c925bb&quot;</td><td>8</td><td>&quot;2018-08-14T15:…</td><td>2.798</td><td>0.0223</td><td>null</td></tr><tr><td>&quot;038441c925bb&quot;</td><td>9</td><td>&quot;2018-08-14T15:…</td><td>3.0847</td><td>0.0217</td><td>null</td></tr><tr><td>&quot;038441c925bb&quot;</td><td>10</td><td>&quot;2018-08-14T15:…</td><td>2.7802</td><td>0.0229</td><td>null</td></tr><tr><td>&quot;038441c925bb&quot;</td><td>11</td><td>&quot;2018-08-14T15:…</td><td>2.5205</td><td>0.0216</td><td>null</td></tr><tr><td>&hellip;</td><td>&hellip;</td><td>&hellip;</td><td>&hellip;</td><td>&hellip;</td><td>&hellip;</td></tr><tr><td>&quot;fe90110788d2&quot;</td><td>592368</td><td>&quot;2017-09-08T00:…</td><td>-27.9879</td><td>0.0196</td><td>null</td></tr><tr><td>&quot;fe90110788d2&quot;</td><td>592369</td><td>&quot;2017-09-08T00:…</td><td>-27.900101</td><td>0.0197</td><td>null</td></tr><tr><td>&quot;fe90110788d2&quot;</td><td>592370</td><td>&quot;2017-09-08T00:…</td><td>-27.919701</td><td>0.0205</td><td>null</td></tr><tr><td>&quot;fe90110788d2&quot;</td><td>592371</td><td>&quot;2017-09-08T00:…</td><td>-27.922701</td><td>0.0204</td><td>null</td></tr><tr><td>&quot;fe90110788d2&quot;</td><td>592372</td><td>&quot;2017-09-08T00:…</td><td>-27.647301</td><td>0.0207</td><td>null</td></tr><tr><td>&quot;fe90110788d2&quot;</td><td>592373</td><td>&quot;2017-09-08T00:…</td><td>-27.649099</td><td>0.0202</td><td>null</td></tr><tr><td>&quot;fe90110788d2&quot;</td><td>592374</td><td>&quot;2017-09-08T00:…</td><td>-27.450001</td><td>0.0203</td><td>null</td></tr><tr><td>&quot;fe90110788d2&quot;</td><td>592375</td><td>&quot;2017-09-08T00:…</td><td>-27.2775</td><td>0.0204</td><td>null</td></tr><tr><td>&quot;fe90110788d2&quot;</td><td>592376</td><td>&quot;2017-09-08T00:…</td><td>-27.032499</td><td>0.0233</td><td>null</td></tr><tr><td>&quot;fe90110788d2&quot;</td><td>592377</td><td>&quot;2017-09-08T00:…</td><td>-26.8412</td><td>0.0202</td><td>null</td></tr><tr><td>&quot;fe90110788d2&quot;</td><td>592378</td><td>&quot;2017-09-08T00:…</td><td>-26.7239</td><td>0.0199</td><td>null</td></tr><tr><td>&quot;fe90110788d2&quot;</td><td>592379</td><td>&quot;2017-09-08T00:…</td><td>-31.521601</td><td>0.0205</td><td>null</td></tr></tbody></table></div>"
      ],
      "text/plain": [
       "shape: (127_946_340, 6)\n",
       "┌──────────────┬────────┬──────────────────────────┬────────────┬────────┬───────┐\n",
       "│ series_id    ┆ step   ┆ timestamp                ┆ anglez     ┆ enmo   ┆ night │\n",
       "│ ---          ┆ ---    ┆ ---                      ┆ ---        ┆ ---    ┆ ---   │\n",
       "│ str          ┆ u32    ┆ str                      ┆ f32        ┆ f32    ┆ i64   │\n",
       "╞══════════════╪════════╪══════════════════════════╪════════════╪════════╪═══════╡\n",
       "│ 038441c925bb ┆ 0      ┆ 2018-08-14T15:30:00-0400 ┆ 2.6367     ┆ 0.0217 ┆ null  │\n",
       "│ 038441c925bb ┆ 1      ┆ 2018-08-14T15:30:05-0400 ┆ 2.6368     ┆ 0.0215 ┆ null  │\n",
       "│ 038441c925bb ┆ 2      ┆ 2018-08-14T15:30:10-0400 ┆ 2.637      ┆ 0.0216 ┆ null  │\n",
       "│ 038441c925bb ┆ 3      ┆ 2018-08-14T15:30:15-0400 ┆ 2.6368     ┆ 0.0213 ┆ null  │\n",
       "│ …            ┆ …      ┆ …                        ┆ …          ┆ …      ┆ …     │\n",
       "│ fe90110788d2 ┆ 592376 ┆ 2017-09-08T00:14:40-0400 ┆ -27.032499 ┆ 0.0233 ┆ null  │\n",
       "│ fe90110788d2 ┆ 592377 ┆ 2017-09-08T00:14:45-0400 ┆ -26.8412   ┆ 0.0202 ┆ null  │\n",
       "│ fe90110788d2 ┆ 592378 ┆ 2017-09-08T00:14:50-0400 ┆ -26.7239   ┆ 0.0199 ┆ null  │\n",
       "│ fe90110788d2 ┆ 592379 ┆ 2017-09-08T00:14:55-0400 ┆ -31.521601 ┆ 0.0205 ┆ null  │\n",
       "└──────────────┴────────┴──────────────────────────┴────────────┴────────┴───────┘"
      ]
     },
     "execution_count": 11,
     "metadata": {},
     "output_type": "execute_result"
    }
   ],
   "source": [
    "train_series_df\n"
   ]
  },
  {
   "cell_type": "code",
   "execution_count": 12,
   "metadata": {},
   "outputs": [],
   "source": [
    "# create asleep column\n",
    "train_events_df = train_events_df.with_columns(\n",
    "    pl.when(pl.col(\"event\") == \"onset\").then(0).otherwise(1).alias(\"asleep\"),\n",
    "    pl.when(pl.col(\"event\") == \"onset\").then(1).otherwise(0).alias(\"onset\"),\n",
    "    pl.when(pl.col(\"event\") == \"wakeup\").then(1).otherwise(0).alias(\"wakeup\"),\n",
    ")\n",
    "train_series_df = train_series_df.join(\n",
    "    train_events_df.select([\"series_id\", \"timestamp\"] + cfg.target_cols),\n",
    "    on=[\"series_id\", \"timestamp\"],\n",
    "    how=\"left\",\n",
    ")\n",
    "\n",
    "train_series_df = train_series_df.with_columns(\n",
    "    (pl.col(\"asleep\").backward_fill().fill_null(0)),\n",
    "    (pl.col(\"onset\").fill_null(0)),\n",
    "    (pl.col(\"wakeup\").fill_null(0)),\n",
    ")\n"
   ]
  },
  {
   "cell_type": "code",
   "execution_count": 13,
   "metadata": {},
   "outputs": [
    {
     "data": {
      "text/html": [
       "<div><style>\n",
       ".dataframe > thead > tr > th,\n",
       ".dataframe > tbody > tr > td {\n",
       "  text-align: right;\n",
       "  white-space: pre-wrap;\n",
       "}\n",
       "</style>\n",
       "<small>shape: (127_946_340, 9)</small><table border=\"1\" class=\"dataframe\"><thead><tr><th>series_id</th><th>step</th><th>timestamp</th><th>anglez</th><th>enmo</th><th>night</th><th>asleep</th><th>onset</th><th>wakeup</th></tr><tr><td>str</td><td>u32</td><td>str</td><td>f32</td><td>f32</td><td>i64</td><td>i32</td><td>i32</td><td>i32</td></tr></thead><tbody><tr><td>&quot;038441c925bb&quot;</td><td>0</td><td>&quot;2018-08-14T15:…</td><td>2.6367</td><td>0.0217</td><td>null</td><td>0</td><td>0</td><td>0</td></tr><tr><td>&quot;038441c925bb&quot;</td><td>1</td><td>&quot;2018-08-14T15:…</td><td>2.6368</td><td>0.0215</td><td>null</td><td>0</td><td>0</td><td>0</td></tr><tr><td>&quot;038441c925bb&quot;</td><td>2</td><td>&quot;2018-08-14T15:…</td><td>2.637</td><td>0.0216</td><td>null</td><td>0</td><td>0</td><td>0</td></tr><tr><td>&quot;038441c925bb&quot;</td><td>3</td><td>&quot;2018-08-14T15:…</td><td>2.6368</td><td>0.0213</td><td>null</td><td>0</td><td>0</td><td>0</td></tr><tr><td>&quot;038441c925bb&quot;</td><td>4</td><td>&quot;2018-08-14T15:…</td><td>2.6368</td><td>0.0215</td><td>null</td><td>0</td><td>0</td><td>0</td></tr><tr><td>&quot;038441c925bb&quot;</td><td>5</td><td>&quot;2018-08-14T15:…</td><td>2.6367</td><td>0.0217</td><td>null</td><td>0</td><td>0</td><td>0</td></tr><tr><td>&quot;038441c925bb&quot;</td><td>6</td><td>&quot;2018-08-14T15:…</td><td>2.6367</td><td>0.0217</td><td>null</td><td>0</td><td>0</td><td>0</td></tr><tr><td>&quot;038441c925bb&quot;</td><td>7</td><td>&quot;2018-08-14T15:…</td><td>2.6367</td><td>0.0218</td><td>null</td><td>0</td><td>0</td><td>0</td></tr><tr><td>&quot;038441c925bb&quot;</td><td>8</td><td>&quot;2018-08-14T15:…</td><td>2.798</td><td>0.0223</td><td>null</td><td>0</td><td>0</td><td>0</td></tr><tr><td>&quot;038441c925bb&quot;</td><td>9</td><td>&quot;2018-08-14T15:…</td><td>3.0847</td><td>0.0217</td><td>null</td><td>0</td><td>0</td><td>0</td></tr><tr><td>&quot;038441c925bb&quot;</td><td>10</td><td>&quot;2018-08-14T15:…</td><td>2.7802</td><td>0.0229</td><td>null</td><td>0</td><td>0</td><td>0</td></tr><tr><td>&quot;038441c925bb&quot;</td><td>11</td><td>&quot;2018-08-14T15:…</td><td>2.5205</td><td>0.0216</td><td>null</td><td>0</td><td>0</td><td>0</td></tr><tr><td>&hellip;</td><td>&hellip;</td><td>&hellip;</td><td>&hellip;</td><td>&hellip;</td><td>&hellip;</td><td>&hellip;</td><td>&hellip;</td><td>&hellip;</td></tr><tr><td>&quot;fe90110788d2&quot;</td><td>592368</td><td>&quot;2017-09-08T00:…</td><td>-27.9879</td><td>0.0196</td><td>null</td><td>0</td><td>0</td><td>0</td></tr><tr><td>&quot;fe90110788d2&quot;</td><td>592369</td><td>&quot;2017-09-08T00:…</td><td>-27.900101</td><td>0.0197</td><td>null</td><td>0</td><td>0</td><td>0</td></tr><tr><td>&quot;fe90110788d2&quot;</td><td>592370</td><td>&quot;2017-09-08T00:…</td><td>-27.919701</td><td>0.0205</td><td>null</td><td>0</td><td>0</td><td>0</td></tr><tr><td>&quot;fe90110788d2&quot;</td><td>592371</td><td>&quot;2017-09-08T00:…</td><td>-27.922701</td><td>0.0204</td><td>null</td><td>0</td><td>0</td><td>0</td></tr><tr><td>&quot;fe90110788d2&quot;</td><td>592372</td><td>&quot;2017-09-08T00:…</td><td>-27.647301</td><td>0.0207</td><td>null</td><td>0</td><td>0</td><td>0</td></tr><tr><td>&quot;fe90110788d2&quot;</td><td>592373</td><td>&quot;2017-09-08T00:…</td><td>-27.649099</td><td>0.0202</td><td>null</td><td>0</td><td>0</td><td>0</td></tr><tr><td>&quot;fe90110788d2&quot;</td><td>592374</td><td>&quot;2017-09-08T00:…</td><td>-27.450001</td><td>0.0203</td><td>null</td><td>0</td><td>0</td><td>0</td></tr><tr><td>&quot;fe90110788d2&quot;</td><td>592375</td><td>&quot;2017-09-08T00:…</td><td>-27.2775</td><td>0.0204</td><td>null</td><td>0</td><td>0</td><td>0</td></tr><tr><td>&quot;fe90110788d2&quot;</td><td>592376</td><td>&quot;2017-09-08T00:…</td><td>-27.032499</td><td>0.0233</td><td>null</td><td>0</td><td>0</td><td>0</td></tr><tr><td>&quot;fe90110788d2&quot;</td><td>592377</td><td>&quot;2017-09-08T00:…</td><td>-26.8412</td><td>0.0202</td><td>null</td><td>0</td><td>0</td><td>0</td></tr><tr><td>&quot;fe90110788d2&quot;</td><td>592378</td><td>&quot;2017-09-08T00:…</td><td>-26.7239</td><td>0.0199</td><td>null</td><td>0</td><td>0</td><td>0</td></tr><tr><td>&quot;fe90110788d2&quot;</td><td>592379</td><td>&quot;2017-09-08T00:…</td><td>-31.521601</td><td>0.0205</td><td>null</td><td>0</td><td>0</td><td>0</td></tr></tbody></table></div>"
      ],
      "text/plain": [
       "shape: (127_946_340, 9)\n",
       "┌──────────────┬────────┬───────────────────────┬────────────┬───┬───────┬────────┬───────┬────────┐\n",
       "│ series_id    ┆ step   ┆ timestamp             ┆ anglez     ┆ … ┆ night ┆ asleep ┆ onset ┆ wakeup │\n",
       "│ ---          ┆ ---    ┆ ---                   ┆ ---        ┆   ┆ ---   ┆ ---    ┆ ---   ┆ ---    │\n",
       "│ str          ┆ u32    ┆ str                   ┆ f32        ┆   ┆ i64   ┆ i32    ┆ i32   ┆ i32    │\n",
       "╞══════════════╪════════╪═══════════════════════╪════════════╪═══╪═══════╪════════╪═══════╪════════╡\n",
       "│ 038441c925bb ┆ 0      ┆ 2018-08-14T15:30:00-0 ┆ 2.6367     ┆ … ┆ null  ┆ 0      ┆ 0     ┆ 0      │\n",
       "│              ┆        ┆ 400                   ┆            ┆   ┆       ┆        ┆       ┆        │\n",
       "│ 038441c925bb ┆ 1      ┆ 2018-08-14T15:30:05-0 ┆ 2.6368     ┆ … ┆ null  ┆ 0      ┆ 0     ┆ 0      │\n",
       "│              ┆        ┆ 400                   ┆            ┆   ┆       ┆        ┆       ┆        │\n",
       "│ 038441c925bb ┆ 2      ┆ 2018-08-14T15:30:10-0 ┆ 2.637      ┆ … ┆ null  ┆ 0      ┆ 0     ┆ 0      │\n",
       "│              ┆        ┆ 400                   ┆            ┆   ┆       ┆        ┆       ┆        │\n",
       "│ 038441c925bb ┆ 3      ┆ 2018-08-14T15:30:15-0 ┆ 2.6368     ┆ … ┆ null  ┆ 0      ┆ 0     ┆ 0      │\n",
       "│              ┆        ┆ 400                   ┆            ┆   ┆       ┆        ┆       ┆        │\n",
       "│ …            ┆ …      ┆ …                     ┆ …          ┆ … ┆ …     ┆ …      ┆ …     ┆ …      │\n",
       "│ fe90110788d2 ┆ 592376 ┆ 2017-09-08T00:14:40-0 ┆ -27.032499 ┆ … ┆ null  ┆ 0      ┆ 0     ┆ 0      │\n",
       "│              ┆        ┆ 400                   ┆            ┆   ┆       ┆        ┆       ┆        │\n",
       "│ fe90110788d2 ┆ 592377 ┆ 2017-09-08T00:14:45-0 ┆ -26.8412   ┆ … ┆ null  ┆ 0      ┆ 0     ┆ 0      │\n",
       "│              ┆        ┆ 400                   ┆            ┆   ┆       ┆        ┆       ┆        │\n",
       "│ fe90110788d2 ┆ 592378 ┆ 2017-09-08T00:14:50-0 ┆ -26.7239   ┆ … ┆ null  ┆ 0      ┆ 0     ┆ 0      │\n",
       "│              ┆        ┆ 400                   ┆            ┆   ┆       ┆        ┆       ┆        │\n",
       "│ fe90110788d2 ┆ 592379 ┆ 2017-09-08T00:14:55-0 ┆ -31.521601 ┆ … ┆ null  ┆ 0      ┆ 0     ┆ 0      │\n",
       "│              ┆        ┆ 400                   ┆            ┆   ┆       ┆        ┆       ┆        │\n",
       "└──────────────┴────────┴───────────────────────┴────────────┴───┴───────┴────────┴───────┴────────┘"
      ]
     },
     "execution_count": 13,
     "metadata": {},
     "output_type": "execute_result"
    }
   ],
   "source": [
    "train_series_df\n"
   ]
  },
  {
   "cell_type": "code",
   "execution_count": 14,
   "metadata": {},
   "outputs": [],
   "source": [
    "def encode_hour(hour):\n",
    "    hour_sin = np.sin(2 * np.pi * hour / 24.0)\n",
    "    hour_cos = np.cos(2 * np.pi * hour / 24.0)\n",
    "    return hour_sin, hour_cos\n",
    "\n",
    "\n",
    "train_series_df = train_series_df.with_columns(\n",
    "    (pl.col(\"timestamp\").str.slice(11, 2).alias(\"hour\").cast(pl.Int64)),\n",
    ")\n",
    "hour_df = pl.DataFrame(\n",
    "    {\n",
    "        \"hour\": np.arange(24),\n",
    "    }\n",
    ")\n",
    "encoded_hour = hour_df[\"hour\"].apply(encode_hour)\n",
    "encoded_hour = np.array(encoded_hour.to_list())\n",
    "hour_df = hour_df.with_columns(\n",
    "    (pl.lit(encoded_hour[:, 0]).alias(\"hour_sin\")),\n",
    "    (pl.lit(encoded_hour[:, 1]).alias(\"hour_cos\")),\n",
    ")\n",
    "\n",
    "train_series_df = train_series_df.join(\n",
    "    hour_df,\n",
    "    on=[\"hour\"],\n",
    "    how=\"left\",\n",
    ")\n"
   ]
  },
  {
   "cell_type": "code",
   "execution_count": 15,
   "metadata": {},
   "outputs": [
    {
     "data": {
      "text/plain": [
       "54"
      ]
     },
     "execution_count": 15,
     "metadata": {},
     "output_type": "execute_result"
    }
   ],
   "source": [
    "def get_similar_wave(_df):\n",
    "    # forward\n",
    "    similar_steps_forward = find_similar_steps(\n",
    "        _df[\"anglez\"], window_size=17280, threshold=1.0\n",
    "    )\n",
    "    similar_wave_forward = np.zeros(len(_df))\n",
    "    if len(similar_steps_forward) > 0:\n",
    "        for start_step in similar_steps_forward:\n",
    "            end_step = start_step + 17280\n",
    "\n",
    "            similar_wave_forward[start_step:end_step] = 1\n",
    "\n",
    "    # backward\n",
    "    similar_steps_backward = find_similar_steps(\n",
    "        _df[\"anglez\"][::-1], window_size=17280, threshold=1.0\n",
    "    )\n",
    "    similar_wave_backward = np.zeros(len(_df))\n",
    "    if len(similar_steps_backward) > 0:\n",
    "        for start_step in similar_steps_backward:\n",
    "            end_step = start_step + 17280\n",
    "\n",
    "            similar_wave_backward[start_step:end_step] = 1\n",
    "\n",
    "    # add\n",
    "    similar_wave = similar_wave_forward + similar_wave_backward[::-1]\n",
    "    similar_wave = np.clip(similar_wave, 0, 1)\n",
    "\n",
    "    return pl.DataFrame(similar_wave.astype(np.int8))\n",
    "\n",
    "\n",
    "# similar_wave = train_series_df.group_by(\"series_id\", maintain_order=True).apply(\n",
    "#     get_similar_wave\n",
    "# )\n",
    "# similar_wave.write_parquet(cfg.input_path / \"similar_wave.parquet\")\n",
    "\n",
    "similar_wave = pl.read_parquet(cfg.INPUT_PATH / \"similar_wave.parquet\")\n",
    "train_series_df = train_series_df.with_columns(\n",
    "    similar_wave.to_series().alias(\"similar_wave\")\n",
    ")\n",
    "\n",
    "del similar_wave\n",
    "gc.collect()\n"
   ]
  },
  {
   "cell_type": "code",
   "execution_count": 16,
   "metadata": {},
   "outputs": [],
   "source": [
    "feat_cols = [\n",
    "    \"anglez\",\n",
    "    \"enmo\",\n",
    "    \"anglez_diff_pos\",\n",
    "    \"enmo_diff_pos\",\n",
    "    \"hour_sin\",\n",
    "    \"hour_cos\",\n",
    "    \"similar_wave\",\n",
    "]\n",
    "\n",
    "scale_cols = [\n",
    "    \"anglez\",\n",
    "    \"enmo\",\n",
    "    \"anglez_diff_pos\",\n",
    "    \"enmo_diff_pos\",\n",
    "]\n",
    "\n",
    "\n",
    "util_cols_expr = [pl.col(\"step\"), pl.col(\"asleep\"), pl.col(\"onset\"), pl.col(\"wakeup\")]\n",
    "feat_cols_expr = [\n",
    "    pl.col(\"anglez\"),\n",
    "    pl.col(\"enmo\"),\n",
    "    (pl.col(\"anglez\").diff().fill_null(0)).alias(\"anglez_diff_pos\"),\n",
    "    (pl.col(\"enmo\").diff().fill_null(0)).alias(\"enmo_diff_pos\"),\n",
    "    pl.col(\"hour_sin\"),\n",
    "    pl.col(\"hour_cos\"),\n",
    "    pl.col(\"similar_wave\"),\n",
    "]\n",
    "\n",
    "use_cols_expr = util_cols_expr + feat_cols_expr\n",
    "\n",
    "use_col_names = [f.meta.output_name() for f in use_cols_expr]\n",
    "\n",
    "train_series_df = (\n",
    "    train_series_df.group_by(\"series_id\", maintain_order=True)\n",
    "    .agg(use_cols_expr)\n",
    "    .explode(use_col_names)\n",
    ")\n"
   ]
  },
  {
   "cell_type": "code",
   "execution_count": 17,
   "metadata": {},
   "outputs": [],
   "source": [
    "class CMIDataset(Dataset):\n",
    "    def __init__(self, df: pl.DataFrame, max_length: int, stride: int):\n",
    "        self.max_length = max_length\n",
    "        self.stride = stride\n",
    "\n",
    "        self.df = self._convert_df_to_segments(df)\n",
    "        self.label = self.df[cfg.target_cols].to_numpy()\n",
    "\n",
    "    def __len__(self):\n",
    "        return len(self.df)\n",
    "\n",
    "    # ガウス分布の関数\n",
    "    def _gaussian(self, x, mu, sigma):\n",
    "        gauss = np.exp(-0.5 * ((x - mu) / sigma) ** 2)\n",
    "        # outside_3sigma = np.abs(x - mu) > 3 * sigma\n",
    "        # gauss[outside_3sigma] = 0\n",
    "        return gauss\n",
    "\n",
    "    # ヒートマップの生成\n",
    "    def _create_heatmap(self, series, sigma=1.0):\n",
    "        indices = np.where(series == 1)[0]\n",
    "        heatmap = np.zeros_like(series, dtype=float)\n",
    "\n",
    "        for index in indices:\n",
    "            x = np.arange(len(series))\n",
    "            heatmap += self._gaussian(x, index, sigma)\n",
    "\n",
    "        return np.clip(heatmap, 0, 1)  # 0と1の間にクリップ\n",
    "\n",
    "    def __getitem__(self, idx):\n",
    "        feat = np.array([self.df[idx][col].to_numpy()[0] for col in feat_cols])\n",
    "        labels = self.label[idx]\n",
    "        labels[1] = self._create_heatmap(labels[1], sigma=cfg.sigma)  # onset\n",
    "        labels[2] = self._create_heatmap(labels[2], sigma=cfg.sigma)  # wakeup\n",
    "        labels = np.stack(labels)\n",
    "\n",
    "        original_length = feat.shape[1]\n",
    "        attention_mask = np.ones(original_length, dtype=np.int8)\n",
    "\n",
    "        # Padding or truncating\n",
    "        diff_length = self.max_length - original_length\n",
    "        # padding\n",
    "        if diff_length > 0:\n",
    "            feat = np.append(feat, np.zeros((feat.shape[0], diff_length)), axis=1)\n",
    "            attention_mask = np.concatenate(\n",
    "                [attention_mask, np.zeros(diff_length, dtype=np.int8)]\n",
    "            )\n",
    "            labels = np.append(\n",
    "                labels, np.zeros((len(cfg.target_cols), diff_length)), axis=1\n",
    "            )\n",
    "        # truncating\n",
    "        else:\n",
    "            feat = feat[:, : self.max_length]\n",
    "            attention_mask = attention_mask[: self.max_length]\n",
    "            labels = labels[: self.max_length]\n",
    "\n",
    "        inputs = {\n",
    "            \"attention_mask\": torch.tensor(attention_mask, dtype=torch.float32),\n",
    "        }\n",
    "        for k, v in zip(feat_cols, feat):\n",
    "            inputs[k] = torch.tensor(v.astype(np.float32), dtype=torch.float32)\n",
    "\n",
    "        labels = torch.tensor(labels.T, dtype=torch.float32)  # (max_length, n_targets)\n",
    "        return inputs, labels\n",
    "\n",
    "    def _convert_df_to_segments(self, df: pl.DataFrame):\n",
    "        segments = []\n",
    "        # series_idごとにデータを取得\n",
    "\n",
    "        group_id = 0\n",
    "        for series, group in tqdm(df.group_by(\"series_id\", maintain_order=True)):\n",
    "            start = 0\n",
    "            while start < len(group):\n",
    "                end = start + self.max_length\n",
    "                _df = group[start:end]\n",
    "                _df = _df.with_columns(pl.lit(group_id).alias(\"group\"))\n",
    "                segments.append(_df)\n",
    "                start = start + self.stride\n",
    "                group_id += 1\n",
    "\n",
    "        segment_df = pl.concat(segments)\n",
    "        del segments, group, _df\n",
    "        gc.collect()\n",
    "\n",
    "        segment_df = segment_df.group_by(\n",
    "            [\"series_id\", \"group\"], maintain_order=True\n",
    "        ).agg(pl.col([\"step\", \"group\"] + cfg.target_cols + feat_cols).explode())\n",
    "\n",
    "        return segment_df\n"
   ]
  },
  {
   "cell_type": "code",
   "execution_count": 18,
   "metadata": {},
   "outputs": [],
   "source": [
    "class FeatureExtractorBlock(nn.Module):\n",
    "    def __init__(self, feat_cols, hidden_size=32):\n",
    "        super(FeatureExtractorBlock, self).__init__()\n",
    "\n",
    "        self.feat_cols = feat_cols\n",
    "        self.inc = DoubleConv(\n",
    "            len(feat_cols),\n",
    "            hidden_size,\n",
    "            kernel_size=1,\n",
    "            padding=\"same\",\n",
    "        )\n",
    "        self.wave_block1 = WaveNetBlock(\n",
    "            hidden_size=hidden_size,\n",
    "            kernel_size=2,\n",
    "            dilations=6,\n",
    "        )\n",
    "        self.wave_block2 = WaveNetBlock(\n",
    "            hidden_size=hidden_size,\n",
    "            kernel_size=2,\n",
    "            dilations=6,\n",
    "        )\n",
    "        self.wave_block3 = WaveNetBlock(\n",
    "            hidden_size=hidden_size,\n",
    "            kernel_size=2,\n",
    "            dilations=6,\n",
    "        )\n",
    "        self.fc = nn.Linear(hidden_size * 3, hidden_size)\n",
    "\n",
    "    def forward(self, x):\n",
    "        x = self.inc(x)\n",
    "        x1 = self.wave_block1(x)\n",
    "        x2 = self.wave_block2(x)\n",
    "        x3 = self.wave_block3(x)\n",
    "\n",
    "        x = torch.cat([x1, x2, x3], dim=1)\n",
    "        x = x.permute(0, 2, 1)\n",
    "        x = self.fc(x)\n",
    "        x = x.permute(0, 2, 1)\n",
    "\n",
    "        return x\n",
    "\n",
    "\n",
    "class PositionalEncoding(nn.Module):\n",
    "    def __init__(self, d_model, dropout=0.0, max_len=1000):\n",
    "        super(PositionalEncoding, self).__init__()\n",
    "\n",
    "        self.dropout = nn.Dropout(p=dropout)\n",
    "\n",
    "        pe = torch.zeros(max_len, d_model)\n",
    "        position = torch.arange(0, max_len, dtype=torch.float).unsqueeze(1)\n",
    "\n",
    "        div_term = torch.exp(\n",
    "            torch.arange(0, d_model, 2).float()\n",
    "            * (-torch.log(torch.tensor(10000.0)))\n",
    "            / d_model\n",
    "        )\n",
    "\n",
    "        pe[:, 0::2] = torch.sin(position * div_term)\n",
    "        pe[:, 1::2] = torch.cos(position * div_term)\n",
    "\n",
    "        pe = pe.unsqueeze(0)\n",
    "\n",
    "        self.register_buffer(\"pe\", pe)\n",
    "\n",
    "    def forward(self, x):\n",
    "        x = x + self.pe[:, : x.size(1)].clone().detach()\n",
    "        return self.dropout(x)\n",
    "\n",
    "\n",
    "class TransformerGRUEncoderBlock(nn.Module):\n",
    "    def __init__(self, in_channels, out_channels, stride=12, max_len=17280):\n",
    "        super(TransformerGRUEncoderBlock, self).__init__()\n",
    "\n",
    "        self.down = Down(\n",
    "            in_channels=in_channels, out_channels=out_channels, stride=stride\n",
    "        )\n",
    "\n",
    "        self.pos_encoder = PositionalEncoding(\n",
    "            out_channels, dropout=0.2, max_len=max_len\n",
    "        )\n",
    "\n",
    "        encoder_layer = nn.TransformerEncoderLayer(\n",
    "            d_model=out_channels,\n",
    "            nhead=4,\n",
    "            dim_feedforward=out_channels * 2,\n",
    "            dropout=0.2,\n",
    "            activation=\"gelu\",\n",
    "            batch_first=True,\n",
    "        )\n",
    "        self.transformer = nn.TransformerEncoder(encoder_layer, num_layers=4)\n",
    "\n",
    "        self.gru = MultiResidualBiGRU(\n",
    "            out_channels,\n",
    "            out_channels,\n",
    "            out_channels,\n",
    "            n_layers=4,\n",
    "            bidir=True,\n",
    "        )\n",
    "        # fully connected\n",
    "        self.fc = nn.Linear(out_channels, out_channels)\n",
    "\n",
    "    def forward(self, x):\n",
    "        x = self.down(x)\n",
    "\n",
    "        x = x.permute(0, 2, 1)\n",
    "        x = self.pos_encoder(x)\n",
    "        x = self.transformer(x)\n",
    "        x, _ = self.gru(x)\n",
    "        x = self.fc(x)\n",
    "        x = x.permute(0, 2, 1)\n",
    "\n",
    "        return x\n",
    "\n",
    "\n",
    "class DecoderBlock(nn.Module):\n",
    "    def __init__(self, hidden_size):\n",
    "        super(DecoderBlock, self).__init__()\n",
    "\n",
    "        self.up1 = Up(in_channels=hidden_size * 2, out_channels=hidden_size, stride=12)\n",
    "\n",
    "        self.mlp = nn.Sequential(\n",
    "            nn.Linear(hidden_size * 2, hidden_size * 2),\n",
    "            nn.ReLU(),\n",
    "            nn.Dropout(0.2),\n",
    "            nn.Linear(hidden_size * 2, hidden_size),\n",
    "            nn.ReLU(),\n",
    "        )\n",
    "\n",
    "        self.outc = nn.Conv1d(hidden_size, 3, kernel_size=1, padding=\"same\")\n",
    "\n",
    "    def forward(self, x_original, x1):\n",
    "        x1 = self.up1(x1)\n",
    "\n",
    "        x = torch.cat([x_original, x1], dim=1)\n",
    "\n",
    "        x = x.permute(0, 2, 1)\n",
    "        x = self.mlp(x)\n",
    "        x = x.permute(0, 2, 1)\n",
    "\n",
    "        x = self.outc(x)\n",
    "\n",
    "        return x\n",
    "\n",
    "\n",
    "class CMIModel(nn.Module):\n",
    "    def __init__(self, feat_cols, hidden_size=32):\n",
    "        super(CMIModel, self).__init__()\n",
    "\n",
    "        self.feat_cols = feat_cols\n",
    "\n",
    "        self.feature_extractor = FeatureExtractorBlock(\n",
    "            feat_cols, hidden_size=hidden_size\n",
    "        )\n",
    "\n",
    "        self.encoder1 = TransformerGRUEncoderBlock(\n",
    "            hidden_size, hidden_size * 2, stride=12, max_len=17280 // 12\n",
    "        )\n",
    "\n",
    "        self.decoder = DecoderBlock(hidden_size)\n",
    "\n",
    "        self._reinitialize()\n",
    "\n",
    "    def _reinitialize(self):\n",
    "        \"\"\"\n",
    "        Tensorflow/Keras-like initialization\n",
    "        \"\"\"\n",
    "        for name, p in self.named_parameters():\n",
    "            if \"gru\" in name:\n",
    "                if \"weight_ih\" in name:\n",
    "                    nn.init.xavier_uniform_(p.data)\n",
    "                elif \"weight_hh\" in name:\n",
    "                    nn.init.orthogonal_(p.data)\n",
    "                elif \"bias_ih\" in name:\n",
    "                    p.data.fill_(0)\n",
    "                    # Set forget-gate bias to 1\n",
    "                    n = p.size(0)\n",
    "                    p.data[(n // 4) : (n // 2)].fill_(1)\n",
    "                elif \"bias_hh\" in name:\n",
    "                    p.data.fill_(0)\n",
    "            elif \"fc\" in name:\n",
    "                if \"weight\" in name:\n",
    "                    nn.init.xavier_uniform_(p.data)\n",
    "                elif \"bias\" in name:\n",
    "                    p.data.fill_(0)\n",
    "\n",
    "    def forward(self, inputs):\n",
    "        x = torch.stack([inputs[col] for col in self.feat_cols], dim=1)\n",
    "\n",
    "        x_original = self.feature_extractor(x)\n",
    "\n",
    "        x1 = self.encoder1(x_original)\n",
    "\n",
    "        x = self.decoder(x_original, x1)\n",
    "\n",
    "        x = x.squeeze(1).permute(0, 2, 1)  # (batch_size, seq_len, n_targets)\n",
    "\n",
    "        return x\n"
   ]
  },
  {
   "cell_type": "code",
   "execution_count": 19,
   "metadata": {},
   "outputs": [],
   "source": [
    "def train_fn(\n",
    "    model,\n",
    "    train_data_loader,\n",
    "    criterion1,\n",
    "    optimizer,\n",
    "    scheduler=None,\n",
    "    scaler=None,\n",
    "):\n",
    "    model.train()\n",
    "    loss_meter = AverageMeter()\n",
    "    pbar = tqdm(enumerate(train_data_loader), total=len(train_data_loader))\n",
    "    for step, (inputs, labels) in pbar:\n",
    "        inputs, labels = collate(inputs, labels)\n",
    "        inputs = {k: v.to(cfg.device) for k, v in inputs.items()}\n",
    "        labels = labels.to(cfg.device)\n",
    "        with autocast(enabled=cfg.apex):\n",
    "            output = model(inputs)\n",
    "\n",
    "        # segmentations\n",
    "        output1 = output[:, :, 0]\n",
    "        labels1 = labels[:, :, 0]\n",
    "        mask = inputs[\"attention_mask\"].bool()\n",
    "        output1 = output1[mask].view(-1)\n",
    "        labels1 = labels1[mask].view(-1)\n",
    "        loss1 = criterion1(output1, labels1)\n",
    "\n",
    "        # heatmap\n",
    "        mask = inputs[\"attention_mask\"].unsqueeze(-1).expand(-1, -1, 2).bool()\n",
    "        output2 = output[:, :, 1:]\n",
    "        labels2 = labels[:, :, 1:]\n",
    "        output2 = output2[mask].view(-1)\n",
    "        labels2 = labels2[mask].view(-1)\n",
    "\n",
    "        pos_weight = torch.tensor([cfg.pos_weight for _ in range(labels2.size(0))]).to(\n",
    "            cfg.device\n",
    "        )\n",
    "        criterion2 = nn.BCEWithLogitsLoss(pos_weight=pos_weight)\n",
    "\n",
    "        loss2 = criterion2(output2, labels2)\n",
    "\n",
    "        loss = loss1 + loss2\n",
    "\n",
    "        scaler.scale(loss).backward()\n",
    "        scaler.step(optimizer)\n",
    "        scaler.update()\n",
    "        optimizer.zero_grad()\n",
    "        scheduler.step()\n",
    "        loss_meter.update(loss.item(), output.size(0))\n",
    "    return loss_meter.avg\n",
    "\n",
    "\n",
    "def valid_fn(\n",
    "    model,\n",
    "    valid_true_df,\n",
    "    valid_pred_df,\n",
    "    valid_data_loader,\n",
    "    criterion1,\n",
    "    epoch=None,\n",
    "):\n",
    "    model.eval()\n",
    "    loss_meter = AverageMeter()\n",
    "    y_pred = []\n",
    "    for step, (inputs, labels) in enumerate(valid_data_loader):\n",
    "        inputs, labels = collate(inputs, labels)\n",
    "        inputs = {k: v.to(cfg.device) for k, v in inputs.items()}\n",
    "        labels = labels.to(cfg.device)\n",
    "        with torch.no_grad():\n",
    "            output = model(inputs)\n",
    "\n",
    "        # segmentations\n",
    "        output1 = output[:, :, 0]\n",
    "        labels1 = labels[:, :, 0]\n",
    "        mask = inputs[\"attention_mask\"].bool()\n",
    "        output1 = output1[mask].view(-1)\n",
    "        labels1 = labels1[mask].view(-1)\n",
    "        loss1 = criterion1(output1, labels1)\n",
    "\n",
    "        # heatmap\n",
    "        mask = inputs[\"attention_mask\"].unsqueeze(-1).expand(-1, -1, 2).bool()\n",
    "        output2 = output[:, :, 1:]\n",
    "        labels2 = labels[:, :, 1:]\n",
    "        output2 = output2[mask].view(-1)\n",
    "        labels2 = labels2[mask].view(-1)\n",
    "\n",
    "        pos_weight = torch.tensor([cfg.pos_weight for _ in range(labels2.size(0))]).to(\n",
    "            cfg.device\n",
    "        )\n",
    "        criterion2 = nn.BCEWithLogitsLoss(pos_weight=pos_weight)\n",
    "\n",
    "        loss2 = criterion2(output2, labels2)\n",
    "\n",
    "        loss = loss1 + loss2\n",
    "\n",
    "        loss_meter.update(loss.item(), output.size(0))\n",
    "        output = output2.detach().cpu().sigmoid().numpy()\n",
    "        y_pred.append(output)\n",
    "    y_pred = np.concatenate(y_pred)\n",
    "\n",
    "    score = get_score(valid_true_df, valid_pred_df, y_pred, thr=cfg.thr, size=cfg.size)\n",
    "    return loss_meter.avg, score, y_pred\n"
   ]
  },
  {
   "cell_type": "code",
   "execution_count": 20,
   "metadata": {},
   "outputs": [],
   "source": [
    "def scaling(input_df, scale_cols, i_fold, is_train=True):\n",
    "    output_df = input_df.clone()\n",
    "\n",
    "    if is_train:\n",
    "        scaler = RobustScaler()\n",
    "        result = scaler.fit_transform(output_df.select(scale_cols))\n",
    "        pickle.dump(\n",
    "            scaler, open(f\"{cfg.OUTPUT_EXP_MODEL_PATH}/scaler_fold_{i_fold}.pkl\", \"wb\")\n",
    "        )\n",
    "    else:\n",
    "        scaler = pickle.load(\n",
    "            open(f\"{cfg.OUTPUT_EXP_MODEL_PATH}/scaler_fold_{i_fold}.pkl\", \"rb\")\n",
    "        )\n",
    "        result = scaler.transform(output_df.select(scale_cols))\n",
    "\n",
    "    result_dict = {k: v for k, v in zip(scale_cols, result.T)}\n",
    "    output_df = output_df.with_columns(pl.DataFrame(result_dict))\n",
    "\n",
    "    return output_df\n"
   ]
  },
  {
   "cell_type": "code",
   "execution_count": 21,
   "metadata": {},
   "outputs": [
    {
     "data": {
      "text/plain": [
       "fold\n",
       "0    6176856\n",
       "1    6340608\n",
       "2    5494764\n",
       "3    6294204\n",
       "4    5531772\n",
       "Name: asleep, dtype: int32"
      ]
     },
     "execution_count": 21,
     "metadata": {},
     "output_type": "execute_result"
    }
   ],
   "source": [
    "fold_df = (\n",
    "    train_series_df.group_by(\"series_id\")\n",
    "    .agg(pl.sum(\"asleep\"))\n",
    "    .sort(\"series_id\")\n",
    "    .to_pandas()\n",
    ")\n",
    "fold_df[\"fold\"] = -1\n",
    "\n",
    "for i in range(5):\n",
    "    _fold_dict = yaml.safe_load(open(cfg.INPUT_PATH / \"tomo\" / f\"fold_{i}.yaml\", \"r\"))\n",
    "    fold_df.loc[fold_df[\"series_id\"].isin(_fold_dict[\"valid_series_ids\"]), \"fold\"] = i\n",
    "\n",
    "\n",
    "fold_df.groupby(\"fold\")[\"asleep\"].sum()\n"
   ]
  },
  {
   "cell_type": "code",
   "execution_count": 22,
   "metadata": {},
   "outputs": [
    {
     "data": {
      "application/vnd.jupyter.widget-view+json": {
       "model_id": "c1dfcf36628e4d268c5a3ae053a7bfbf",
       "version_major": 2,
       "version_minor": 0
      },
      "text/plain": [
       "0it [00:00, ?it/s]"
      ]
     },
     "metadata": {},
     "output_type": "display_data"
    },
    {
     "name": "stderr",
     "output_type": "stream",
     "text": [
      "================================================== Fold 0 ==================================================\n"
     ]
    },
    {
     "data": {
      "text/html": [
       "<div><style>\n",
       ".dataframe > thead > tr > th,\n",
       ".dataframe > tbody > tr > td {\n",
       "  text-align: right;\n",
       "  white-space: pre-wrap;\n",
       "}\n",
       "</style>\n",
       "<small>shape: (5, 12)</small><table border=\"1\" class=\"dataframe\"><thead><tr><th>series_id</th><th>step</th><th>asleep</th><th>onset</th><th>wakeup</th><th>anglez</th><th>enmo</th><th>anglez_diff_pos</th><th>enmo_diff_pos</th><th>hour_sin</th><th>hour_cos</th><th>similar_wave</th></tr><tr><td>str</td><td>u32</td><td>i32</td><td>i32</td><td>i32</td><td>f64</td><td>f64</td><td>f64</td><td>f64</td><td>f64</td><td>f64</td><td>i8</td></tr></thead><tbody><tr><td>&quot;03d92c9f6f8a&quot;</td><td>0</td><td>0</td><td>0</td><td>0</td><td>1.12417</td><td>1.482436</td><td>0.0</td><td>0.0</td><td>1.2246e-16</td><td>-1.0</td><td>0</td></tr><tr><td>&quot;03d92c9f6f8a&quot;</td><td>1</td><td>0</td><td>0</td><td>0</td><td>0.902991</td><td>1.362998</td><td>-4.360479</td><td>-1.085107</td><td>1.2246e-16</td><td>-1.0</td><td>0</td></tr><tr><td>&quot;03d92c9f6f8a&quot;</td><td>2</td><td>0</td><td>0</td><td>0</td><td>1.085416</td><td>3.796253</td><td>3.596451</td><td>22.106383</td><td>1.2246e-16</td><td>-1.0</td><td>0</td></tr><tr><td>&quot;03d92c9f6f8a&quot;</td><td>3</td><td>0</td><td>0</td><td>0</td><td>1.31109</td><td>1.761124</td><td>4.449076</td><td>-18.489361</td><td>1.2246e-16</td><td>-1.0</td><td>0</td></tr><tr><td>&quot;03d92c9f6f8a&quot;</td><td>4</td><td>0</td><td>0</td><td>0</td><td>1.625941</td><td>0.40281</td><td>6.207194</td><td>-12.340425</td><td>1.2246e-16</td><td>-1.0</td><td>0</td></tr></tbody></table></div>"
      ],
      "text/plain": [
       "shape: (5, 12)\n",
       "┌──────────────┬──────┬────────┬───────┬───┬───────────────┬────────────┬──────────┬──────────────┐\n",
       "│ series_id    ┆ step ┆ asleep ┆ onset ┆ … ┆ enmo_diff_pos ┆ hour_sin   ┆ hour_cos ┆ similar_wave │\n",
       "│ ---          ┆ ---  ┆ ---    ┆ ---   ┆   ┆ ---           ┆ ---        ┆ ---      ┆ ---          │\n",
       "│ str          ┆ u32  ┆ i32    ┆ i32   ┆   ┆ f64           ┆ f64        ┆ f64      ┆ i8           │\n",
       "╞══════════════╪══════╪════════╪═══════╪═══╪═══════════════╪════════════╪══════════╪══════════════╡\n",
       "│ 03d92c9f6f8a ┆ 0    ┆ 0      ┆ 0     ┆ … ┆ 0.0           ┆ 1.2246e-16 ┆ -1.0     ┆ 0            │\n",
       "│ 03d92c9f6f8a ┆ 1    ┆ 0      ┆ 0     ┆ … ┆ -1.085107     ┆ 1.2246e-16 ┆ -1.0     ┆ 0            │\n",
       "│ 03d92c9f6f8a ┆ 2    ┆ 0      ┆ 0     ┆ … ┆ 22.106383     ┆ 1.2246e-16 ┆ -1.0     ┆ 0            │\n",
       "│ 03d92c9f6f8a ┆ 3    ┆ 0      ┆ 0     ┆ … ┆ -18.489361    ┆ 1.2246e-16 ┆ -1.0     ┆ 0            │\n",
       "│ 03d92c9f6f8a ┆ 4    ┆ 0      ┆ 0     ┆ … ┆ -12.340425    ┆ 1.2246e-16 ┆ -1.0     ┆ 0            │\n",
       "└──────────────┴──────┴────────┴───────┴───┴───────────────┴────────────┴──────────┴──────────────┘"
      ]
     },
     "metadata": {},
     "output_type": "display_data"
    },
    {
     "data": {
      "application/vnd.jupyter.widget-view+json": {
       "model_id": "2679e495a5ef4ca0bb3bf953f6e6cc26",
       "version_major": 2,
       "version_minor": 0
      },
      "text/plain": [
       "0it [00:00, ?it/s]"
      ]
     },
     "metadata": {},
     "output_type": "display_data"
    },
    {
     "data": {
      "application/vnd.jupyter.widget-view+json": {
       "model_id": "a5fc9bb58c29404f94fd0e8835c879bb",
       "version_major": 2,
       "version_minor": 0
      },
      "text/plain": [
       "0it [00:00, ?it/s]"
      ]
     },
     "metadata": {},
     "output_type": "display_data"
    },
    {
     "name": "stderr",
     "output_type": "stream",
     "text": [
      "n_params: 730915\n"
     ]
    },
    {
     "data": {
      "application/vnd.jupyter.widget-view+json": {
       "model_id": "b2f91dabc18e44f881d017d56cc9aab7",
       "version_major": 2,
       "version_minor": 0
      },
      "text/plain": [
       "  0%|          | 0/30 [00:00<?, ?it/s]"
      ]
     },
     "metadata": {},
     "output_type": "display_data"
    },
    {
     "data": {
      "application/vnd.jupyter.widget-view+json": {
       "model_id": "2362a9c513ee482d92bc78ca8719f1ad",
       "version_major": 2,
       "version_minor": 0
      },
      "text/plain": [
       "  0%|          | 0/188 [00:00<?, ?it/s]"
      ]
     },
     "metadata": {},
     "output_type": "display_data"
    },
    {
     "name": "stderr",
     "output_type": "stream",
     "text": [
      "epoch:0/30 | train_loss: 0.46646 valid_loss: 0.18815 valid_score: 0.54584\n"
     ]
    },
    {
     "data": {
      "application/vnd.jupyter.widget-view+json": {
       "model_id": "9b313c572c634afd8975212e6e942ffc",
       "version_major": 2,
       "version_minor": 0
      },
      "text/plain": [
       "  0%|          | 0/188 [00:00<?, ?it/s]"
      ]
     },
     "metadata": {},
     "output_type": "display_data"
    },
    {
     "name": "stderr",
     "output_type": "stream",
     "text": [
      "epoch:1/30 | train_loss: 0.17394 valid_loss: 0.14074 valid_score: 0.70354\n"
     ]
    },
    {
     "data": {
      "application/vnd.jupyter.widget-view+json": {
       "model_id": "1d2c667c42e04fa48de0f88d688e8a57",
       "version_major": 2,
       "version_minor": 0
      },
      "text/plain": [
       "  0%|          | 0/188 [00:00<?, ?it/s]"
      ]
     },
     "metadata": {},
     "output_type": "display_data"
    },
    {
     "name": "stderr",
     "output_type": "stream",
     "text": [
      "epoch:2/30 | train_loss: 0.14582 valid_loss: 0.12620 valid_score: 0.74508\n"
     ]
    },
    {
     "data": {
      "application/vnd.jupyter.widget-view+json": {
       "model_id": "38e939a5a6034efa82a42cb8d53a3d74",
       "version_major": 2,
       "version_minor": 0
      },
      "text/plain": [
       "  0%|          | 0/188 [00:00<?, ?it/s]"
      ]
     },
     "metadata": {},
     "output_type": "display_data"
    },
    {
     "name": "stderr",
     "output_type": "stream",
     "text": [
      "epoch:3/30 | train_loss: 0.13582 valid_loss: 0.11457 valid_score: 0.77880\n"
     ]
    },
    {
     "data": {
      "application/vnd.jupyter.widget-view+json": {
       "model_id": "a36231246db34df8837e21eba93ea886",
       "version_major": 2,
       "version_minor": 0
      },
      "text/plain": [
       "  0%|          | 0/188 [00:00<?, ?it/s]"
      ]
     },
     "metadata": {},
     "output_type": "display_data"
    },
    {
     "name": "stderr",
     "output_type": "stream",
     "text": [
      "epoch:4/30 | train_loss: 0.12738 valid_loss: 0.12003 valid_score: 0.76493\n"
     ]
    },
    {
     "data": {
      "application/vnd.jupyter.widget-view+json": {
       "model_id": "cbb0cef21c9346ef9adc170f9c7da093",
       "version_major": 2,
       "version_minor": 0
      },
      "text/plain": [
       "  0%|          | 0/188 [00:00<?, ?it/s]"
      ]
     },
     "metadata": {},
     "output_type": "display_data"
    },
    {
     "name": "stderr",
     "output_type": "stream",
     "text": [
      "epoch:5/30 | train_loss: 0.12408 valid_loss: 0.11166 valid_score: 0.80275\n"
     ]
    },
    {
     "data": {
      "application/vnd.jupyter.widget-view+json": {
       "model_id": "1e015155757a4dc89f8a80df630329c3",
       "version_major": 2,
       "version_minor": 0
      },
      "text/plain": [
       "  0%|          | 0/188 [00:00<?, ?it/s]"
      ]
     },
     "metadata": {},
     "output_type": "display_data"
    },
    {
     "name": "stderr",
     "output_type": "stream",
     "text": [
      "epoch:6/30 | train_loss: 0.12024 valid_loss: 0.11093 valid_score: 0.79352\n"
     ]
    },
    {
     "data": {
      "application/vnd.jupyter.widget-view+json": {
       "model_id": "71247e1d66ac45b7a5860fbd3e3f4c94",
       "version_major": 2,
       "version_minor": 0
      },
      "text/plain": [
       "  0%|          | 0/188 [00:00<?, ?it/s]"
      ]
     },
     "metadata": {},
     "output_type": "display_data"
    },
    {
     "name": "stderr",
     "output_type": "stream",
     "text": [
      "epoch:7/30 | train_loss: 0.11865 valid_loss: 0.11334 valid_score: 0.80169\n"
     ]
    },
    {
     "data": {
      "application/vnd.jupyter.widget-view+json": {
       "model_id": "3036e463092841d3acc7a74574965443",
       "version_major": 2,
       "version_minor": 0
      },
      "text/plain": [
       "  0%|          | 0/188 [00:00<?, ?it/s]"
      ]
     },
     "metadata": {},
     "output_type": "display_data"
    },
    {
     "name": "stderr",
     "output_type": "stream",
     "text": [
      "epoch:8/30 | train_loss: 0.11377 valid_loss: 0.11330 valid_score: 0.80309\n"
     ]
    },
    {
     "data": {
      "application/vnd.jupyter.widget-view+json": {
       "model_id": "2187addb7e6844b2aa1916c2d0e1a682",
       "version_major": 2,
       "version_minor": 0
      },
      "text/plain": [
       "  0%|          | 0/188 [00:00<?, ?it/s]"
      ]
     },
     "metadata": {},
     "output_type": "display_data"
    },
    {
     "name": "stderr",
     "output_type": "stream",
     "text": [
      "epoch:9/30 | train_loss: 0.11282 valid_loss: 0.11267 valid_score: 0.80464\n"
     ]
    },
    {
     "data": {
      "application/vnd.jupyter.widget-view+json": {
       "model_id": "fd5d7f198c3e42d2addf13a4231df915",
       "version_major": 2,
       "version_minor": 0
      },
      "text/plain": [
       "  0%|          | 0/188 [00:00<?, ?it/s]"
      ]
     },
     "metadata": {},
     "output_type": "display_data"
    },
    {
     "name": "stderr",
     "output_type": "stream",
     "text": [
      "epoch:10/30 | train_loss: 0.11013 valid_loss: 0.11584 valid_score: 0.80075\n"
     ]
    },
    {
     "data": {
      "application/vnd.jupyter.widget-view+json": {
       "model_id": "46ce4a7c39ae48ee91cdf50d7c1a4913",
       "version_major": 2,
       "version_minor": 0
      },
      "text/plain": [
       "  0%|          | 0/188 [00:00<?, ?it/s]"
      ]
     },
     "metadata": {},
     "output_type": "display_data"
    },
    {
     "name": "stderr",
     "output_type": "stream",
     "text": [
      "epoch:11/30 | train_loss: 0.10797 valid_loss: 0.10731 valid_score: 0.80358\n"
     ]
    },
    {
     "data": {
      "application/vnd.jupyter.widget-view+json": {
       "model_id": "2a5d004a288649018ecd3b0facfbaddb",
       "version_major": 2,
       "version_minor": 0
      },
      "text/plain": [
       "  0%|          | 0/188 [00:00<?, ?it/s]"
      ]
     },
     "metadata": {},
     "output_type": "display_data"
    },
    {
     "name": "stderr",
     "output_type": "stream",
     "text": [
      "epoch:12/30 | train_loss: 0.10575 valid_loss: 0.10932 valid_score: 0.79714\n"
     ]
    },
    {
     "data": {
      "application/vnd.jupyter.widget-view+json": {
       "model_id": "192f15a7909c4bb193d059eafc9001f5",
       "version_major": 2,
       "version_minor": 0
      },
      "text/plain": [
       "  0%|          | 0/188 [00:00<?, ?it/s]"
      ]
     },
     "metadata": {},
     "output_type": "display_data"
    },
    {
     "name": "stderr",
     "output_type": "stream",
     "text": [
      "epoch:13/30 | train_loss: 0.10694 valid_loss: 0.10402 valid_score: 0.80186\n"
     ]
    },
    {
     "data": {
      "application/vnd.jupyter.widget-view+json": {
       "model_id": "c1218b21dd354e2bb654c24fde415c45",
       "version_major": 2,
       "version_minor": 0
      },
      "text/plain": [
       "  0%|          | 0/188 [00:00<?, ?it/s]"
      ]
     },
     "metadata": {},
     "output_type": "display_data"
    },
    {
     "name": "stderr",
     "output_type": "stream",
     "text": [
      "epoch:14/30 | train_loss: 0.10110 valid_loss: 0.11666 valid_score: 0.79619\n"
     ]
    },
    {
     "data": {
      "application/vnd.jupyter.widget-view+json": {
       "model_id": "39b17c7041a94bbb9fcfa0d56e93e38c",
       "version_major": 2,
       "version_minor": 0
      },
      "text/plain": [
       "  0%|          | 0/188 [00:00<?, ?it/s]"
      ]
     },
     "metadata": {},
     "output_type": "display_data"
    },
    {
     "name": "stderr",
     "output_type": "stream",
     "text": [
      "epoch:15/30 | train_loss: 0.09881 valid_loss: 0.11022 valid_score: 0.80349\n"
     ]
    },
    {
     "data": {
      "application/vnd.jupyter.widget-view+json": {
       "model_id": "543f14e392164bd0b6c81a5912948816",
       "version_major": 2,
       "version_minor": 0
      },
      "text/plain": [
       "  0%|          | 0/188 [00:00<?, ?it/s]"
      ]
     },
     "metadata": {},
     "output_type": "display_data"
    },
    {
     "name": "stderr",
     "output_type": "stream",
     "text": [
      "epoch:16/30 | train_loss: 0.09659 valid_loss: 0.10874 valid_score: 0.80271\n"
     ]
    },
    {
     "data": {
      "application/vnd.jupyter.widget-view+json": {
       "model_id": "5363ab35a8684054b25c03ac19ce7ed5",
       "version_major": 2,
       "version_minor": 0
      },
      "text/plain": [
       "  0%|          | 0/188 [00:00<?, ?it/s]"
      ]
     },
     "metadata": {},
     "output_type": "display_data"
    },
    {
     "name": "stderr",
     "output_type": "stream",
     "text": [
      "epoch:17/30 | train_loss: 0.09395 valid_loss: 0.10696 valid_score: 0.80800\n"
     ]
    },
    {
     "data": {
      "application/vnd.jupyter.widget-view+json": {
       "model_id": "2ea782f480d0471a8b3d1d6c5aef1ec6",
       "version_major": 2,
       "version_minor": 0
      },
      "text/plain": [
       "  0%|          | 0/188 [00:00<?, ?it/s]"
      ]
     },
     "metadata": {},
     "output_type": "display_data"
    },
    {
     "name": "stderr",
     "output_type": "stream",
     "text": [
      "epoch:18/30 | train_loss: 0.09118 valid_loss: 0.10997 valid_score: 0.80564\n"
     ]
    },
    {
     "data": {
      "application/vnd.jupyter.widget-view+json": {
       "model_id": "2a44487635874809ab0e6e82f9b1eb0c",
       "version_major": 2,
       "version_minor": 0
      },
      "text/plain": [
       "  0%|          | 0/188 [00:00<?, ?it/s]"
      ]
     },
     "metadata": {},
     "output_type": "display_data"
    },
    {
     "name": "stderr",
     "output_type": "stream",
     "text": [
      "epoch:19/30 | train_loss: 0.08860 valid_loss: 0.11576 valid_score: 0.80249\n"
     ]
    },
    {
     "data": {
      "application/vnd.jupyter.widget-view+json": {
       "model_id": "304d039cc5194752a2b1925d354f4b15",
       "version_major": 2,
       "version_minor": 0
      },
      "text/plain": [
       "  0%|          | 0/188 [00:00<?, ?it/s]"
      ]
     },
     "metadata": {},
     "output_type": "display_data"
    },
    {
     "name": "stderr",
     "output_type": "stream",
     "text": [
      "epoch:20/30 | train_loss: 0.08758 valid_loss: 0.10951 valid_score: 0.80573\n"
     ]
    },
    {
     "data": {
      "application/vnd.jupyter.widget-view+json": {
       "model_id": "61148b3ef77e4bf49be9ed02983e406d",
       "version_major": 2,
       "version_minor": 0
      },
      "text/plain": [
       "  0%|          | 0/188 [00:00<?, ?it/s]"
      ]
     },
     "metadata": {},
     "output_type": "display_data"
    },
    {
     "name": "stderr",
     "output_type": "stream",
     "text": [
      "epoch:21/30 | train_loss: 0.08375 valid_loss: 0.11114 valid_score: 0.80474\n"
     ]
    },
    {
     "data": {
      "application/vnd.jupyter.widget-view+json": {
       "model_id": "00985ab40fc543bfb0e7994fdc0b725e",
       "version_major": 2,
       "version_minor": 0
      },
      "text/plain": [
       "  0%|          | 0/188 [00:00<?, ?it/s]"
      ]
     },
     "metadata": {},
     "output_type": "display_data"
    },
    {
     "name": "stderr",
     "output_type": "stream",
     "text": [
      "epoch:22/30 | train_loss: 0.08175 valid_loss: 0.11126 valid_score: 0.80291\n"
     ]
    },
    {
     "data": {
      "application/vnd.jupyter.widget-view+json": {
       "model_id": "98d031ecd085404fbde386c77709b41e",
       "version_major": 2,
       "version_minor": 0
      },
      "text/plain": [
       "  0%|          | 0/188 [00:00<?, ?it/s]"
      ]
     },
     "metadata": {},
     "output_type": "display_data"
    },
    {
     "name": "stderr",
     "output_type": "stream",
     "text": [
      "Early stopping\n",
      "==============================\n",
      "fold 0 | best_score: 0.80186 best_loss: 0.10402\n",
      "==============================\n",
      "================================================== Fold 1 ==================================================\n"
     ]
    },
    {
     "data": {
      "text/html": [
       "<div><style>\n",
       ".dataframe > thead > tr > th,\n",
       ".dataframe > tbody > tr > td {\n",
       "  text-align: right;\n",
       "  white-space: pre-wrap;\n",
       "}\n",
       "</style>\n",
       "<small>shape: (5, 12)</small><table border=\"1\" class=\"dataframe\"><thead><tr><th>series_id</th><th>step</th><th>asleep</th><th>onset</th><th>wakeup</th><th>anglez</th><th>enmo</th><th>anglez_diff_pos</th><th>enmo_diff_pos</th><th>hour_sin</th><th>hour_cos</th><th>similar_wave</th></tr><tr><td>str</td><td>u32</td><td>i32</td><td>i32</td><td>i32</td><td>f64</td><td>f64</td><td>f64</td><td>f64</td><td>f64</td><td>f64</td><td>i8</td></tr></thead><tbody><tr><td>&quot;038441c925bb&quot;</td><td>0</td><td>0</td><td>0</td><td>0</td><td>0.271642</td><td>0.102138</td><td>0.0</td><td>0.0</td><td>-0.707107</td><td>-0.707107</td><td>0</td></tr><tr><td>&quot;038441c925bb&quot;</td><td>1</td><td>0</td><td>0</td><td>0</td><td>0.271644</td><td>0.097387</td><td>0.000045</td><td>-0.042553</td><td>-0.707107</td><td>-0.707107</td><td>0</td></tr><tr><td>&quot;038441c925bb&quot;</td><td>2</td><td>0</td><td>0</td><td>0</td><td>0.271649</td><td>0.099762</td><td>0.00009</td><td>0.021277</td><td>-0.707107</td><td>-0.707107</td><td>0</td></tr><tr><td>&quot;038441c925bb&quot;</td><td>3</td><td>0</td><td>0</td><td>0</td><td>0.271644</td><td>0.092637</td><td>-0.00009</td><td>-0.06383</td><td>-0.707107</td><td>-0.707107</td><td>0</td></tr><tr><td>&quot;038441c925bb&quot;</td><td>4</td><td>0</td><td>0</td><td>0</td><td>0.271644</td><td>0.097387</td><td>0.0</td><td>0.042554</td><td>-0.707107</td><td>-0.707107</td><td>0</td></tr></tbody></table></div>"
      ],
      "text/plain": [
       "shape: (5, 12)\n",
       "┌──────────────┬──────┬────────┬───────┬───┬───────────────┬───────────┬───────────┬──────────────┐\n",
       "│ series_id    ┆ step ┆ asleep ┆ onset ┆ … ┆ enmo_diff_pos ┆ hour_sin  ┆ hour_cos  ┆ similar_wave │\n",
       "│ ---          ┆ ---  ┆ ---    ┆ ---   ┆   ┆ ---           ┆ ---       ┆ ---       ┆ ---          │\n",
       "│ str          ┆ u32  ┆ i32    ┆ i32   ┆   ┆ f64           ┆ f64       ┆ f64       ┆ i8           │\n",
       "╞══════════════╪══════╪════════╪═══════╪═══╪═══════════════╪═══════════╪═══════════╪══════════════╡\n",
       "│ 038441c925bb ┆ 0    ┆ 0      ┆ 0     ┆ … ┆ 0.0           ┆ -0.707107 ┆ -0.707107 ┆ 0            │\n",
       "│ 038441c925bb ┆ 1    ┆ 0      ┆ 0     ┆ … ┆ -0.042553     ┆ -0.707107 ┆ -0.707107 ┆ 0            │\n",
       "│ 038441c925bb ┆ 2    ┆ 0      ┆ 0     ┆ … ┆ 0.021277      ┆ -0.707107 ┆ -0.707107 ┆ 0            │\n",
       "│ 038441c925bb ┆ 3    ┆ 0      ┆ 0     ┆ … ┆ -0.06383      ┆ -0.707107 ┆ -0.707107 ┆ 0            │\n",
       "│ 038441c925bb ┆ 4    ┆ 0      ┆ 0     ┆ … ┆ 0.042554      ┆ -0.707107 ┆ -0.707107 ┆ 0            │\n",
       "└──────────────┴──────┴────────┴───────┴───┴───────────────┴───────────┴───────────┴──────────────┘"
      ]
     },
     "metadata": {},
     "output_type": "display_data"
    },
    {
     "data": {
      "application/vnd.jupyter.widget-view+json": {
       "model_id": "2b82a3bd61124fe299be5ff0bc1a2b1c",
       "version_major": 2,
       "version_minor": 0
      },
      "text/plain": [
       "0it [00:00, ?it/s]"
      ]
     },
     "metadata": {},
     "output_type": "display_data"
    },
    {
     "data": {
      "application/vnd.jupyter.widget-view+json": {
       "model_id": "7e6c84ad3da042f69684ab159533349c",
       "version_major": 2,
       "version_minor": 0
      },
      "text/plain": [
       "0it [00:00, ?it/s]"
      ]
     },
     "metadata": {},
     "output_type": "display_data"
    },
    {
     "name": "stderr",
     "output_type": "stream",
     "text": [
      "n_params: 730915\n"
     ]
    },
    {
     "data": {
      "application/vnd.jupyter.widget-view+json": {
       "model_id": "62579f013f3a41d6ab27dd17b5e3bb44",
       "version_major": 2,
       "version_minor": 0
      },
      "text/plain": [
       "  0%|          | 0/30 [00:00<?, ?it/s]"
      ]
     },
     "metadata": {},
     "output_type": "display_data"
    },
    {
     "data": {
      "application/vnd.jupyter.widget-view+json": {
       "model_id": "b5f541b62de6470e99044492bc92ccae",
       "version_major": 2,
       "version_minor": 0
      },
      "text/plain": [
       "  0%|          | 0/184 [00:00<?, ?it/s]"
      ]
     },
     "metadata": {},
     "output_type": "display_data"
    },
    {
     "name": "stderr",
     "output_type": "stream",
     "text": [
      "epoch:0/30 | train_loss: 0.36552 valid_loss: 0.35395 valid_score: 0.51598\n"
     ]
    },
    {
     "data": {
      "application/vnd.jupyter.widget-view+json": {
       "model_id": "4b0570242c6a492585c70f4c9563993d",
       "version_major": 2,
       "version_minor": 0
      },
      "text/plain": [
       "  0%|          | 0/184 [00:00<?, ?it/s]"
      ]
     },
     "metadata": {},
     "output_type": "display_data"
    },
    {
     "name": "stderr",
     "output_type": "stream",
     "text": [
      "epoch:1/30 | train_loss: 0.17167 valid_loss: 0.18072 valid_score: 0.66720\n"
     ]
    },
    {
     "data": {
      "application/vnd.jupyter.widget-view+json": {
       "model_id": "a0c73e18d52f4e00b80d8166fe0b743b",
       "version_major": 2,
       "version_minor": 0
      },
      "text/plain": [
       "  0%|          | 0/184 [00:00<?, ?it/s]"
      ]
     },
     "metadata": {},
     "output_type": "display_data"
    },
    {
     "name": "stderr",
     "output_type": "stream",
     "text": [
      "epoch:2/30 | train_loss: 0.14248 valid_loss: 0.15934 valid_score: 0.71388\n"
     ]
    },
    {
     "data": {
      "application/vnd.jupyter.widget-view+json": {
       "model_id": "30ee8df4170f4de0b788d7c8a1fa1a54",
       "version_major": 2,
       "version_minor": 0
      },
      "text/plain": [
       "  0%|          | 0/184 [00:00<?, ?it/s]"
      ]
     },
     "metadata": {},
     "output_type": "display_data"
    },
    {
     "name": "stderr",
     "output_type": "stream",
     "text": [
      "epoch:3/30 | train_loss: 0.12858 valid_loss: 0.18759 valid_score: 0.72036\n"
     ]
    },
    {
     "data": {
      "application/vnd.jupyter.widget-view+json": {
       "model_id": "6eea089fbe6548a0acfefe11bf6ad142",
       "version_major": 2,
       "version_minor": 0
      },
      "text/plain": [
       "  0%|          | 0/184 [00:00<?, ?it/s]"
      ]
     },
     "metadata": {},
     "output_type": "display_data"
    },
    {
     "name": "stderr",
     "output_type": "stream",
     "text": [
      "epoch:4/30 | train_loss: 0.12621 valid_loss: 0.16226 valid_score: 0.72623\n"
     ]
    },
    {
     "data": {
      "application/vnd.jupyter.widget-view+json": {
       "model_id": "41f9c0c332ea450084b2b7e3f42995a0",
       "version_major": 2,
       "version_minor": 0
      },
      "text/plain": [
       "  0%|          | 0/184 [00:00<?, ?it/s]"
      ]
     },
     "metadata": {},
     "output_type": "display_data"
    },
    {
     "name": "stderr",
     "output_type": "stream",
     "text": [
      "epoch:5/30 | train_loss: 0.12061 valid_loss: 0.16035 valid_score: 0.73343\n"
     ]
    },
    {
     "data": {
      "application/vnd.jupyter.widget-view+json": {
       "model_id": "40c5787a87b849d9aceee4a670acfbe1",
       "version_major": 2,
       "version_minor": 0
      },
      "text/plain": [
       "  0%|          | 0/184 [00:00<?, ?it/s]"
      ]
     },
     "metadata": {},
     "output_type": "display_data"
    },
    {
     "name": "stderr",
     "output_type": "stream",
     "text": [
      "epoch:6/30 | train_loss: 0.11529 valid_loss: 0.18720 valid_score: 0.73905\n"
     ]
    },
    {
     "data": {
      "application/vnd.jupyter.widget-view+json": {
       "model_id": "a3f3d203ddad49fc9351a7f5b335c8e5",
       "version_major": 2,
       "version_minor": 0
      },
      "text/plain": [
       "  0%|          | 0/184 [00:00<?, ?it/s]"
      ]
     },
     "metadata": {},
     "output_type": "display_data"
    },
    {
     "name": "stderr",
     "output_type": "stream",
     "text": [
      "epoch:7/30 | train_loss: 0.11594 valid_loss: 0.16663 valid_score: 0.73860\n"
     ]
    },
    {
     "data": {
      "application/vnd.jupyter.widget-view+json": {
       "model_id": "422cb45a4d784db2810de1856706a0a9",
       "version_major": 2,
       "version_minor": 0
      },
      "text/plain": [
       "  0%|          | 0/184 [00:00<?, ?it/s]"
      ]
     },
     "metadata": {},
     "output_type": "display_data"
    },
    {
     "name": "stderr",
     "output_type": "stream",
     "text": [
      "epoch:8/30 | train_loss: 0.11180 valid_loss: 0.18077 valid_score: 0.73093\n"
     ]
    },
    {
     "data": {
      "application/vnd.jupyter.widget-view+json": {
       "model_id": "d90b51270b2f43db8b74f0fb6c1dc378",
       "version_major": 2,
       "version_minor": 0
      },
      "text/plain": [
       "  0%|          | 0/184 [00:00<?, ?it/s]"
      ]
     },
     "metadata": {},
     "output_type": "display_data"
    },
    {
     "name": "stderr",
     "output_type": "stream",
     "text": [
      "epoch:9/30 | train_loss: 0.10682 valid_loss: 0.15326 valid_score: 0.74554\n"
     ]
    },
    {
     "data": {
      "application/vnd.jupyter.widget-view+json": {
       "model_id": "6006ff4294244a04a54d9c7c0fb95741",
       "version_major": 2,
       "version_minor": 0
      },
      "text/plain": [
       "  0%|          | 0/184 [00:00<?, ?it/s]"
      ]
     },
     "metadata": {},
     "output_type": "display_data"
    },
    {
     "name": "stderr",
     "output_type": "stream",
     "text": [
      "epoch:10/30 | train_loss: 0.10684 valid_loss: 0.15703 valid_score: 0.74403\n"
     ]
    },
    {
     "data": {
      "application/vnd.jupyter.widget-view+json": {
       "model_id": "2933bcde9d224d6394561e9eb0de0cf2",
       "version_major": 2,
       "version_minor": 0
      },
      "text/plain": [
       "  0%|          | 0/184 [00:00<?, ?it/s]"
      ]
     },
     "metadata": {},
     "output_type": "display_data"
    },
    {
     "name": "stderr",
     "output_type": "stream",
     "text": [
      "epoch:11/30 | train_loss: 0.10179 valid_loss: 0.16863 valid_score: 0.75207\n"
     ]
    },
    {
     "data": {
      "application/vnd.jupyter.widget-view+json": {
       "model_id": "099b900e298548d48f34c2ab467c7d42",
       "version_major": 2,
       "version_minor": 0
      },
      "text/plain": [
       "  0%|          | 0/184 [00:00<?, ?it/s]"
      ]
     },
     "metadata": {},
     "output_type": "display_data"
    },
    {
     "name": "stderr",
     "output_type": "stream",
     "text": [
      "epoch:12/30 | train_loss: 0.10087 valid_loss: 0.15842 valid_score: 0.74986\n"
     ]
    },
    {
     "data": {
      "application/vnd.jupyter.widget-view+json": {
       "model_id": "9f9d76b8e0ff4ac2b071fa686ca9e7ee",
       "version_major": 2,
       "version_minor": 0
      },
      "text/plain": [
       "  0%|          | 0/184 [00:00<?, ?it/s]"
      ]
     },
     "metadata": {},
     "output_type": "display_data"
    },
    {
     "name": "stderr",
     "output_type": "stream",
     "text": [
      "epoch:13/30 | train_loss: 0.09941 valid_loss: 0.17884 valid_score: 0.73244\n"
     ]
    },
    {
     "data": {
      "application/vnd.jupyter.widget-view+json": {
       "model_id": "b60a66ae21344cb2ab0ff0ad33fd4ed8",
       "version_major": 2,
       "version_minor": 0
      },
      "text/plain": [
       "  0%|          | 0/184 [00:00<?, ?it/s]"
      ]
     },
     "metadata": {},
     "output_type": "display_data"
    },
    {
     "name": "stderr",
     "output_type": "stream",
     "text": [
      "epoch:14/30 | train_loss: 0.09574 valid_loss: 0.15521 valid_score: 0.74301\n"
     ]
    },
    {
     "data": {
      "application/vnd.jupyter.widget-view+json": {
       "model_id": "a1b6d9ecaa1e450cbcf235513b8a1048",
       "version_major": 2,
       "version_minor": 0
      },
      "text/plain": [
       "  0%|          | 0/184 [00:00<?, ?it/s]"
      ]
     },
     "metadata": {},
     "output_type": "display_data"
    },
    {
     "name": "stderr",
     "output_type": "stream",
     "text": [
      "epoch:15/30 | train_loss: 0.09497 valid_loss: 0.15782 valid_score: 0.74958\n"
     ]
    },
    {
     "data": {
      "application/vnd.jupyter.widget-view+json": {
       "model_id": "f7180010c3984cdfb917eddb38d48850",
       "version_major": 2,
       "version_minor": 0
      },
      "text/plain": [
       "  0%|          | 0/184 [00:00<?, ?it/s]"
      ]
     },
     "metadata": {},
     "output_type": "display_data"
    },
    {
     "name": "stderr",
     "output_type": "stream",
     "text": [
      "epoch:16/30 | train_loss: 0.09221 valid_loss: 0.15574 valid_score: 0.75337\n"
     ]
    },
    {
     "data": {
      "application/vnd.jupyter.widget-view+json": {
       "model_id": "994f96c5522a47d2b9176514a130503e",
       "version_major": 2,
       "version_minor": 0
      },
      "text/plain": [
       "  0%|          | 0/184 [00:00<?, ?it/s]"
      ]
     },
     "metadata": {},
     "output_type": "display_data"
    },
    {
     "name": "stderr",
     "output_type": "stream",
     "text": [
      "epoch:17/30 | train_loss: 0.08989 valid_loss: 0.14235 valid_score: 0.75412\n"
     ]
    },
    {
     "data": {
      "application/vnd.jupyter.widget-view+json": {
       "model_id": "d5293561c803495380767fc411bb2983",
       "version_major": 2,
       "version_minor": 0
      },
      "text/plain": [
       "  0%|          | 0/184 [00:00<?, ?it/s]"
      ]
     },
     "metadata": {},
     "output_type": "display_data"
    },
    {
     "name": "stderr",
     "output_type": "stream",
     "text": [
      "epoch:18/30 | train_loss: 0.08921 valid_loss: 0.15686 valid_score: 0.75095\n"
     ]
    },
    {
     "data": {
      "application/vnd.jupyter.widget-view+json": {
       "model_id": "6d275e647feb40669a548cd4c7118327",
       "version_major": 2,
       "version_minor": 0
      },
      "text/plain": [
       "  0%|          | 0/184 [00:00<?, ?it/s]"
      ]
     },
     "metadata": {},
     "output_type": "display_data"
    },
    {
     "name": "stderr",
     "output_type": "stream",
     "text": [
      "epoch:19/30 | train_loss: 0.08468 valid_loss: 0.14373 valid_score: 0.75200\n"
     ]
    },
    {
     "data": {
      "application/vnd.jupyter.widget-view+json": {
       "model_id": "7b97303988214d93b6991e6ac126a34f",
       "version_major": 2,
       "version_minor": 0
      },
      "text/plain": [
       "  0%|          | 0/184 [00:00<?, ?it/s]"
      ]
     },
     "metadata": {},
     "output_type": "display_data"
    },
    {
     "name": "stderr",
     "output_type": "stream",
     "text": [
      "epoch:20/30 | train_loss: 0.08305 valid_loss: 0.14886 valid_score: 0.75173\n"
     ]
    },
    {
     "data": {
      "application/vnd.jupyter.widget-view+json": {
       "model_id": "8ec34ecc6833474b90c8aa153eb1e605",
       "version_major": 2,
       "version_minor": 0
      },
      "text/plain": [
       "  0%|          | 0/184 [00:00<?, ?it/s]"
      ]
     },
     "metadata": {},
     "output_type": "display_data"
    },
    {
     "name": "stderr",
     "output_type": "stream",
     "text": [
      "epoch:21/30 | train_loss: 0.08125 valid_loss: 0.15257 valid_score: 0.74695\n"
     ]
    },
    {
     "data": {
      "application/vnd.jupyter.widget-view+json": {
       "model_id": "b3e50e8a76fb4108837fa49315bf0aed",
       "version_major": 2,
       "version_minor": 0
      },
      "text/plain": [
       "  0%|          | 0/184 [00:00<?, ?it/s]"
      ]
     },
     "metadata": {},
     "output_type": "display_data"
    },
    {
     "name": "stderr",
     "output_type": "stream",
     "text": [
      "epoch:22/30 | train_loss: 0.07799 valid_loss: 0.14910 valid_score: 0.74668\n"
     ]
    },
    {
     "data": {
      "application/vnd.jupyter.widget-view+json": {
       "model_id": "6b0b6406bb27488590ce35a40e9f0ca0",
       "version_major": 2,
       "version_minor": 0
      },
      "text/plain": [
       "  0%|          | 0/184 [00:00<?, ?it/s]"
      ]
     },
     "metadata": {},
     "output_type": "display_data"
    },
    {
     "name": "stderr",
     "output_type": "stream",
     "text": [
      "epoch:23/30 | train_loss: 0.07506 valid_loss: 0.15118 valid_score: 0.75062\n"
     ]
    },
    {
     "data": {
      "application/vnd.jupyter.widget-view+json": {
       "model_id": "040cd267af8b4741b9a8da31374070fe",
       "version_major": 2,
       "version_minor": 0
      },
      "text/plain": [
       "  0%|          | 0/184 [00:00<?, ?it/s]"
      ]
     },
     "metadata": {},
     "output_type": "display_data"
    },
    {
     "name": "stderr",
     "output_type": "stream",
     "text": [
      "epoch:24/30 | train_loss: 0.07336 valid_loss: 0.14339 valid_score: 0.75442\n"
     ]
    },
    {
     "data": {
      "application/vnd.jupyter.widget-view+json": {
       "model_id": "679b5c71061c4ba8a2c54b44c39f9fe4",
       "version_major": 2,
       "version_minor": 0
      },
      "text/plain": [
       "  0%|          | 0/184 [00:00<?, ?it/s]"
      ]
     },
     "metadata": {},
     "output_type": "display_data"
    },
    {
     "name": "stderr",
     "output_type": "stream",
     "text": [
      "epoch:25/30 | train_loss: 0.07179 valid_loss: 0.14233 valid_score: 0.75524\n"
     ]
    },
    {
     "data": {
      "application/vnd.jupyter.widget-view+json": {
       "model_id": "bce24e61eb704c9788bfcbdad6290184",
       "version_major": 2,
       "version_minor": 0
      },
      "text/plain": [
       "  0%|          | 0/184 [00:00<?, ?it/s]"
      ]
     },
     "metadata": {},
     "output_type": "display_data"
    },
    {
     "name": "stderr",
     "output_type": "stream",
     "text": [
      "epoch:26/30 | train_loss: 0.06996 valid_loss: 0.15248 valid_score: 0.75277\n"
     ]
    },
    {
     "data": {
      "application/vnd.jupyter.widget-view+json": {
       "model_id": "c1cbfe6570e14bb5adfac2393b85279d",
       "version_major": 2,
       "version_minor": 0
      },
      "text/plain": [
       "  0%|          | 0/184 [00:00<?, ?it/s]"
      ]
     },
     "metadata": {},
     "output_type": "display_data"
    },
    {
     "name": "stderr",
     "output_type": "stream",
     "text": [
      "epoch:27/30 | train_loss: 0.06907 valid_loss: 0.15147 valid_score: 0.75291\n"
     ]
    },
    {
     "data": {
      "application/vnd.jupyter.widget-view+json": {
       "model_id": "42222443286b4816b864906ed7d1a270",
       "version_major": 2,
       "version_minor": 0
      },
      "text/plain": [
       "  0%|          | 0/184 [00:00<?, ?it/s]"
      ]
     },
     "metadata": {},
     "output_type": "display_data"
    },
    {
     "name": "stderr",
     "output_type": "stream",
     "text": [
      "epoch:28/30 | train_loss: 0.06830 valid_loss: 0.15067 valid_score: 0.75253\n"
     ]
    },
    {
     "data": {
      "application/vnd.jupyter.widget-view+json": {
       "model_id": "7124110421624be4895140d9fadd088a",
       "version_major": 2,
       "version_minor": 0
      },
      "text/plain": [
       "  0%|          | 0/184 [00:00<?, ?it/s]"
      ]
     },
     "metadata": {},
     "output_type": "display_data"
    },
    {
     "name": "stderr",
     "output_type": "stream",
     "text": [
      "epoch:29/30 | train_loss: 0.06819 valid_loss: 0.15021 valid_score: 0.75341\n",
      "==============================\n",
      "fold 1 | best_score: 0.75524 best_loss: 0.14233\n",
      "==============================\n",
      "================================================== Fold 2 ==================================================\n"
     ]
    },
    {
     "data": {
      "text/html": [
       "<div><style>\n",
       ".dataframe > thead > tr > th,\n",
       ".dataframe > tbody > tr > td {\n",
       "  text-align: right;\n",
       "  white-space: pre-wrap;\n",
       "}\n",
       "</style>\n",
       "<small>shape: (5, 12)</small><table border=\"1\" class=\"dataframe\"><thead><tr><th>series_id</th><th>step</th><th>asleep</th><th>onset</th><th>wakeup</th><th>anglez</th><th>enmo</th><th>anglez_diff_pos</th><th>enmo_diff_pos</th><th>hour_sin</th><th>hour_cos</th><th>similar_wave</th></tr><tr><td>str</td><td>u32</td><td>i32</td><td>i32</td><td>i32</td><td>f64</td><td>f64</td><td>f64</td><td>f64</td><td>f64</td><td>f64</td><td>i8</td></tr></thead><tbody><tr><td>&quot;038441c925bb&quot;</td><td>0</td><td>0</td><td>0</td><td>0</td><td>0.278515</td><td>0.108235</td><td>0.0</td><td>0.0</td><td>-0.707107</td><td>-0.707107</td><td>0</td></tr><tr><td>&quot;038441c925bb&quot;</td><td>1</td><td>0</td><td>0</td><td>0</td><td>0.278517</td><td>0.103529</td><td>0.000045</td><td>-0.042553</td><td>-0.707107</td><td>-0.707107</td><td>0</td></tr><tr><td>&quot;038441c925bb&quot;</td><td>2</td><td>0</td><td>0</td><td>0</td><td>0.278522</td><td>0.105882</td><td>0.00009</td><td>0.021277</td><td>-0.707107</td><td>-0.707107</td><td>0</td></tr><tr><td>&quot;038441c925bb&quot;</td><td>3</td><td>0</td><td>0</td><td>0</td><td>0.278517</td><td>0.098823</td><td>-0.00009</td><td>-0.06383</td><td>-0.707107</td><td>-0.707107</td><td>0</td></tr><tr><td>&quot;038441c925bb&quot;</td><td>4</td><td>0</td><td>0</td><td>0</td><td>0.278517</td><td>0.103529</td><td>0.0</td><td>0.042554</td><td>-0.707107</td><td>-0.707107</td><td>0</td></tr></tbody></table></div>"
      ],
      "text/plain": [
       "shape: (5, 12)\n",
       "┌──────────────┬──────┬────────┬───────┬───┬───────────────┬───────────┬───────────┬──────────────┐\n",
       "│ series_id    ┆ step ┆ asleep ┆ onset ┆ … ┆ enmo_diff_pos ┆ hour_sin  ┆ hour_cos  ┆ similar_wave │\n",
       "│ ---          ┆ ---  ┆ ---    ┆ ---   ┆   ┆ ---           ┆ ---       ┆ ---       ┆ ---          │\n",
       "│ str          ┆ u32  ┆ i32    ┆ i32   ┆   ┆ f64           ┆ f64       ┆ f64       ┆ i8           │\n",
       "╞══════════════╪══════╪════════╪═══════╪═══╪═══════════════╪═══════════╪═══════════╪══════════════╡\n",
       "│ 038441c925bb ┆ 0    ┆ 0      ┆ 0     ┆ … ┆ 0.0           ┆ -0.707107 ┆ -0.707107 ┆ 0            │\n",
       "│ 038441c925bb ┆ 1    ┆ 0      ┆ 0     ┆ … ┆ -0.042553     ┆ -0.707107 ┆ -0.707107 ┆ 0            │\n",
       "│ 038441c925bb ┆ 2    ┆ 0      ┆ 0     ┆ … ┆ 0.021277      ┆ -0.707107 ┆ -0.707107 ┆ 0            │\n",
       "│ 038441c925bb ┆ 3    ┆ 0      ┆ 0     ┆ … ┆ -0.06383      ┆ -0.707107 ┆ -0.707107 ┆ 0            │\n",
       "│ 038441c925bb ┆ 4    ┆ 0      ┆ 0     ┆ … ┆ 0.042554      ┆ -0.707107 ┆ -0.707107 ┆ 0            │\n",
       "└──────────────┴──────┴────────┴───────┴───┴───────────────┴───────────┴───────────┴──────────────┘"
      ]
     },
     "metadata": {},
     "output_type": "display_data"
    },
    {
     "data": {
      "application/vnd.jupyter.widget-view+json": {
       "model_id": "c401bab81b59465e872c41059a5cd392",
       "version_major": 2,
       "version_minor": 0
      },
      "text/plain": [
       "0it [00:00, ?it/s]"
      ]
     },
     "metadata": {},
     "output_type": "display_data"
    },
    {
     "data": {
      "application/vnd.jupyter.widget-view+json": {
       "model_id": "8c285dd53a5040b49a8a11b56d321091",
       "version_major": 2,
       "version_minor": 0
      },
      "text/plain": [
       "0it [00:00, ?it/s]"
      ]
     },
     "metadata": {},
     "output_type": "display_data"
    },
    {
     "name": "stderr",
     "output_type": "stream",
     "text": [
      "n_params: 730915\n"
     ]
    },
    {
     "data": {
      "application/vnd.jupyter.widget-view+json": {
       "model_id": "9a5cc4331a7b4a38b5d0a8155a3d8d17",
       "version_major": 2,
       "version_minor": 0
      },
      "text/plain": [
       "  0%|          | 0/30 [00:00<?, ?it/s]"
      ]
     },
     "metadata": {},
     "output_type": "display_data"
    },
    {
     "data": {
      "application/vnd.jupyter.widget-view+json": {
       "model_id": "bb636e4ef881473eb15c31fefc733ac2",
       "version_major": 2,
       "version_minor": 0
      },
      "text/plain": [
       "  0%|          | 0/191 [00:00<?, ?it/s]"
      ]
     },
     "metadata": {},
     "output_type": "display_data"
    },
    {
     "name": "stderr",
     "output_type": "stream",
     "text": [
      "epoch:0/30 | train_loss: 0.42276 valid_loss: 0.18251 valid_score: 0.62989\n"
     ]
    },
    {
     "data": {
      "application/vnd.jupyter.widget-view+json": {
       "model_id": "85cda249af2c475fa84bb5e4b8076430",
       "version_major": 2,
       "version_minor": 0
      },
      "text/plain": [
       "  0%|          | 0/191 [00:00<?, ?it/s]"
      ]
     },
     "metadata": {},
     "output_type": "display_data"
    },
    {
     "name": "stderr",
     "output_type": "stream",
     "text": [
      "epoch:1/30 | train_loss: 0.17367 valid_loss: 0.17921 valid_score: 0.73883\n"
     ]
    },
    {
     "data": {
      "application/vnd.jupyter.widget-view+json": {
       "model_id": "a8edf5f17c3d4821bbcf3a2954acb368",
       "version_major": 2,
       "version_minor": 0
      },
      "text/plain": [
       "  0%|          | 0/191 [00:00<?, ?it/s]"
      ]
     },
     "metadata": {},
     "output_type": "display_data"
    },
    {
     "name": "stderr",
     "output_type": "stream",
     "text": [
      "epoch:2/30 | train_loss: 0.14577 valid_loss: 0.12485 valid_score: 0.76615\n"
     ]
    },
    {
     "data": {
      "application/vnd.jupyter.widget-view+json": {
       "model_id": "466e8166169e421e91e9c69ea08340f7",
       "version_major": 2,
       "version_minor": 0
      },
      "text/plain": [
       "  0%|          | 0/191 [00:00<?, ?it/s]"
      ]
     },
     "metadata": {},
     "output_type": "display_data"
    },
    {
     "name": "stderr",
     "output_type": "stream",
     "text": [
      "epoch:3/30 | train_loss: 0.13571 valid_loss: 0.10569 valid_score: 0.79121\n"
     ]
    },
    {
     "data": {
      "application/vnd.jupyter.widget-view+json": {
       "model_id": "b0c71d149d0348eda86abc72b5e9a6a6",
       "version_major": 2,
       "version_minor": 0
      },
      "text/plain": [
       "  0%|          | 0/191 [00:00<?, ?it/s]"
      ]
     },
     "metadata": {},
     "output_type": "display_data"
    },
    {
     "name": "stderr",
     "output_type": "stream",
     "text": [
      "epoch:4/30 | train_loss: 0.12801 valid_loss: 0.11272 valid_score: 0.78878\n"
     ]
    },
    {
     "data": {
      "application/vnd.jupyter.widget-view+json": {
       "model_id": "ae5e2de768a6441ab3448a98a91de5fa",
       "version_major": 2,
       "version_minor": 0
      },
      "text/plain": [
       "  0%|          | 0/191 [00:00<?, ?it/s]"
      ]
     },
     "metadata": {},
     "output_type": "display_data"
    },
    {
     "name": "stderr",
     "output_type": "stream",
     "text": [
      "epoch:5/30 | train_loss: 0.12353 valid_loss: 0.11800 valid_score: 0.80142\n"
     ]
    },
    {
     "data": {
      "application/vnd.jupyter.widget-view+json": {
       "model_id": "f40870183294459da817624c115b36e5",
       "version_major": 2,
       "version_minor": 0
      },
      "text/plain": [
       "  0%|          | 0/191 [00:00<?, ?it/s]"
      ]
     },
     "metadata": {},
     "output_type": "display_data"
    },
    {
     "name": "stderr",
     "output_type": "stream",
     "text": [
      "epoch:6/30 | train_loss: 0.13732 valid_loss: 0.12104 valid_score: 0.76576\n"
     ]
    },
    {
     "data": {
      "application/vnd.jupyter.widget-view+json": {
       "model_id": "843db008c3c244e6aedee513fdf00cca",
       "version_major": 2,
       "version_minor": 0
      },
      "text/plain": [
       "  0%|          | 0/191 [00:00<?, ?it/s]"
      ]
     },
     "metadata": {},
     "output_type": "display_data"
    },
    {
     "name": "stderr",
     "output_type": "stream",
     "text": [
      "epoch:7/30 | train_loss: 0.12377 valid_loss: 0.10411 valid_score: 0.80085\n"
     ]
    },
    {
     "data": {
      "application/vnd.jupyter.widget-view+json": {
       "model_id": "a2bc51157c7b4a7ea9244d4c73b0e819",
       "version_major": 2,
       "version_minor": 0
      },
      "text/plain": [
       "  0%|          | 0/191 [00:00<?, ?it/s]"
      ]
     },
     "metadata": {},
     "output_type": "display_data"
    },
    {
     "name": "stderr",
     "output_type": "stream",
     "text": [
      "epoch:8/30 | train_loss: 0.11880 valid_loss: 0.10311 valid_score: 0.80507\n"
     ]
    },
    {
     "data": {
      "application/vnd.jupyter.widget-view+json": {
       "model_id": "67b80f8d003d4a8fb20357ff74983970",
       "version_major": 2,
       "version_minor": 0
      },
      "text/plain": [
       "  0%|          | 0/191 [00:00<?, ?it/s]"
      ]
     },
     "metadata": {},
     "output_type": "display_data"
    },
    {
     "name": "stderr",
     "output_type": "stream",
     "text": [
      "epoch:9/30 | train_loss: 0.11618 valid_loss: 0.10512 valid_score: 0.80627\n"
     ]
    },
    {
     "data": {
      "application/vnd.jupyter.widget-view+json": {
       "model_id": "2b49e5799bdd4927805744740a402c0f",
       "version_major": 2,
       "version_minor": 0
      },
      "text/plain": [
       "  0%|          | 0/191 [00:00<?, ?it/s]"
      ]
     },
     "metadata": {},
     "output_type": "display_data"
    },
    {
     "name": "stderr",
     "output_type": "stream",
     "text": [
      "epoch:10/30 | train_loss: 0.11393 valid_loss: 0.10613 valid_score: 0.80460\n"
     ]
    },
    {
     "data": {
      "application/vnd.jupyter.widget-view+json": {
       "model_id": "ac59dd54d1c64855b2753d4c4b604667",
       "version_major": 2,
       "version_minor": 0
      },
      "text/plain": [
       "  0%|          | 0/191 [00:00<?, ?it/s]"
      ]
     },
     "metadata": {},
     "output_type": "display_data"
    },
    {
     "name": "stderr",
     "output_type": "stream",
     "text": [
      "epoch:11/30 | train_loss: 0.11017 valid_loss: 0.11179 valid_score: 0.80017\n"
     ]
    },
    {
     "data": {
      "application/vnd.jupyter.widget-view+json": {
       "model_id": "122720419fe14d73864fff9904d2e6aa",
       "version_major": 2,
       "version_minor": 0
      },
      "text/plain": [
       "  0%|          | 0/191 [00:00<?, ?it/s]"
      ]
     },
     "metadata": {},
     "output_type": "display_data"
    },
    {
     "name": "stderr",
     "output_type": "stream",
     "text": [
      "epoch:12/30 | train_loss: 0.10857 valid_loss: 0.10213 valid_score: 0.80614\n"
     ]
    },
    {
     "data": {
      "application/vnd.jupyter.widget-view+json": {
       "model_id": "cda101f2f1a946dfab818189753caa01",
       "version_major": 2,
       "version_minor": 0
      },
      "text/plain": [
       "  0%|          | 0/191 [00:00<?, ?it/s]"
      ]
     },
     "metadata": {},
     "output_type": "display_data"
    },
    {
     "name": "stderr",
     "output_type": "stream",
     "text": [
      "epoch:13/30 | train_loss: 0.10659 valid_loss: 0.10439 valid_score: 0.80824\n"
     ]
    },
    {
     "data": {
      "application/vnd.jupyter.widget-view+json": {
       "model_id": "db1bc5299fff4f7a92a8391fdcc9e66e",
       "version_major": 2,
       "version_minor": 0
      },
      "text/plain": [
       "  0%|          | 0/191 [00:00<?, ?it/s]"
      ]
     },
     "metadata": {},
     "output_type": "display_data"
    },
    {
     "name": "stderr",
     "output_type": "stream",
     "text": [
      "epoch:14/30 | train_loss: 0.10382 valid_loss: 0.09826 valid_score: 0.80956\n"
     ]
    },
    {
     "data": {
      "application/vnd.jupyter.widget-view+json": {
       "model_id": "5d0b48bef86b4e6a9383b5ac5e4b535e",
       "version_major": 2,
       "version_minor": 0
      },
      "text/plain": [
       "  0%|          | 0/191 [00:00<?, ?it/s]"
      ]
     },
     "metadata": {},
     "output_type": "display_data"
    },
    {
     "name": "stderr",
     "output_type": "stream",
     "text": [
      "epoch:15/30 | train_loss: 0.10164 valid_loss: 0.10443 valid_score: 0.81201\n"
     ]
    },
    {
     "data": {
      "application/vnd.jupyter.widget-view+json": {
       "model_id": "dd02cb7e2eaf410e94893b692365872e",
       "version_major": 2,
       "version_minor": 0
      },
      "text/plain": [
       "  0%|          | 0/191 [00:00<?, ?it/s]"
      ]
     },
     "metadata": {},
     "output_type": "display_data"
    },
    {
     "name": "stderr",
     "output_type": "stream",
     "text": [
      "epoch:16/30 | train_loss: 0.09836 valid_loss: 0.09949 valid_score: 0.81197\n"
     ]
    },
    {
     "data": {
      "application/vnd.jupyter.widget-view+json": {
       "model_id": "d580663b3c1f4ccf9abc699b887a2344",
       "version_major": 2,
       "version_minor": 0
      },
      "text/plain": [
       "  0%|          | 0/191 [00:00<?, ?it/s]"
      ]
     },
     "metadata": {},
     "output_type": "display_data"
    },
    {
     "name": "stderr",
     "output_type": "stream",
     "text": [
      "epoch:17/30 | train_loss: 0.09802 valid_loss: 0.10068 valid_score: 0.81902\n"
     ]
    },
    {
     "data": {
      "application/vnd.jupyter.widget-view+json": {
       "model_id": "7bfc3ddfcb5347728839b5686f769d93",
       "version_major": 2,
       "version_minor": 0
      },
      "text/plain": [
       "  0%|          | 0/191 [00:00<?, ?it/s]"
      ]
     },
     "metadata": {},
     "output_type": "display_data"
    },
    {
     "name": "stderr",
     "output_type": "stream",
     "text": [
      "epoch:18/30 | train_loss: 0.09567 valid_loss: 0.10433 valid_score: 0.81730\n"
     ]
    },
    {
     "data": {
      "application/vnd.jupyter.widget-view+json": {
       "model_id": "35621c9d1ea844bbbed9490ad2395ff0",
       "version_major": 2,
       "version_minor": 0
      },
      "text/plain": [
       "  0%|          | 0/191 [00:00<?, ?it/s]"
      ]
     },
     "metadata": {},
     "output_type": "display_data"
    },
    {
     "name": "stderr",
     "output_type": "stream",
     "text": [
      "epoch:19/30 | train_loss: 0.09241 valid_loss: 0.10145 valid_score: 0.81870\n"
     ]
    },
    {
     "data": {
      "application/vnd.jupyter.widget-view+json": {
       "model_id": "73cdc8fa74a740c981ffd675bd8cfcde",
       "version_major": 2,
       "version_minor": 0
      },
      "text/plain": [
       "  0%|          | 0/191 [00:00<?, ?it/s]"
      ]
     },
     "metadata": {},
     "output_type": "display_data"
    },
    {
     "name": "stderr",
     "output_type": "stream",
     "text": [
      "epoch:20/30 | train_loss: 0.08989 valid_loss: 0.10655 valid_score: 0.81308\n"
     ]
    },
    {
     "data": {
      "application/vnd.jupyter.widget-view+json": {
       "model_id": "ea2fa597d535437ebb4bde0a7e9859ce",
       "version_major": 2,
       "version_minor": 0
      },
      "text/plain": [
       "  0%|          | 0/191 [00:00<?, ?it/s]"
      ]
     },
     "metadata": {},
     "output_type": "display_data"
    },
    {
     "name": "stderr",
     "output_type": "stream",
     "text": [
      "epoch:21/30 | train_loss: 0.08717 valid_loss: 0.10864 valid_score: 0.81301\n"
     ]
    },
    {
     "data": {
      "application/vnd.jupyter.widget-view+json": {
       "model_id": "05559c7b4a8242ba9198337853fac888",
       "version_major": 2,
       "version_minor": 0
      },
      "text/plain": [
       "  0%|          | 0/191 [00:00<?, ?it/s]"
      ]
     },
     "metadata": {},
     "output_type": "display_data"
    },
    {
     "name": "stderr",
     "output_type": "stream",
     "text": [
      "epoch:22/30 | train_loss: 0.08542 valid_loss: 0.10460 valid_score: 0.81431\n"
     ]
    },
    {
     "data": {
      "application/vnd.jupyter.widget-view+json": {
       "model_id": "1ed994216c364891916479f36f455105",
       "version_major": 2,
       "version_minor": 0
      },
      "text/plain": [
       "  0%|          | 0/191 [00:00<?, ?it/s]"
      ]
     },
     "metadata": {},
     "output_type": "display_data"
    },
    {
     "name": "stderr",
     "output_type": "stream",
     "text": [
      "epoch:23/30 | train_loss: 0.08216 valid_loss: 0.11198 valid_score: 0.81440\n"
     ]
    },
    {
     "data": {
      "application/vnd.jupyter.widget-view+json": {
       "model_id": "b96463815b5f49ab9611cdcf4cea269d",
       "version_major": 2,
       "version_minor": 0
      },
      "text/plain": [
       "  0%|          | 0/191 [00:00<?, ?it/s]"
      ]
     },
     "metadata": {},
     "output_type": "display_data"
    },
    {
     "name": "stderr",
     "output_type": "stream",
     "text": [
      "Early stopping\n",
      "==============================\n",
      "fold 2 | best_score: 0.80956 best_loss: 0.09826\n",
      "==============================\n",
      "================================================== Fold 3 ==================================================\n"
     ]
    },
    {
     "data": {
      "text/html": [
       "<div><style>\n",
       ".dataframe > thead > tr > th,\n",
       ".dataframe > tbody > tr > td {\n",
       "  text-align: right;\n",
       "  white-space: pre-wrap;\n",
       "}\n",
       "</style>\n",
       "<small>shape: (5, 12)</small><table border=\"1\" class=\"dataframe\"><thead><tr><th>series_id</th><th>step</th><th>asleep</th><th>onset</th><th>wakeup</th><th>anglez</th><th>enmo</th><th>anglez_diff_pos</th><th>enmo_diff_pos</th><th>hour_sin</th><th>hour_cos</th><th>similar_wave</th></tr><tr><td>str</td><td>u32</td><td>i32</td><td>i32</td><td>i32</td><td>f64</td><td>f64</td><td>f64</td><td>f64</td><td>f64</td><td>f64</td><td>i8</td></tr></thead><tbody><tr><td>&quot;038441c925bb&quot;</td><td>0</td><td>0</td><td>0</td><td>0</td><td>0.295716</td><td>0.108747</td><td>0.0</td><td>0.0</td><td>-0.707107</td><td>-0.707107</td><td>0</td></tr><tr><td>&quot;038441c925bb&quot;</td><td>1</td><td>0</td><td>0</td><td>0</td><td>0.295719</td><td>0.104019</td><td>0.000046</td><td>-0.043478</td><td>-0.707107</td><td>-0.707107</td><td>0</td></tr><tr><td>&quot;038441c925bb&quot;</td><td>2</td><td>0</td><td>0</td><td>0</td><td>0.295723</td><td>0.106383</td><td>0.000092</td><td>0.021739</td><td>-0.707107</td><td>-0.707107</td><td>0</td></tr><tr><td>&quot;038441c925bb&quot;</td><td>3</td><td>0</td><td>0</td><td>0</td><td>0.295719</td><td>0.099291</td><td>-0.000092</td><td>-0.065218</td><td>-0.707107</td><td>-0.707107</td><td>0</td></tr><tr><td>&quot;038441c925bb&quot;</td><td>4</td><td>0</td><td>0</td><td>0</td><td>0.295719</td><td>0.104019</td><td>0.0</td><td>0.043479</td><td>-0.707107</td><td>-0.707107</td><td>0</td></tr></tbody></table></div>"
      ],
      "text/plain": [
       "shape: (5, 12)\n",
       "┌──────────────┬──────┬────────┬───────┬───┬───────────────┬───────────┬───────────┬──────────────┐\n",
       "│ series_id    ┆ step ┆ asleep ┆ onset ┆ … ┆ enmo_diff_pos ┆ hour_sin  ┆ hour_cos  ┆ similar_wave │\n",
       "│ ---          ┆ ---  ┆ ---    ┆ ---   ┆   ┆ ---           ┆ ---       ┆ ---       ┆ ---          │\n",
       "│ str          ┆ u32  ┆ i32    ┆ i32   ┆   ┆ f64           ┆ f64       ┆ f64       ┆ i8           │\n",
       "╞══════════════╪══════╪════════╪═══════╪═══╪═══════════════╪═══════════╪═══════════╪══════════════╡\n",
       "│ 038441c925bb ┆ 0    ┆ 0      ┆ 0     ┆ … ┆ 0.0           ┆ -0.707107 ┆ -0.707107 ┆ 0            │\n",
       "│ 038441c925bb ┆ 1    ┆ 0      ┆ 0     ┆ … ┆ -0.043478     ┆ -0.707107 ┆ -0.707107 ┆ 0            │\n",
       "│ 038441c925bb ┆ 2    ┆ 0      ┆ 0     ┆ … ┆ 0.021739      ┆ -0.707107 ┆ -0.707107 ┆ 0            │\n",
       "│ 038441c925bb ┆ 3    ┆ 0      ┆ 0     ┆ … ┆ -0.065218     ┆ -0.707107 ┆ -0.707107 ┆ 0            │\n",
       "│ 038441c925bb ┆ 4    ┆ 0      ┆ 0     ┆ … ┆ 0.043479      ┆ -0.707107 ┆ -0.707107 ┆ 0            │\n",
       "└──────────────┴──────┴────────┴───────┴───┴───────────────┴───────────┴───────────┴──────────────┘"
      ]
     },
     "metadata": {},
     "output_type": "display_data"
    },
    {
     "data": {
      "application/vnd.jupyter.widget-view+json": {
       "model_id": "19f5b518edf74474a25de9dfc7684daf",
       "version_major": 2,
       "version_minor": 0
      },
      "text/plain": [
       "0it [00:00, ?it/s]"
      ]
     },
     "metadata": {},
     "output_type": "display_data"
    },
    {
     "data": {
      "application/vnd.jupyter.widget-view+json": {
       "model_id": "208a95c8e04a4c0985eb9ca2711ce4d0",
       "version_major": 2,
       "version_minor": 0
      },
      "text/plain": [
       "0it [00:00, ?it/s]"
      ]
     },
     "metadata": {},
     "output_type": "display_data"
    },
    {
     "name": "stderr",
     "output_type": "stream",
     "text": [
      "n_params: 730915\n"
     ]
    },
    {
     "data": {
      "application/vnd.jupyter.widget-view+json": {
       "model_id": "dc5497672cbb4079a0daa6359be72c9e",
       "version_major": 2,
       "version_minor": 0
      },
      "text/plain": [
       "  0%|          | 0/30 [00:00<?, ?it/s]"
      ]
     },
     "metadata": {},
     "output_type": "display_data"
    },
    {
     "data": {
      "application/vnd.jupyter.widget-view+json": {
       "model_id": "af7893b235c3434388d1ba4fe5447ea2",
       "version_major": 2,
       "version_minor": 0
      },
      "text/plain": [
       "  0%|          | 0/187 [00:00<?, ?it/s]"
      ]
     },
     "metadata": {},
     "output_type": "display_data"
    },
    {
     "name": "stderr",
     "output_type": "stream",
     "text": [
      "epoch:0/30 | train_loss: 0.45281 valid_loss: 0.17562 valid_score: 0.64504\n"
     ]
    },
    {
     "data": {
      "application/vnd.jupyter.widget-view+json": {
       "model_id": "e964d4a889784952a2fe28c4059a922a",
       "version_major": 2,
       "version_minor": 0
      },
      "text/plain": [
       "  0%|          | 0/187 [00:00<?, ?it/s]"
      ]
     },
     "metadata": {},
     "output_type": "display_data"
    },
    {
     "name": "stderr",
     "output_type": "stream",
     "text": [
      "epoch:1/30 | train_loss: 0.18126 valid_loss: 0.13322 valid_score: 0.74087\n"
     ]
    },
    {
     "data": {
      "application/vnd.jupyter.widget-view+json": {
       "model_id": "ef5b5d9124184f2e839bddf433312596",
       "version_major": 2,
       "version_minor": 0
      },
      "text/plain": [
       "  0%|          | 0/187 [00:00<?, ?it/s]"
      ]
     },
     "metadata": {},
     "output_type": "display_data"
    },
    {
     "name": "stderr",
     "output_type": "stream",
     "text": [
      "epoch:2/30 | train_loss: 0.13950 valid_loss: 0.12953 valid_score: 0.75215\n"
     ]
    },
    {
     "data": {
      "application/vnd.jupyter.widget-view+json": {
       "model_id": "5858e36831234b83bc193cb7d2b64f4c",
       "version_major": 2,
       "version_minor": 0
      },
      "text/plain": [
       "  0%|          | 0/187 [00:00<?, ?it/s]"
      ]
     },
     "metadata": {},
     "output_type": "display_data"
    },
    {
     "name": "stderr",
     "output_type": "stream",
     "text": [
      "epoch:3/30 | train_loss: 0.12961 valid_loss: 0.12505 valid_score: 0.76093\n"
     ]
    },
    {
     "data": {
      "application/vnd.jupyter.widget-view+json": {
       "model_id": "6afbaa00f8bf48e69cd3aeb944fc4a06",
       "version_major": 2,
       "version_minor": 0
      },
      "text/plain": [
       "  0%|          | 0/187 [00:00<?, ?it/s]"
      ]
     },
     "metadata": {},
     "output_type": "display_data"
    },
    {
     "name": "stderr",
     "output_type": "stream",
     "text": [
      "epoch:4/30 | train_loss: 0.12483 valid_loss: 0.11844 valid_score: 0.77654\n"
     ]
    },
    {
     "data": {
      "application/vnd.jupyter.widget-view+json": {
       "model_id": "0cf88e469bfa455abcbaf55f7559a281",
       "version_major": 2,
       "version_minor": 0
      },
      "text/plain": [
       "  0%|          | 0/187 [00:00<?, ?it/s]"
      ]
     },
     "metadata": {},
     "output_type": "display_data"
    },
    {
     "name": "stderr",
     "output_type": "stream",
     "text": [
      "epoch:5/30 | train_loss: 0.12082 valid_loss: 0.12696 valid_score: 0.76429\n"
     ]
    },
    {
     "data": {
      "application/vnd.jupyter.widget-view+json": {
       "model_id": "924ea53272d14f62914b6a73e1e2ebad",
       "version_major": 2,
       "version_minor": 0
      },
      "text/plain": [
       "  0%|          | 0/187 [00:00<?, ?it/s]"
      ]
     },
     "metadata": {},
     "output_type": "display_data"
    },
    {
     "name": "stderr",
     "output_type": "stream",
     "text": [
      "epoch:6/30 | train_loss: 0.11864 valid_loss: 0.12392 valid_score: 0.74992\n"
     ]
    },
    {
     "data": {
      "application/vnd.jupyter.widget-view+json": {
       "model_id": "6a4f710dab20455d9943b8ff6d1d7e09",
       "version_major": 2,
       "version_minor": 0
      },
      "text/plain": [
       "  0%|          | 0/187 [00:00<?, ?it/s]"
      ]
     },
     "metadata": {},
     "output_type": "display_data"
    },
    {
     "name": "stderr",
     "output_type": "stream",
     "text": [
      "epoch:7/30 | train_loss: 0.11932 valid_loss: 0.11466 valid_score: 0.78041\n"
     ]
    },
    {
     "data": {
      "application/vnd.jupyter.widget-view+json": {
       "model_id": "3e91c3e4a4d94ef5b3bf63b904fa5f2b",
       "version_major": 2,
       "version_minor": 0
      },
      "text/plain": [
       "  0%|          | 0/187 [00:00<?, ?it/s]"
      ]
     },
     "metadata": {},
     "output_type": "display_data"
    },
    {
     "name": "stderr",
     "output_type": "stream",
     "text": [
      "epoch:8/30 | train_loss: 0.11374 valid_loss: 0.11148 valid_score: 0.78711\n"
     ]
    },
    {
     "data": {
      "application/vnd.jupyter.widget-view+json": {
       "model_id": "600122c31ed649ea980225e474b93793",
       "version_major": 2,
       "version_minor": 0
      },
      "text/plain": [
       "  0%|          | 0/187 [00:00<?, ?it/s]"
      ]
     },
     "metadata": {},
     "output_type": "display_data"
    },
    {
     "name": "stderr",
     "output_type": "stream",
     "text": [
      "epoch:9/30 | train_loss: 0.11335 valid_loss: 0.11018 valid_score: 0.78823\n"
     ]
    },
    {
     "data": {
      "application/vnd.jupyter.widget-view+json": {
       "model_id": "09b69aa530384415a310cb2f6c0cb91a",
       "version_major": 2,
       "version_minor": 0
      },
      "text/plain": [
       "  0%|          | 0/187 [00:00<?, ?it/s]"
      ]
     },
     "metadata": {},
     "output_type": "display_data"
    },
    {
     "name": "stderr",
     "output_type": "stream",
     "text": [
      "epoch:10/30 | train_loss: 0.11051 valid_loss: 0.11394 valid_score: 0.77382\n"
     ]
    },
    {
     "data": {
      "application/vnd.jupyter.widget-view+json": {
       "model_id": "6312c1cc3ed94fb19f1aca2f25c429d4",
       "version_major": 2,
       "version_minor": 0
      },
      "text/plain": [
       "  0%|          | 0/187 [00:00<?, ?it/s]"
      ]
     },
     "metadata": {},
     "output_type": "display_data"
    },
    {
     "name": "stderr",
     "output_type": "stream",
     "text": [
      "epoch:11/30 | train_loss: 0.10683 valid_loss: 0.11524 valid_score: 0.78166\n"
     ]
    },
    {
     "data": {
      "application/vnd.jupyter.widget-view+json": {
       "model_id": "53ce937e15fc4048a75e3f098614cef1",
       "version_major": 2,
       "version_minor": 0
      },
      "text/plain": [
       "  0%|          | 0/187 [00:00<?, ?it/s]"
      ]
     },
     "metadata": {},
     "output_type": "display_data"
    },
    {
     "name": "stderr",
     "output_type": "stream",
     "text": [
      "epoch:12/30 | train_loss: 0.10726 valid_loss: 0.11098 valid_score: 0.78099\n"
     ]
    },
    {
     "data": {
      "application/vnd.jupyter.widget-view+json": {
       "model_id": "d6953fe8597048b8895938368a025bd3",
       "version_major": 2,
       "version_minor": 0
      },
      "text/plain": [
       "  0%|          | 0/187 [00:00<?, ?it/s]"
      ]
     },
     "metadata": {},
     "output_type": "display_data"
    },
    {
     "name": "stderr",
     "output_type": "stream",
     "text": [
      "epoch:13/30 | train_loss: 0.10482 valid_loss: 0.11192 valid_score: 0.78502\n"
     ]
    },
    {
     "data": {
      "application/vnd.jupyter.widget-view+json": {
       "model_id": "3393b11d4ce1487d96349253534090ca",
       "version_major": 2,
       "version_minor": 0
      },
      "text/plain": [
       "  0%|          | 0/187 [00:00<?, ?it/s]"
      ]
     },
     "metadata": {},
     "output_type": "display_data"
    },
    {
     "name": "stderr",
     "output_type": "stream",
     "text": [
      "epoch:14/30 | train_loss: 0.10148 valid_loss: 0.10706 valid_score: 0.79215\n"
     ]
    },
    {
     "data": {
      "application/vnd.jupyter.widget-view+json": {
       "model_id": "70802f7196e14b8284f56bffd82efc7b",
       "version_major": 2,
       "version_minor": 0
      },
      "text/plain": [
       "  0%|          | 0/187 [00:00<?, ?it/s]"
      ]
     },
     "metadata": {},
     "output_type": "display_data"
    },
    {
     "name": "stderr",
     "output_type": "stream",
     "text": [
      "epoch:15/30 | train_loss: 0.10015 valid_loss: 0.10804 valid_score: 0.79522\n"
     ]
    },
    {
     "data": {
      "application/vnd.jupyter.widget-view+json": {
       "model_id": "d9661ee0579e4447984e42209a9045e1",
       "version_major": 2,
       "version_minor": 0
      },
      "text/plain": [
       "  0%|          | 0/187 [00:00<?, ?it/s]"
      ]
     },
     "metadata": {},
     "output_type": "display_data"
    },
    {
     "name": "stderr",
     "output_type": "stream",
     "text": [
      "epoch:16/30 | train_loss: 0.09985 valid_loss: 0.10811 valid_score: 0.79238\n"
     ]
    },
    {
     "data": {
      "application/vnd.jupyter.widget-view+json": {
       "model_id": "dc07ccad32e24f23a2363535483d5af2",
       "version_major": 2,
       "version_minor": 0
      },
      "text/plain": [
       "  0%|          | 0/187 [00:00<?, ?it/s]"
      ]
     },
     "metadata": {},
     "output_type": "display_data"
    },
    {
     "name": "stderr",
     "output_type": "stream",
     "text": [
      "epoch:17/30 | train_loss: 0.09695 valid_loss: 0.10694 valid_score: 0.79776\n"
     ]
    },
    {
     "data": {
      "application/vnd.jupyter.widget-view+json": {
       "model_id": "f76410a20f4b4bcea24f457205793e53",
       "version_major": 2,
       "version_minor": 0
      },
      "text/plain": [
       "  0%|          | 0/187 [00:00<?, ?it/s]"
      ]
     },
     "metadata": {},
     "output_type": "display_data"
    },
    {
     "name": "stderr",
     "output_type": "stream",
     "text": [
      "epoch:18/30 | train_loss: 0.09342 valid_loss: 0.10584 valid_score: 0.80061\n"
     ]
    },
    {
     "data": {
      "application/vnd.jupyter.widget-view+json": {
       "model_id": "ce560d4bedb3479884d801f4dd167e3a",
       "version_major": 2,
       "version_minor": 0
      },
      "text/plain": [
       "  0%|          | 0/187 [00:00<?, ?it/s]"
      ]
     },
     "metadata": {},
     "output_type": "display_data"
    },
    {
     "name": "stderr",
     "output_type": "stream",
     "text": [
      "epoch:19/30 | train_loss: 0.09199 valid_loss: 0.10532 valid_score: 0.80203\n"
     ]
    },
    {
     "data": {
      "application/vnd.jupyter.widget-view+json": {
       "model_id": "7d9b8bb650e14ed5a7ad2e1c810e4940",
       "version_major": 2,
       "version_minor": 0
      },
      "text/plain": [
       "  0%|          | 0/187 [00:00<?, ?it/s]"
      ]
     },
     "metadata": {},
     "output_type": "display_data"
    },
    {
     "name": "stderr",
     "output_type": "stream",
     "text": [
      "epoch:20/30 | train_loss: 0.09003 valid_loss: 0.10639 valid_score: 0.80509\n"
     ]
    },
    {
     "data": {
      "application/vnd.jupyter.widget-view+json": {
       "model_id": "cc10239064c14e01952525070c15e582",
       "version_major": 2,
       "version_minor": 0
      },
      "text/plain": [
       "  0%|          | 0/187 [00:00<?, ?it/s]"
      ]
     },
     "metadata": {},
     "output_type": "display_data"
    },
    {
     "name": "stderr",
     "output_type": "stream",
     "text": [
      "epoch:21/30 | train_loss: 0.08699 valid_loss: 0.10696 valid_score: 0.79761\n"
     ]
    },
    {
     "data": {
      "application/vnd.jupyter.widget-view+json": {
       "model_id": "851b86a9bc9048729304974a52cb7717",
       "version_major": 2,
       "version_minor": 0
      },
      "text/plain": [
       "  0%|          | 0/187 [00:00<?, ?it/s]"
      ]
     },
     "metadata": {},
     "output_type": "display_data"
    },
    {
     "name": "stderr",
     "output_type": "stream",
     "text": [
      "epoch:22/30 | train_loss: 0.08555 valid_loss: 0.10979 valid_score: 0.80163\n"
     ]
    },
    {
     "data": {
      "application/vnd.jupyter.widget-view+json": {
       "model_id": "d0262e66c61f465aa0792ed8c45d5c41",
       "version_major": 2,
       "version_minor": 0
      },
      "text/plain": [
       "  0%|          | 0/187 [00:00<?, ?it/s]"
      ]
     },
     "metadata": {},
     "output_type": "display_data"
    },
    {
     "name": "stderr",
     "output_type": "stream",
     "text": [
      "epoch:23/30 | train_loss: 0.08361 valid_loss: 0.10724 valid_score: 0.79712\n"
     ]
    },
    {
     "data": {
      "application/vnd.jupyter.widget-view+json": {
       "model_id": "945994b92df5439e84f9c370a829f107",
       "version_major": 2,
       "version_minor": 0
      },
      "text/plain": [
       "  0%|          | 0/187 [00:00<?, ?it/s]"
      ]
     },
     "metadata": {},
     "output_type": "display_data"
    },
    {
     "name": "stderr",
     "output_type": "stream",
     "text": [
      "epoch:24/30 | train_loss: 0.08199 valid_loss: 0.10872 valid_score: 0.79798\n"
     ]
    },
    {
     "data": {
      "application/vnd.jupyter.widget-view+json": {
       "model_id": "23fd8900c4f74e69bdd50dfb6c882b76",
       "version_major": 2,
       "version_minor": 0
      },
      "text/plain": [
       "  0%|          | 0/187 [00:00<?, ?it/s]"
      ]
     },
     "metadata": {},
     "output_type": "display_data"
    },
    {
     "name": "stderr",
     "output_type": "stream",
     "text": [
      "epoch:25/30 | train_loss: 0.08053 valid_loss: 0.11062 valid_score: 0.79637\n"
     ]
    },
    {
     "data": {
      "application/vnd.jupyter.widget-view+json": {
       "model_id": "0959408823c64a33bae1190b5d8d83e0",
       "version_major": 2,
       "version_minor": 0
      },
      "text/plain": [
       "  0%|          | 0/187 [00:00<?, ?it/s]"
      ]
     },
     "metadata": {},
     "output_type": "display_data"
    },
    {
     "name": "stderr",
     "output_type": "stream",
     "text": [
      "epoch:26/30 | train_loss: 0.07934 valid_loss: 0.11157 valid_score: 0.79542\n"
     ]
    },
    {
     "data": {
      "application/vnd.jupyter.widget-view+json": {
       "model_id": "9fc1921515fd424e895973c8c90b87bb",
       "version_major": 2,
       "version_minor": 0
      },
      "text/plain": [
       "  0%|          | 0/187 [00:00<?, ?it/s]"
      ]
     },
     "metadata": {},
     "output_type": "display_data"
    },
    {
     "name": "stderr",
     "output_type": "stream",
     "text": [
      "epoch:27/30 | train_loss: 0.07880 valid_loss: 0.11116 valid_score: 0.79584\n"
     ]
    },
    {
     "data": {
      "application/vnd.jupyter.widget-view+json": {
       "model_id": "5269d64b33e64180acfc07b12e38f693",
       "version_major": 2,
       "version_minor": 0
      },
      "text/plain": [
       "  0%|          | 0/187 [00:00<?, ?it/s]"
      ]
     },
     "metadata": {},
     "output_type": "display_data"
    },
    {
     "name": "stderr",
     "output_type": "stream",
     "text": [
      "epoch:28/30 | train_loss: 0.07820 valid_loss: 0.11132 valid_score: 0.79698\n"
     ]
    },
    {
     "data": {
      "application/vnd.jupyter.widget-view+json": {
       "model_id": "391b31ffa1844bd3a4104d0b7547a533",
       "version_major": 2,
       "version_minor": 0
      },
      "text/plain": [
       "  0%|          | 0/187 [00:00<?, ?it/s]"
      ]
     },
     "metadata": {},
     "output_type": "display_data"
    },
    {
     "name": "stderr",
     "output_type": "stream",
     "text": [
      "Early stopping\n",
      "==============================\n",
      "fold 3 | best_score: 0.80203 best_loss: 0.10532\n",
      "==============================\n",
      "================================================== Fold 4 ==================================================\n"
     ]
    },
    {
     "data": {
      "text/html": [
       "<div><style>\n",
       ".dataframe > thead > tr > th,\n",
       ".dataframe > tbody > tr > td {\n",
       "  text-align: right;\n",
       "  white-space: pre-wrap;\n",
       "}\n",
       "</style>\n",
       "<small>shape: (5, 12)</small><table border=\"1\" class=\"dataframe\"><thead><tr><th>series_id</th><th>step</th><th>asleep</th><th>onset</th><th>wakeup</th><th>anglez</th><th>enmo</th><th>anglez_diff_pos</th><th>enmo_diff_pos</th><th>hour_sin</th><th>hour_cos</th><th>similar_wave</th></tr><tr><td>str</td><td>u32</td><td>i32</td><td>i32</td><td>i32</td><td>f64</td><td>f64</td><td>f64</td><td>f64</td><td>f64</td><td>f64</td><td>i8</td></tr></thead><tbody><tr><td>&quot;038441c925bb&quot;</td><td>0</td><td>0</td><td>0</td><td>0</td><td>0.289854</td><td>0.101176</td><td>0.0</td><td>0.0</td><td>-0.707107</td><td>-0.707107</td><td>0</td></tr><tr><td>&quot;038441c925bb&quot;</td><td>1</td><td>0</td><td>0</td><td>0</td><td>0.289856</td><td>0.096471</td><td>0.000045</td><td>-0.042553</td><td>-0.707107</td><td>-0.707107</td><td>0</td></tr><tr><td>&quot;038441c925bb&quot;</td><td>2</td><td>0</td><td>0</td><td>0</td><td>0.289861</td><td>0.098824</td><td>0.00009</td><td>0.021277</td><td>-0.707107</td><td>-0.707107</td><td>0</td></tr><tr><td>&quot;038441c925bb&quot;</td><td>3</td><td>0</td><td>0</td><td>0</td><td>0.289856</td><td>0.091765</td><td>-0.00009</td><td>-0.06383</td><td>-0.707107</td><td>-0.707107</td><td>0</td></tr><tr><td>&quot;038441c925bb&quot;</td><td>4</td><td>0</td><td>0</td><td>0</td><td>0.289856</td><td>0.096471</td><td>0.0</td><td>0.042554</td><td>-0.707107</td><td>-0.707107</td><td>0</td></tr></tbody></table></div>"
      ],
      "text/plain": [
       "shape: (5, 12)\n",
       "┌──────────────┬──────┬────────┬───────┬───┬───────────────┬───────────┬───────────┬──────────────┐\n",
       "│ series_id    ┆ step ┆ asleep ┆ onset ┆ … ┆ enmo_diff_pos ┆ hour_sin  ┆ hour_cos  ┆ similar_wave │\n",
       "│ ---          ┆ ---  ┆ ---    ┆ ---   ┆   ┆ ---           ┆ ---       ┆ ---       ┆ ---          │\n",
       "│ str          ┆ u32  ┆ i32    ┆ i32   ┆   ┆ f64           ┆ f64       ┆ f64       ┆ i8           │\n",
       "╞══════════════╪══════╪════════╪═══════╪═══╪═══════════════╪═══════════╪═══════════╪══════════════╡\n",
       "│ 038441c925bb ┆ 0    ┆ 0      ┆ 0     ┆ … ┆ 0.0           ┆ -0.707107 ┆ -0.707107 ┆ 0            │\n",
       "│ 038441c925bb ┆ 1    ┆ 0      ┆ 0     ┆ … ┆ -0.042553     ┆ -0.707107 ┆ -0.707107 ┆ 0            │\n",
       "│ 038441c925bb ┆ 2    ┆ 0      ┆ 0     ┆ … ┆ 0.021277      ┆ -0.707107 ┆ -0.707107 ┆ 0            │\n",
       "│ 038441c925bb ┆ 3    ┆ 0      ┆ 0     ┆ … ┆ -0.06383      ┆ -0.707107 ┆ -0.707107 ┆ 0            │\n",
       "│ 038441c925bb ┆ 4    ┆ 0      ┆ 0     ┆ … ┆ 0.042554      ┆ -0.707107 ┆ -0.707107 ┆ 0            │\n",
       "└──────────────┴──────┴────────┴───────┴───┴───────────────┴───────────┴───────────┴──────────────┘"
      ]
     },
     "metadata": {},
     "output_type": "display_data"
    },
    {
     "data": {
      "application/vnd.jupyter.widget-view+json": {
       "model_id": "478cc34e7f3f4b0785ca6e6ed4bdd132",
       "version_major": 2,
       "version_minor": 0
      },
      "text/plain": [
       "0it [00:00, ?it/s]"
      ]
     },
     "metadata": {},
     "output_type": "display_data"
    },
    {
     "data": {
      "application/vnd.jupyter.widget-view+json": {
       "model_id": "62057eec40e747fa86e76d56c6e4acae",
       "version_major": 2,
       "version_minor": 0
      },
      "text/plain": [
       "0it [00:00, ?it/s]"
      ]
     },
     "metadata": {},
     "output_type": "display_data"
    },
    {
     "name": "stderr",
     "output_type": "stream",
     "text": [
      "n_params: 730915\n"
     ]
    },
    {
     "data": {
      "application/vnd.jupyter.widget-view+json": {
       "model_id": "96537ebae56e4664ad31a547b64bcafd",
       "version_major": 2,
       "version_minor": 0
      },
      "text/plain": [
       "  0%|          | 0/30 [00:00<?, ?it/s]"
      ]
     },
     "metadata": {},
     "output_type": "display_data"
    },
    {
     "data": {
      "application/vnd.jupyter.widget-view+json": {
       "model_id": "cd69c985c5594c81b024892446796288",
       "version_major": 2,
       "version_minor": 0
      },
      "text/plain": [
       "  0%|          | 0/189 [00:00<?, ?it/s]"
      ]
     },
     "metadata": {},
     "output_type": "display_data"
    },
    {
     "name": "stderr",
     "output_type": "stream",
     "text": [
      "epoch:0/30 | train_loss: 0.38417 valid_loss: 0.23483 valid_score: 0.60796\n"
     ]
    },
    {
     "data": {
      "application/vnd.jupyter.widget-view+json": {
       "model_id": "e4cbebffdf414493a700927b4f431a16",
       "version_major": 2,
       "version_minor": 0
      },
      "text/plain": [
       "  0%|          | 0/189 [00:00<?, ?it/s]"
      ]
     },
     "metadata": {},
     "output_type": "display_data"
    },
    {
     "name": "stderr",
     "output_type": "stream",
     "text": [
      "epoch:1/30 | train_loss: 0.15920 valid_loss: 0.18742 valid_score: 0.67856\n"
     ]
    },
    {
     "data": {
      "application/vnd.jupyter.widget-view+json": {
       "model_id": "bc7004d451854804b26c520b7343e725",
       "version_major": 2,
       "version_minor": 0
      },
      "text/plain": [
       "  0%|          | 0/189 [00:00<?, ?it/s]"
      ]
     },
     "metadata": {},
     "output_type": "display_data"
    },
    {
     "name": "stderr",
     "output_type": "stream",
     "text": [
      "epoch:2/30 | train_loss: 0.13711 valid_loss: 0.18638 valid_score: 0.69629\n"
     ]
    },
    {
     "data": {
      "application/vnd.jupyter.widget-view+json": {
       "model_id": "d171e74f88454c9c92f623db861918a9",
       "version_major": 2,
       "version_minor": 0
      },
      "text/plain": [
       "  0%|          | 0/189 [00:00<?, ?it/s]"
      ]
     },
     "metadata": {},
     "output_type": "display_data"
    },
    {
     "name": "stderr",
     "output_type": "stream",
     "text": [
      "epoch:3/30 | train_loss: 0.12827 valid_loss: 0.19500 valid_score: 0.65865\n"
     ]
    },
    {
     "data": {
      "application/vnd.jupyter.widget-view+json": {
       "model_id": "4c77b8a323c8454eb5011cd7ed063a50",
       "version_major": 2,
       "version_minor": 0
      },
      "text/plain": [
       "  0%|          | 0/189 [00:00<?, ?it/s]"
      ]
     },
     "metadata": {},
     "output_type": "display_data"
    },
    {
     "name": "stderr",
     "output_type": "stream",
     "text": [
      "epoch:4/30 | train_loss: 0.12450 valid_loss: 0.16799 valid_score: 0.72520\n"
     ]
    },
    {
     "data": {
      "application/vnd.jupyter.widget-view+json": {
       "model_id": "9eb349826e5f4c24986aeb667e86e2f0",
       "version_major": 2,
       "version_minor": 0
      },
      "text/plain": [
       "  0%|          | 0/189 [00:00<?, ?it/s]"
      ]
     },
     "metadata": {},
     "output_type": "display_data"
    },
    {
     "name": "stderr",
     "output_type": "stream",
     "text": [
      "epoch:5/30 | train_loss: 0.11332 valid_loss: 0.20435 valid_score: 0.72101\n"
     ]
    },
    {
     "data": {
      "application/vnd.jupyter.widget-view+json": {
       "model_id": "aff6fd554fb24b03891ef098be0992d7",
       "version_major": 2,
       "version_minor": 0
      },
      "text/plain": [
       "  0%|          | 0/189 [00:00<?, ?it/s]"
      ]
     },
     "metadata": {},
     "output_type": "display_data"
    },
    {
     "name": "stderr",
     "output_type": "stream",
     "text": [
      "epoch:6/30 | train_loss: 0.11622 valid_loss: 0.15647 valid_score: 0.72318\n"
     ]
    },
    {
     "data": {
      "application/vnd.jupyter.widget-view+json": {
       "model_id": "25902f91ea834fc6a5a801ae8e9ed0cd",
       "version_major": 2,
       "version_minor": 0
      },
      "text/plain": [
       "  0%|          | 0/189 [00:00<?, ?it/s]"
      ]
     },
     "metadata": {},
     "output_type": "display_data"
    },
    {
     "name": "stderr",
     "output_type": "stream",
     "text": [
      "epoch:7/30 | train_loss: 0.10951 valid_loss: 0.17549 valid_score: 0.71162\n"
     ]
    },
    {
     "data": {
      "application/vnd.jupyter.widget-view+json": {
       "model_id": "34136805991a4e0d93975c2bbd939400",
       "version_major": 2,
       "version_minor": 0
      },
      "text/plain": [
       "  0%|          | 0/189 [00:00<?, ?it/s]"
      ]
     },
     "metadata": {},
     "output_type": "display_data"
    },
    {
     "name": "stderr",
     "output_type": "stream",
     "text": [
      "epoch:8/30 | train_loss: 0.10678 valid_loss: 0.16163 valid_score: 0.73228\n"
     ]
    },
    {
     "data": {
      "application/vnd.jupyter.widget-view+json": {
       "model_id": "66eb980df9324eb2af79a3a35f479dc7",
       "version_major": 2,
       "version_minor": 0
      },
      "text/plain": [
       "  0%|          | 0/189 [00:00<?, ?it/s]"
      ]
     },
     "metadata": {},
     "output_type": "display_data"
    },
    {
     "name": "stderr",
     "output_type": "stream",
     "text": [
      "epoch:9/30 | train_loss: 0.10342 valid_loss: 0.16145 valid_score: 0.74138\n"
     ]
    },
    {
     "data": {
      "application/vnd.jupyter.widget-view+json": {
       "model_id": "7a0a32b0d66d45e9be036a1864efa9ec",
       "version_major": 2,
       "version_minor": 0
      },
      "text/plain": [
       "  0%|          | 0/189 [00:00<?, ?it/s]"
      ]
     },
     "metadata": {},
     "output_type": "display_data"
    },
    {
     "name": "stderr",
     "output_type": "stream",
     "text": [
      "epoch:10/30 | train_loss: 0.10456 valid_loss: 0.16382 valid_score: 0.72889\n"
     ]
    },
    {
     "data": {
      "application/vnd.jupyter.widget-view+json": {
       "model_id": "620943213b4e45509481a86b49d34d1d",
       "version_major": 2,
       "version_minor": 0
      },
      "text/plain": [
       "  0%|          | 0/189 [00:00<?, ?it/s]"
      ]
     },
     "metadata": {},
     "output_type": "display_data"
    },
    {
     "name": "stderr",
     "output_type": "stream",
     "text": [
      "epoch:11/30 | train_loss: 0.10194 valid_loss: 0.16673 valid_score: 0.74661\n"
     ]
    },
    {
     "data": {
      "application/vnd.jupyter.widget-view+json": {
       "model_id": "2c744171cc564eb1924277b6b175f351",
       "version_major": 2,
       "version_minor": 0
      },
      "text/plain": [
       "  0%|          | 0/189 [00:00<?, ?it/s]"
      ]
     },
     "metadata": {},
     "output_type": "display_data"
    },
    {
     "name": "stderr",
     "output_type": "stream",
     "text": [
      "epoch:12/30 | train_loss: 0.09993 valid_loss: 0.16118 valid_score: 0.74076\n"
     ]
    },
    {
     "data": {
      "application/vnd.jupyter.widget-view+json": {
       "model_id": "ad3bc4bfbefc45eba33f160609f4c741",
       "version_major": 2,
       "version_minor": 0
      },
      "text/plain": [
       "  0%|          | 0/189 [00:00<?, ?it/s]"
      ]
     },
     "metadata": {},
     "output_type": "display_data"
    },
    {
     "name": "stderr",
     "output_type": "stream",
     "text": [
      "epoch:13/30 | train_loss: 0.09771 valid_loss: 0.14708 valid_score: 0.74820\n"
     ]
    },
    {
     "data": {
      "application/vnd.jupyter.widget-view+json": {
       "model_id": "d35ed44e9afd4ec991660d54427615b4",
       "version_major": 2,
       "version_minor": 0
      },
      "text/plain": [
       "  0%|          | 0/189 [00:00<?, ?it/s]"
      ]
     },
     "metadata": {},
     "output_type": "display_data"
    },
    {
     "name": "stderr",
     "output_type": "stream",
     "text": [
      "epoch:14/30 | train_loss: 0.09494 valid_loss: 0.17360 valid_score: 0.73616\n"
     ]
    },
    {
     "data": {
      "application/vnd.jupyter.widget-view+json": {
       "model_id": "151e0d242bdc4fcdad1b425d7c826c47",
       "version_major": 2,
       "version_minor": 0
      },
      "text/plain": [
       "  0%|          | 0/189 [00:00<?, ?it/s]"
      ]
     },
     "metadata": {},
     "output_type": "display_data"
    },
    {
     "name": "stderr",
     "output_type": "stream",
     "text": [
      "epoch:15/30 | train_loss: 0.09365 valid_loss: 0.15831 valid_score: 0.74654\n"
     ]
    },
    {
     "data": {
      "application/vnd.jupyter.widget-view+json": {
       "model_id": "27799ad064e44a3a8111987399d1a9bc",
       "version_major": 2,
       "version_minor": 0
      },
      "text/plain": [
       "  0%|          | 0/189 [00:00<?, ?it/s]"
      ]
     },
     "metadata": {},
     "output_type": "display_data"
    },
    {
     "name": "stderr",
     "output_type": "stream",
     "text": [
      "epoch:16/30 | train_loss: 0.09144 valid_loss: 0.17494 valid_score: 0.73846\n"
     ]
    },
    {
     "data": {
      "application/vnd.jupyter.widget-view+json": {
       "model_id": "51d223726b144e478dea94354eb1cd11",
       "version_major": 2,
       "version_minor": 0
      },
      "text/plain": [
       "  0%|          | 0/189 [00:00<?, ?it/s]"
      ]
     },
     "metadata": {},
     "output_type": "display_data"
    },
    {
     "name": "stderr",
     "output_type": "stream",
     "text": [
      "epoch:17/30 | train_loss: 0.08818 valid_loss: 0.17085 valid_score: 0.74533\n"
     ]
    },
    {
     "data": {
      "application/vnd.jupyter.widget-view+json": {
       "model_id": "d9cfe55d464845f492e4ebf58826e2e7",
       "version_major": 2,
       "version_minor": 0
      },
      "text/plain": [
       "  0%|          | 0/189 [00:00<?, ?it/s]"
      ]
     },
     "metadata": {},
     "output_type": "display_data"
    },
    {
     "name": "stderr",
     "output_type": "stream",
     "text": [
      "epoch:18/30 | train_loss: 0.08599 valid_loss: 0.15558 valid_score: 0.75576\n"
     ]
    },
    {
     "data": {
      "application/vnd.jupyter.widget-view+json": {
       "model_id": "c6b944728ea245f4bcd0c1802a834f25",
       "version_major": 2,
       "version_minor": 0
      },
      "text/plain": [
       "  0%|          | 0/189 [00:00<?, ?it/s]"
      ]
     },
     "metadata": {},
     "output_type": "display_data"
    },
    {
     "name": "stderr",
     "output_type": "stream",
     "text": [
      "epoch:19/30 | train_loss: 0.08449 valid_loss: 0.16045 valid_score: 0.74956\n"
     ]
    },
    {
     "data": {
      "application/vnd.jupyter.widget-view+json": {
       "model_id": "a4a52f653f434fa9976f3f66aa875028",
       "version_major": 2,
       "version_minor": 0
      },
      "text/plain": [
       "  0%|          | 0/189 [00:00<?, ?it/s]"
      ]
     },
     "metadata": {},
     "output_type": "display_data"
    },
    {
     "name": "stderr",
     "output_type": "stream",
     "text": [
      "epoch:20/30 | train_loss: 0.08158 valid_loss: 0.16699 valid_score: 0.74735\n"
     ]
    },
    {
     "data": {
      "application/vnd.jupyter.widget-view+json": {
       "model_id": "0b30035b5c294e4d966180a659cc5f61",
       "version_major": 2,
       "version_minor": 0
      },
      "text/plain": [
       "  0%|          | 0/189 [00:00<?, ?it/s]"
      ]
     },
     "metadata": {},
     "output_type": "display_data"
    },
    {
     "name": "stderr",
     "output_type": "stream",
     "text": [
      "epoch:21/30 | train_loss: 0.07948 valid_loss: 0.17540 valid_score: 0.74452\n"
     ]
    },
    {
     "data": {
      "application/vnd.jupyter.widget-view+json": {
       "model_id": "e54e117e56634102a5025d1b0ad0e68a",
       "version_major": 2,
       "version_minor": 0
      },
      "text/plain": [
       "  0%|          | 0/189 [00:00<?, ?it/s]"
      ]
     },
     "metadata": {},
     "output_type": "display_data"
    },
    {
     "name": "stderr",
     "output_type": "stream",
     "text": [
      "epoch:22/30 | train_loss: 0.07775 valid_loss: 0.17927 valid_score: 0.74577\n"
     ]
    },
    {
     "data": {
      "application/vnd.jupyter.widget-view+json": {
       "model_id": "c32c2ffe23714ab98b23b3c7d5927e1e",
       "version_major": 2,
       "version_minor": 0
      },
      "text/plain": [
       "  0%|          | 0/189 [00:00<?, ?it/s]"
      ]
     },
     "metadata": {},
     "output_type": "display_data"
    },
    {
     "name": "stderr",
     "output_type": "stream",
     "text": [
      "Early stopping\n",
      "==============================\n",
      "fold 4 | best_score: 0.74820 best_loss: 0.14708\n",
      "==============================\n",
      "====================\n",
      "cv:  0.77623 ± 0.02609\n",
      "====================\n",
      "elapsed time: 11797.97sec\n"
     ]
    }
   ],
   "source": [
    "seed_everything(cfg.seed)\n",
    "\n",
    "s = time.time()\n",
    "cv = StratifiedGroupKFold(n_splits=cfg.n_splits, shuffle=True, random_state=cfg.seed)\n",
    "\n",
    "dataset_tmp = CMIDataset(\n",
    "    train_series_df,\n",
    "    max_length=cfg.valid_max_length,\n",
    "    stride=cfg.valid_stride,\n",
    ")\n",
    "oof_df = dataset_tmp.df.select([\"series_id\", \"step\"] + cfg.target_cols).explode(\n",
    "    [\"step\"] + cfg.target_cols\n",
    ")\n",
    "oof = pl.DataFrame(\n",
    "    {\n",
    "        \"series_id\": oof_df[\"series_id\"],\n",
    "        \"step\": oof_df[\"step\"],\n",
    "        \"onset\": 0.0,\n",
    "        \"wakeup\": 0.0,\n",
    "    }\n",
    ").to_pandas()\n",
    "\n",
    "best_scores = []\n",
    "best_epochs = []\n",
    "\n",
    "for i_fold in range(cfg.n_splits):\n",
    "    LOGGER.info(f\"{'='*50} Fold {i_fold} {'='*50}\")\n",
    "\n",
    "    train_id = fold_df[fold_df[\"fold\"] != i_fold][\"series_id\"].to_list()\n",
    "    valid_id = fold_df[fold_df[\"fold\"] == i_fold][\"series_id\"].to_list()\n",
    "\n",
    "    X_train = train_series_df.filter(pl.col(\"series_id\").is_in(train_id))\n",
    "    X_valid = train_series_df.filter(pl.col(\"series_id\").is_in(valid_id))\n",
    "\n",
    "    valid_true_df = train_events_df.filter(pl.col(\"series_id\").is_in(valid_id))\n",
    "\n",
    "    X_train = scaling(X_train, scale_cols, i_fold, is_train=True)\n",
    "    X_valid = scaling(X_valid, scale_cols, i_fold, is_train=False)\n",
    "\n",
    "    display(X_train.head())\n",
    "\n",
    "    train_dataset = CMIDataset(\n",
    "        X_train, max_length=cfg.train_max_length, stride=cfg.train_stride\n",
    "    )\n",
    "    valid_dataset = CMIDataset(\n",
    "        X_valid,\n",
    "        max_length=cfg.valid_max_length,\n",
    "        stride=cfg.valid_stride,\n",
    "    )\n",
    "    valid_pred_df = valid_dataset.df.select(\n",
    "        [\"series_id\", \"step\"] + cfg.target_cols\n",
    "    ).explode([\"step\"] + cfg.target_cols)\n",
    "\n",
    "    train_loader = DataLoader(\n",
    "        train_dataset,\n",
    "        batch_size=cfg.batch_size,\n",
    "        num_workers=cfg.num_workers,\n",
    "        shuffle=True,\n",
    "        drop_last=True,\n",
    "        pin_memory=True,\n",
    "    )\n",
    "    valid_loader = DataLoader(\n",
    "        valid_dataset,\n",
    "        batch_size=cfg.batch_size,\n",
    "        num_workers=cfg.num_workers,\n",
    "        shuffle=False,\n",
    "        drop_last=False,\n",
    "        pin_memory=True,\n",
    "    )\n",
    "\n",
    "    model = CMIModel(feat_cols, hidden_size=32)\n",
    "    model.to(cfg.device)\n",
    "\n",
    "    n_params = get_n_params(model)\n",
    "    LOGGER.info(f\"n_params: {n_params}\")\n",
    "\n",
    "    criterion1 = nn.BCEWithLogitsLoss()\n",
    "\n",
    "    optimizer = torch.optim.AdamW(\n",
    "        model.parameters(),\n",
    "        lr=cfg.lr,\n",
    "        betas=cfg.betas,\n",
    "        eps=cfg.eps,\n",
    "        weight_decay=cfg.weight_decay,\n",
    "    )\n",
    "\n",
    "    num_train_steps = int(len(train_loader) * cfg.n_epochs)\n",
    "    scheduler = get_scheduler(cfg, optimizer, num_train_steps)\n",
    "\n",
    "    scaler = GradScaler(enabled=cfg.apex)\n",
    "\n",
    "    early_stopping = EarlyStopping(\n",
    "        patience=cfg.es_patience,\n",
    "        mode=\"min\",\n",
    "        model_path=f\"{cfg.OUTPUT_EXP_MODEL_PATH}/fold{i_fold}.pth\",\n",
    "        verbose=False,\n",
    "    )\n",
    "\n",
    "    pbar = tqdm(range(cfg.n_epochs))\n",
    "    for epoch in pbar:\n",
    "        train_loss = train_fn(\n",
    "            model,\n",
    "            train_loader,\n",
    "            criterion1,\n",
    "            optimizer,\n",
    "            scheduler,\n",
    "            scaler,\n",
    "        )\n",
    "        valid_loss, valid_score, valid_pred = valid_fn(\n",
    "            model,\n",
    "            valid_true_df,\n",
    "            valid_pred_df,\n",
    "            valid_loader,\n",
    "            criterion1,\n",
    "            epoch,\n",
    "        )\n",
    "\n",
    "        early_stopping(valid_loss, valid_pred, valid_loss, model, epoch)\n",
    "        if early_stopping.early_stop:\n",
    "            LOGGER.info(\"Early stopping\")\n",
    "            break\n",
    "\n",
    "        pbar.set_postfix(\n",
    "            train_loss=train_loss,\n",
    "            valid_loss=valid_loss,\n",
    "            lr=optimizer.param_groups[0][\"lr\"],\n",
    "            es=early_stopping.counter,\n",
    "        )\n",
    "\n",
    "        LOGGER.info(\n",
    "            f\"epoch:{epoch}/{cfg.n_epochs} | train_loss:{train_loss: .5f} valid_loss:{valid_loss: .5f} valid_score:{valid_score: .5f}\"\n",
    "        )\n",
    "\n",
    "    best_pred = early_stopping.best_pred\n",
    "    best_score = get_score(\n",
    "        valid_true_df, valid_pred_df, best_pred, thr=cfg.thr, size=cfg.size\n",
    "    )\n",
    "    best_loss = early_stopping.best_loss\n",
    "\n",
    "    LOGGER.info(\"=\" * 30)\n",
    "    LOGGER.info(\n",
    "        f\"fold {i_fold} | best_score:{best_score: .5f} best_loss:{best_loss: .5f}\"\n",
    "    )\n",
    "    LOGGER.info(\"=\" * 30)\n",
    "    best_scores.append(best_score)\n",
    "    best_epochs.append(early_stopping.best_epoch)\n",
    "\n",
    "    oof.loc[oof[\"series_id\"].isin(valid_id), [\"onset\", \"wakeup\"]] = best_pred.reshape(\n",
    "        -1, 2\n",
    "    )\n",
    "\n",
    "oof = pl.from_pandas(oof)\n",
    "oof = oof.group_by([\"series_id\", \"step\"], maintain_order=True).agg(\n",
    "    (pl.col(\"onset\").mean().alias(\"onset\")),\n",
    "    (pl.col(\"wakeup\").mean().alias(\"wakeup\")),\n",
    ")\n",
    "oof = oof.select([\"series_id\", \"onset\", \"wakeup\"])\n",
    "oof.write_parquet(Path(cfg.OUTPUT_EXP_PREDS_PATH) / \"oof.parquet\")\n",
    "cv_score = get_score(\n",
    "    train_events_df,\n",
    "    oof_df,\n",
    "    oof[[\"onset\", \"wakeup\"]].to_numpy().flatten(),\n",
    "    thr=cfg.thr,\n",
    "    size=cfg.size,\n",
    ")\n",
    "\n",
    "LOGGER.info(\"=\" * 20)\n",
    "LOGGER.info(f\"cv: {cv_score: .5f} ±{np.std(best_scores): .5f}\")\n",
    "LOGGER.info(\"=\" * 20)\n",
    "\n",
    "LOGGER.info(f\"elapsed time: {time.time()-s:.2f}sec\")\n"
   ]
  },
  {
   "cell_type": "code",
   "execution_count": 4,
   "metadata": {},
   "outputs": [
    {
     "name": "stdout",
     "output_type": "stream",
     "text": [
      "Starting upload for file preds.tar\n"
     ]
    },
    {
     "name": "stderr",
     "output_type": "stream",
     "text": [
      "100%|██████████| 922M/922M [01:31<00:00, 10.5MB/s]   \n"
     ]
    },
    {
     "name": "stdout",
     "output_type": "stream",
     "text": [
      "Upload successful: preds.tar (922MB)\n",
      "Starting upload for file model.tar\n"
     ]
    },
    {
     "name": "stderr",
     "output_type": "stream",
     "text": [
      "100%|██████████| 16.1M/16.1M [00:03<00:00, 5.04MB/s]\n"
     ]
    },
    {
     "name": "stdout",
     "output_type": "stream",
     "text": [
      "Upload successful: model.tar (16MB)\n"
     ]
    }
   ],
   "source": [
    "# dataset_create_new(dataset_name=f\"cmi-{cfg.EXP}\", upload_dir=cfg.OUTPUT_EXP_PATH)\n"
   ]
  },
  {
   "cell_type": "code",
   "execution_count": null,
   "metadata": {},
   "outputs": [],
   "source": []
  }
 ],
 "metadata": {
  "kernelspec": {
   "display_name": "Python 3 (ipykernel)",
   "language": "python",
   "name": "python3"
  },
  "language_info": {
   "codemirror_mode": {
    "name": "ipython",
    "version": 3
   },
   "file_extension": ".py",
   "mimetype": "text/x-python",
   "name": "python",
   "nbconvert_exporter": "python",
   "pygments_lexer": "ipython3",
   "version": "3.8.10"
  },
  "orig_nbformat": 4
 },
 "nbformat": 4,
 "nbformat_minor": 2
}
